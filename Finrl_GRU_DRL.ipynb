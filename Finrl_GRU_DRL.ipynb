{
 "cells": [
  {
   "cell_type": "markdown",
   "metadata": {
    "id": "yfv52r2G33jY"
   },
   "source": [
    "<a href=\"https://colab.research.google.com/github/AI4Finance-Foundation/FinRL/blob/master/Stock_NeurIPS2018.ipynb\" target=\"_parent\"><img src=\"https://colab.research.google.com/assets/colab-badge.svg\" alt=\"Open In Colab\"/></a>"
   ]
  },
  {
   "cell_type": "markdown",
   "metadata": {
    "id": "gXaoZs2lh1hi"
   },
   "source": [
    "# Deep Reinforcement Learning for Stock Trading from Scratch: Multiple Stock Trading\n",
    "\n",
    "* **Pytorch Version** \n",
    "\n"
   ]
  },
  {
   "cell_type": "markdown",
   "metadata": {
    "id": "lGunVt8oLCVS"
   },
   "source": [
    "# Content"
   ]
  },
  {
   "cell_type": "markdown",
   "metadata": {
    "id": "HOzAKQ-SLGX6"
   },
   "source": [
    "* [1. Task Description](#0)\n",
    "* [2. Install Python packages](#1)\n",
    "    * [2.1. Install Packages](#1.1)    \n",
    "    * [2.2. A List of Python Packages](#1.2)\n",
    "    * [2.3. Import Packages](#1.3)\n",
    "    * [2.4. Create Folders](#1.4)\n",
    "* [3. Download and Preprocess Data](#2)\n",
    "* [4. Preprocess Data](#3)        \n",
    "    * [4.1. Technical Indicators](#3.1)\n",
    "    * [4.2. Perform Feature Engineering](#3.2)\n",
    "* [5. Build Market Environment in OpenAI Gym-style](#4)  \n",
    "    * [5.1. Data Split](#4.1)  \n",
    "    * [5.3. Environment for Training](#4.2)    \n",
    "* [6. Train DRL Agents](#5)\n",
    "* [7. Backtesting Performance](#6)  \n",
    "    * [7.1. BackTestStats](#6.1)\n",
    "    * [7.2. BackTestPlot](#6.2)   \n",
    "  "
   ]
  },
  {
   "cell_type": "markdown",
   "metadata": {
    "id": "sApkDlD9LIZv"
   },
   "source": [
    "<a id='0'></a>\n",
    "# Part 1. Task Discription"
   ]
  },
  {
   "cell_type": "markdown",
   "metadata": {
    "id": "HjLD2TZSLKZ-"
   },
   "source": [
    "We train a DRL agent for stock trading. This task is modeled as a Markov Decision Process (MDP), and the objective function is maximizing (expected) cumulative return.\n",
    "\n",
    "We specify the state-action-reward as follows:\n",
    "\n",
    "* **State s**: The state space represents an agent's perception of the market environment. Just like a human trader analyzing various information, here our agent passively observes many features and learns by interacting with the market environment (usually by replaying historical data).\n",
    "\n",
    "* **Action a**: The action space includes allowed actions that an agent can take at each state. For example, a ∈ {−1, 0, 1}, where −1, 0, 1 represent\n",
    "selling, holding, and buying. When an action operates multiple shares, a ∈{−k, ..., −1, 0, 1, ..., k}, e.g.. \"Buy\n",
    "10 shares of AAPL\" or \"Sell 10 shares of AAPL\" are 10 or −10, respectively\n",
    "\n",
    "* **Reward function r(s, a, s′)**: Reward is an incentive for an agent to learn a better policy. For example, it can be the change of the portfolio value when taking a at state s and arriving at new state s',  i.e., r(s, a, s′) = v′ − v, where v′ and v represent the portfolio values at state s′ and s, respectively\n",
    "\n",
    "\n",
    "**Market environment**: 30 consituent stocks of Dow Jones Industrial Average (DJIA) index. Accessed at the starting date of the testing period.\n",
    "\n",
    "\n",
    "The data for this case study is obtained from Yahoo Finance API. The data contains Open-High-Low-Close price and volume.\n"
   ]
  },
  {
   "cell_type": "markdown",
   "metadata": {
    "id": "Ffsre789LY08"
   },
   "source": [
    "<a id='1'></a>\n",
    "# Part 2. Install Python Packages"
   ]
  },
  {
   "cell_type": "markdown",
   "metadata": {
    "id": "Uy5_PTmOh1hj"
   },
   "source": [
    "<a id='1.1'></a>\n",
    "## 2.1. Install packages\n"
   ]
  },
  {
   "cell_type": "code",
   "execution_count": null,
   "metadata": {},
   "outputs": [],
   "source": [
    "!pip install Ta-Lib"
   ]
  },
  {
   "cell_type": "code",
   "execution_count": null,
   "metadata": {},
   "outputs": [],
   "source": [
    "pip install Ta-Lib -i https://pypi.tuna.tsinghua.edu.cn/simple"
   ]
  },
  {
   "cell_type": "code",
   "execution_count": null,
   "metadata": {},
   "outputs": [],
   "source": [
    "pip install git+https://github.com/quantopian/pyfolio"
   ]
  },
  {
   "cell_type": "code",
   "execution_count": null,
   "metadata": {
    "colab": {
     "base_uri": "https://localhost:8080/"
    },
    "id": "mPT0ipYE28wL",
    "outputId": "02a8a804-d120-4388-a167-20a81cb33d87"
   },
   "outputs": [],
   "source": [
    "## install finrl library\n",
    "!pip install wrds -i https://pypi.tuna.tsinghua.edu.cn/simple\n",
    "!pip install swig -i https://pypi.tuna.tsinghua.edu.cn/simple\n",
    "!pip install git+https://github.com/AI4Finance-Foundation/FinRL.git "
   ]
  },
  {
   "cell_type": "markdown",
   "metadata": {
    "id": "osBHhVysOEzi"
   },
   "source": [
    "\n",
    "<a id='1.2'></a>\n",
    "## 2.2. A list of Python packages \n",
    "* Yahoo Finance API\n",
    "* pandas\n",
    "* numpy\n",
    "* matplotlib\n",
    "* stockstats\n",
    "* OpenAI gym\n",
    "* stable-baselines\n",
    "* tensorflow\n",
    "* pyfolio"
   ]
  },
  {
   "cell_type": "markdown",
   "metadata": {
    "id": "nGv01K8Sh1hn"
   },
   "source": [
    "<a id='1.3'></a>\n",
    "## 2.3. Import Packages"
   ]
  },
  {
   "cell_type": "code",
   "execution_count": 2,
   "metadata": {},
   "outputs": [],
   "source": [
    "import warnings\n",
    "warnings.filterwarnings(\"ignore\")"
   ]
  },
  {
   "cell_type": "code",
   "execution_count": 3,
   "metadata": {
    "id": "lPqeTTwoh1hn"
   },
   "outputs": [],
   "source": [
    "import pandas as pd\n",
    "import numpy as np\n",
    "import matplotlib\n",
    "import datetime\n",
    "import torch\n",
    "import matplotlib.pyplot as plt\n",
    "import statsmodels.tsa.stattools as ts\n",
    "# matplotlib.use('Agg')\n",
    "from torch import nn\n",
    "from torch import optim\n",
    "from torch.nn import functional as F\n",
    "from torch.utils.data import Dataset, DataLoader\n",
    "\n",
    "%matplotlib inline\n",
    "#from finrl.meta.preprocessor.yahoodownloader import YahooDownloader\n",
    "from finrl.meta.preprocessor.preprocessors import FeatureEngineer, data_split\n",
    "from finrl.meta.env_stock_trading.env_stocktrading_add import StockTradingEnv\n",
    "from finrl.agents.stablebaselines3.models import DRLAgent\n",
    "from stable_baselines3.common.logger import configure\n",
    "from finrl.meta.data_processor import DataProcessor\n",
    "\n",
    "from finrl.plot import backtest_stats, backtest_plot, get_daily_return, get_baseline\n",
    "from pprint import pprint\n",
    "\n",
    "import sys\n",
    "sys.path.append(\"../mha-gru-drl\")\n",
    "\n",
    "import itertools"
   ]
  },
  {
   "cell_type": "markdown",
   "metadata": {
    "id": "T2owTj985RW4"
   },
   "source": [
    "<a id='1.4'></a>\n",
    "## 2.4. Create Folders"
   ]
  },
  {
   "cell_type": "code",
   "execution_count": 4,
   "metadata": {
    "id": "RtUc_ofKmpdy"
   },
   "outputs": [],
   "source": [
    "from finrl import config\n",
    "from finrl import config_tickers\n",
    "import os\n",
    "from finrl.main import check_and_make_directories\n",
    "from finrl.config import (\n",
    "    DATA_SAVE_DIR,\n",
    "    TRAINED_MODEL_DIR,\n",
    "    TENSORBOARD_LOG_DIR,\n",
    "    RESULTS_DIR,\n",
    "    INDICATORS,\n",
    "    TRAIN_START_DATE,\n",
    "    TRAIN_END_DATE,\n",
    "    TEST_START_DATE,\n",
    "    TEST_END_DATE,\n",
    "    TRADE_START_DATE,\n",
    "    TRADE_END_DATE,\n",
    ")\n",
    "check_and_make_directories([DATA_SAVE_DIR, TRAINED_MODEL_DIR, TENSORBOARD_LOG_DIR, RESULTS_DIR])\n",
    "\n"
   ]
  },
  {
   "cell_type": "markdown",
   "metadata": {
    "id": "A289rQWMh1hq"
   },
   "source": [
    "<a id='2'></a>\n",
    "# Part 3. Download Data\n",
    "Yahoo Finance provides stock data, financial news, financial reports, etc. Yahoo Finance is free.\n",
    "* FinRL uses a class **YahooDownloader** in FinRL-Meta to fetch data via Yahoo Finance API\n",
    "* Call Limit: Using the Public API (without authentication), you are limited to 2,000 requests per hour per IP (or up to a total of 48,000 requests a day)."
   ]
  },
  {
   "cell_type": "markdown",
   "metadata": {
    "id": "NPeQ7iS-LoMm"
   },
   "source": [
    "\n",
    "\n",
    "-----\n",
    "class YahooDownloader:\n",
    "    Retrieving daily stock data from\n",
    "    Yahoo Finance API\n",
    "\n",
    "    Attributes\n",
    "    ----------\n",
    "        start_date : str\n",
    "            start date of the data (modified from config.py)\n",
    "        end_date : str\n",
    "            end date of the data (modified from config.py)\n",
    "        ticker_list : list\n",
    "            a list of stock tickers (modified from config.py)\n",
    "\n",
    "    Methods\n",
    "    -------\n",
    "    fetch_data()\n"
   ]
  },
  {
   "cell_type": "code",
   "execution_count": 6,
   "metadata": {
    "colab": {
     "base_uri": "https://localhost:8080/",
     "height": 35
    },
    "id": "h3XJnvrbLp-C",
    "outputId": "3c4dda81-f617-4e9b-f88c-edb502d1500c"
   },
   "outputs": [
    {
     "data": {
      "text/plain": [
       "'2021-02-28'"
      ]
     },
     "execution_count": 6,
     "metadata": {},
     "output_type": "execute_result"
    }
   ],
   "source": [
    "# from config.py, TRAIN_START_DATE is a string\n",
    "TRAIN_START_DATE\n",
    "# from config.py, TRAIN_END_DATE is a string\n",
    "TRAIN_END_DATE"
   ]
  },
  {
   "cell_type": "code",
   "execution_count": 5,
   "metadata": {
    "id": "FUnY8WEfLq3C"
   },
   "outputs": [],
   "source": [
    "TRAIN_START_DATE = '2015-10-10'\n",
    "TRAIN_END_DATE = '2021-02-28'\n",
    "TRADE_START_DATE = '2021-03-01'\n",
    "TRADE_END_DATE = '2022-02-28'\n"
   ]
  },
  {
   "cell_type": "code",
   "execution_count": 7,
   "metadata": {},
   "outputs": [],
   "source": [
    "import tushare as ts\n",
    "ts.set_token('6314756019e50a6672690e5a78b2dbf7cfcd27c6f6a6b48a8cf76dae')\n",
    "pro = ts.pro_api()"
   ]
  },
  {
   "cell_type": "code",
   "execution_count": 8,
   "metadata": {},
   "outputs": [],
   "source": [
    "#选择上证50指数的成分股\n",
    "df_index = pro.index_weight(index_code='000016.sh', start_date='20121010', end_date='20220228')\n",
    "# df_index.to_csv('SSE_50_index_weight.csv',index=0)"
   ]
  },
  {
   "cell_type": "code",
   "execution_count": null,
   "metadata": {},
   "outputs": [],
   "source": [
    "df_index"
   ]
  },
  {
   "cell_type": "code",
   "execution_count": 9,
   "metadata": {},
   "outputs": [
    {
     "name": "stdout",
     "output_type": "stream",
     "text": [
      "['603993.SH' '603259.SH' '601989.SH' '601988.SH' '601939.SH' '601888.SH'\n",
      " '601857.SH' '601818.SH' '601766.SH' '601688.SH' '601668.SH' '601628.SH'\n",
      " '601601.SH' '601398.SH' '601390.SH' '601336.SH' '601328.SH' '601319.SH'\n",
      " '601318.SH' '601288.SH' '601236.SH' '601211.SH' '601186.SH' '601166.SH'\n",
      " '601138.SH' '601111.SH' '601088.SH' '601066.SH' '601012.SH' '600887.SH'\n",
      " '600837.SH' '600703.SH' '600690.SH' '600585.SH' '600547.SH' '600519.SH'\n",
      " '600340.SH' '600309.SH' '600276.SH' '600196.SH' '600104.SH' '600050.SH'\n",
      " '600048.SH' '600036.SH' '600031.SH' '600030.SH' '600028.SH' '600016.SH'\n",
      " '600009.SH' '600000.SH'] 50\n"
     ]
    }
   ],
   "source": [
    "#选择某个时间点的上证50指数成分股作为参考跟踪股票池\n",
    "select_date = '20200228' #自定义的时间点为每个月的月末\n",
    "df_select = df_index[df_index['trade_date']==select_date]\n",
    "sort_SSEindex = df_select['con_code'].unique()\n",
    "print(sort_SSEindex,len(sort_SSEindex))"
   ]
  },
  {
   "cell_type": "code",
   "execution_count": 10,
   "metadata": {},
   "outputs": [
    {
     "name": "stdout",
     "output_type": "stream",
     "text": [
      "['601138.SH', '601336.SH', '600104.SH', '600547.SH', '600837.SH', '601211.SH', '600887.SH', '600340.SH']\n"
     ]
    }
   ],
   "source": [
    "#随机选择成分股中的k只股票\n",
    "import random \n",
    "k = 8\n",
    "selected_tics = random.sample(list(sort_SSEindex),k)\n",
    "print(selected_tics)"
   ]
  },
  {
   "cell_type": "code",
   "execution_count": null,
   "metadata": {},
   "outputs": [],
   "source": [
    "#如果选择从config中配置可以用这段代码快速更改后缀\n",
    "# new = []\n",
    "# for c in config_tickers.SSE_50_TICKER:\n",
    "#     c = c.replace('XSHG','SH')\n",
    "#     new.append(c)\n",
    "# print(new,len(new))"
   ]
  },
  {
   "cell_type": "code",
   "execution_count": 11,
   "metadata": {},
   "outputs": [
    {
     "name": "stdout",
     "output_type": "stream",
     "text": [
      "        ts_code trade_date   open   high    low  close  pre_close  change  \\\n",
      "0     601138.SH   20211231  11.92  11.95  11.78  11.92      11.90    0.02   \n",
      "1     601138.SH   20211230  11.91  11.98  11.86  11.90      11.90    0.00   \n",
      "2     601138.SH   20211229  12.00  12.05  11.84  11.90      12.05   -0.15   \n",
      "3     601138.SH   20211228  12.08  12.10  11.96  12.05      12.08   -0.03   \n",
      "4     601138.SH   20211227  11.98  12.12  11.96  12.08      11.98    0.10   \n",
      "...         ...        ...    ...    ...    ...    ...        ...     ...   \n",
      "1668  600340.SH   20150109  41.92  46.00  41.81  43.32      42.00    1.32   \n",
      "1669  600340.SH   20150108  42.62  42.84  41.30  42.00      42.62   -0.62   \n",
      "1670  600340.SH   20150107  41.80  43.20  41.13  42.62      42.67   -0.05   \n",
      "1671  600340.SH   20150106  44.00  44.08  41.00  42.67      44.76   -2.09   \n",
      "1672  600340.SH   20150105  43.50  46.78  43.50  44.76      43.60    1.16   \n",
      "\n",
      "      pct_chg        vol       amount  \n",
      "0      0.1681  227339.87   269934.956  \n",
      "1      0.0000  185850.58   221330.426  \n",
      "2     -1.2448  215761.62   256546.827  \n",
      "3     -0.2483  217436.76   261533.405  \n",
      "4      0.8347  176156.75   212122.319  \n",
      "...       ...        ...          ...  \n",
      "1668   3.1400  171792.46   760333.800  \n",
      "1669  -1.4500  104983.39   440325.735  \n",
      "1670  -0.1200   82812.62   353193.940  \n",
      "1671  -4.6700  142363.09   605700.864  \n",
      "1672   2.6600  233537.76  1055878.855  \n",
      "\n",
      "[12550 rows x 11 columns]\n"
     ]
    }
   ],
   "source": [
    "#Download随机选择的k只股票数据\n",
    "df_ts =pd.DataFrame()\n",
    "for c in selected_tics:\n",
    "    temp=pro.daily(ts_code=c,start_date=TRAIN_START_DATE,end_date=TRADE_END_DATE)\n",
    "    df_ts=pd.concat([df_ts,temp])\n",
    "print(df_ts)"
   ]
  },
  {
   "cell_type": "code",
   "execution_count": null,
   "metadata": {},
   "outputs": [],
   "source": [
    "df_ts.to_csv('20_test_626',index=None)"
   ]
  },
  {
   "cell_type": "code",
   "execution_count": null,
   "metadata": {},
   "outputs": [],
   "source": [
    "max_len = max(df_ts['ts_code'].value_counts())"
   ]
  },
  {
   "cell_type": "code",
   "execution_count": null,
   "metadata": {},
   "outputs": [],
   "source": [
    "# #检验50只股票的信息缺省的时间点和个数\n",
    "# dimatch_num = 0\n",
    "# dimatch_date =[]\n",
    "# for c in df_ts1['trade_date'].unique():\n",
    "#     temp = df_ts1[df_ts1['trade_date'] == c]\n",
    "#     if len(temp) != 50:\n",
    "#         dimatch_num +=1\n",
    "#         dimatch_date.append(c)\n",
    "# print(dimatch_num,dimatch_date)"
   ]
  },
  {
   "cell_type": "code",
   "execution_count": null,
   "metadata": {},
   "outputs": [],
   "source": [
    "# #获取SSE的交易日历\n",
    "# import exchange_calendars as tc\n",
    "# def get_trading_days(exchange: str, start_date: str, end_date: str):\n",
    "#     days = pro.trade_cal(exchange=exchange, start_date=start_date, end_date=end_date)\n",
    "#     days = days[days['is_open'] == 1]\n",
    "#     full_date_range = pd.DataFrame({'trade_date':days['cal_date']})\n",
    "#     full_date_range['trade_date'] = full_date_range['trade_date'].astype(str)\n",
    "#     return full_date_range\n",
    "\n",
    "# full_date_range = get_trading_days(exchange='SSE',start_date='20121010', end_date='20230228')\n",
    "# print(full_date_range)"
   ]
  },
  {
   "cell_type": "code",
   "execution_count": null,
   "metadata": {},
   "outputs": [],
   "source": [
    "# date_unique = df['date'].unique()\n",
    "# date_sum = len(date_unique)\n",
    "# count = 0\n",
    "# for date in date_unique:\n",
    "#     temp_df = df[df['trade_date'] == date]\n",
    "# #     if len(temp_df) = k:\n",
    "# #         count +=1\n",
    "# #     elif len(temp_df) < int(0.9*k):\n",
    "# #         date_unique.remove(date)\n",
    "# #     else:\n",
    "#     difference_tic = temp_df['ts_code'].tolist().difference(selected_tics)\n",
    "#     missing_tic.append(date,difference_tic)"
   ]
  },
  {
   "cell_type": "code",
   "execution_count": null,
   "metadata": {},
   "outputs": [],
   "source": [
    "# #遍历扩充股票的完整交易日期\n",
    "# def add_exchange_calendars(df,full_date_range,selected_tics):\n",
    "#     merge_df = []\n",
    "#     for tic in selected_tics:\n",
    "#         temp_df = df[df['ts_code'] == tic]\n",
    "#         temp_full_date_range = full_date_range\n",
    "#         temp_df = temp_df.set_index('trade_date')\n",
    "#         temp_full_date_range = temp_full_date_range.set_index('trade_date')\n",
    "#         temp_df = pd.merge(temp_full_date_range,temp_df,how='left',left_index=True,right_index=True)\n",
    "#         temp_df = temp_df.reset_index().sort_values('trade_date',ascending=True)\n",
    "#         temp_df = temp_df.fillna({\n",
    "#             'amount' : 0,\n",
    "#             'vol': 0,\n",
    "#             'pct_chg': 0,\n",
    "#             'change':0,\n",
    "#             'ts_code': tic\n",
    "#         })\n",
    "#         for i in range(len(temp_df)):\n",
    "#             if pd.isna(temp_df.loc[i,'close']):\n",
    "#                 j = i -1\n",
    "#                 while pd.isna(temp_df.loc[j,'close']):\n",
    "#                     j = j - 1\n",
    "#                 if j > 0 :\n",
    "#                     temp_df.loc[i,['close','open','high','low','pre_close']] = temp_df.loc[j,'close']\n",
    "#         merge_df.append(temp_df)\n",
    "#     merged_df = pd.concat(merge_df,ignore_index = True)\n",
    "#     return merged_df\n",
    "\n",
    "# merged_df =  add_exchange_calendars(df_ts,full_date_range,selected_tics)\n",
    "# merged_df = merged_df.rename(columns={'trade_date':'date','ts_code':'tic','vol':'volume'})\n",
    "# merged_df = merged_df[['tic','date','open','high','low','close','pre_close','change','pct_chg','volume','amount']]\n",
    "# print(merged_df)"
   ]
  },
  {
   "cell_type": "code",
   "execution_count": null,
   "metadata": {},
   "outputs": [],
   "source": [
    "# 筛选exchange_calender中每个交易节点缺失情况\n",
    "def processed_date(df,selected_tics,k):\n",
    "    date_unique = list(df['trade_date'].unique())\n",
    "    date_sum = len(date_unique)\n",
    "    count = 0\n",
    "    processe_df =[]\n",
    "    processed_df = pd.DataFrame()\n",
    "    for date in date_unique:\n",
    "        temp_df = df[df['trade_date'] == date]\n",
    "        if len(temp_df) < int(0.9*k):\n",
    "            date_unique.remove(date)\n",
    "        elif len(temp_df) >= int(0.9*k) and len(temp_df) < k:\n",
    "            missing_tic = set(selected_tics).difference(set(temp_df['ts_code'].tolist()))\n",
    "            print(missing_tic)\n",
    "            for m_tic in missing_tic:\n",
    "                temp_dict = {'ts_code':m_tic,'trade_date':date,'open':np.nan, 'high':np.nan,'low':np.nan, 'close':np.nan, 'pre_close':np.nan, 'change':np.nan, 'pct_chg':np.nan, 'volume':np.nan, 'amount':np.nan}\n",
    "                new_data = pd.DataFrame.from_dict(temp_dict,orient='index').T\n",
    "                temp_df = temp_df.append(new_data)\n",
    "#             print(len(temp_df))\n",
    "            processe_df.append(temp_df)\n",
    "        else :\n",
    "            count += 1\n",
    "            processe_df.append(temp_df)\n",
    "        processed_df = pd.concat(processe_df,ignore_index = True)       \n",
    "    processed_df = processed_df.sort_values('trade_date',ascending=True).reset_index()\n",
    "    processed_df = processed_df.drop('index',axis=1)\n",
    "    return processed_df,date_unique\n"
   ]
  },
  {
   "cell_type": "code",
   "execution_count": 12,
   "metadata": {},
   "outputs": [],
   "source": [
    "# 筛选exchange_calender中每个交易节点缺失情况(全部补充0)\n",
    "def processed_date(df,selected_tics,k):\n",
    "    date_unique = list(df['trade_date'].unique())\n",
    "    date_sum = len(date_unique)\n",
    "    count = 0\n",
    "    processe_df =[]\n",
    "    processed_df = pd.DataFrame()\n",
    "    for date in date_unique:\n",
    "        temp_df = df[df['trade_date'] == date]\n",
    "        if len(temp_df) != k:\n",
    "            missing_tic = set(selected_tics).difference(set(temp_df['ts_code'].tolist()))\n",
    "#             print(missing_tic)\n",
    "            for m_tic in missing_tic:\n",
    "                temp_dict = {'ts_code':m_tic,'trade_date':date,'open':0, 'high':0,'low':0, 'close':0, 'pre_close':0, 'change':0, 'pct_chg':0, 'volume':0, 'amount':0}\n",
    "                new_data = pd.DataFrame.from_dict(temp_dict,orient='index').T\n",
    "                temp_df = temp_df.append(new_data)\n",
    "            processe_df.append(temp_df)\n",
    "        else :\n",
    "            processe_df.append(temp_df)\n",
    "        processed_df = pd.concat(processe_df,ignore_index = True)       \n",
    "    processed_df = processed_df.sort_values('trade_date',ascending=True).reset_index()\n",
    "    processed_df = processed_df.drop('index',axis=1)\n",
    "    return processed_df,date_unique"
   ]
  },
  {
   "cell_type": "code",
   "execution_count": null,
   "metadata": {},
   "outputs": [],
   "source": [
    "# 筛选exchange_calender中每个交易节点缺失(激进)\n",
    "def processed_date(df,selected_tics,k):\n",
    "    date_unique = list(df['trade_date'].unique())\n",
    "    date_sum = len(date_unique)\n",
    "    count = 0\n",
    "    processe_df =[]\n",
    "    processed_df = pd.DataFrame()\n",
    "    for date in date_unique:\n",
    "        temp_df = df[df['trade_date'] == date]\n",
    "        if len(temp_df) == k:\n",
    "            processe_df.append(temp_df)\n",
    "        else :\n",
    "            date_unique.remove(date)\n",
    "        processed_df = pd.concat(processe_df,ignore_index = True)       \n",
    "    processed_df = processed_df.sort_values('trade_date',ascending=True).reset_index()\n",
    "    processed_df = processed_df.drop('index',axis=1)\n",
    "    return processed_df,date_unique\n",
    "        "
   ]
  },
  {
   "cell_type": "code",
   "execution_count": 13,
   "metadata": {},
   "outputs": [
    {
     "name": "stdout",
     "output_type": "stream",
     "text": [
      "         ts_code trade_date   open   high    low  close pre_close change  \\\n",
      "0      601138.SH   20150105      0      0      0      0         0      0   \n",
      "1      601336.SH   20150105  50.35  51.95  49.05  49.61     49.56   0.05   \n",
      "2      600104.SH   20150105   21.7  23.62  21.69  23.62     21.47   2.15   \n",
      "3      600547.SH   20150105  19.86  21.51  19.65   21.3     19.85   1.45   \n",
      "4      601211.SH   20150105      0      0      0      0         0      0   \n",
      "...          ...        ...    ...    ...    ...    ...       ...    ...   \n",
      "13635  600837.SH   20211231  12.29  12.33  12.24  12.26     12.23   0.03   \n",
      "13636  600547.SH   20211231   18.7  18.87  18.65  18.82     18.59   0.23   \n",
      "13637  600104.SH   20211231  20.56   20.7  20.54  20.63     20.53    0.1   \n",
      "13638  601336.SH   20211231  38.88  39.02  38.77  38.88     38.88    0.0   \n",
      "13639  601138.SH   20211231  11.92  11.95  11.78  11.92      11.9   0.02   \n",
      "\n",
      "      pct_chg         vol       amount volume  \n",
      "0           0         NaN            0      0  \n",
      "1         0.1   513572.67  2599822.105    NaN  \n",
      "2       10.01  1308210.72  3010419.454    NaN  \n",
      "3         7.3   760078.16  1586795.493    NaN  \n",
      "4           0         NaN            0      0  \n",
      "...       ...         ...          ...    ...  \n",
      "13635  0.2453   370912.03   455646.954    NaN  \n",
      "13636  1.2372   144503.46   271328.892    NaN  \n",
      "13637  0.4871   168185.78    346762.49    NaN  \n",
      "13638     0.0    49990.53   194247.077    NaN  \n",
      "13639  0.1681   227339.87   269934.956    NaN  \n",
      "\n",
      "[13640 rows x 12 columns]\n"
     ]
    }
   ],
   "source": [
    "processed_df,date_unique = processed_date(df_ts,selected_tics,k)\n",
    "print(processed_df) "
   ]
  },
  {
   "cell_type": "code",
   "execution_count": 14,
   "metadata": {},
   "outputs": [
    {
     "data": {
      "text/html": [
       "<div>\n",
       "<style scoped>\n",
       "    .dataframe tbody tr th:only-of-type {\n",
       "        vertical-align: middle;\n",
       "    }\n",
       "\n",
       "    .dataframe tbody tr th {\n",
       "        vertical-align: top;\n",
       "    }\n",
       "\n",
       "    .dataframe thead th {\n",
       "        text-align: right;\n",
       "    }\n",
       "</style>\n",
       "<table border=\"1\" class=\"dataframe\">\n",
       "  <thead>\n",
       "    <tr style=\"text-align: right;\">\n",
       "      <th></th>\n",
       "      <th>ts_code</th>\n",
       "      <th>trade_date</th>\n",
       "      <th>open</th>\n",
       "      <th>high</th>\n",
       "      <th>low</th>\n",
       "      <th>close</th>\n",
       "      <th>pre_close</th>\n",
       "      <th>change</th>\n",
       "      <th>pct_chg</th>\n",
       "      <th>vol</th>\n",
       "      <th>amount</th>\n",
       "    </tr>\n",
       "  </thead>\n",
       "  <tbody>\n",
       "    <tr>\n",
       "      <th>0</th>\n",
       "      <td>600104.SH</td>\n",
       "      <td>2015-01-05</td>\n",
       "      <td>21.7</td>\n",
       "      <td>23.62</td>\n",
       "      <td>21.69</td>\n",
       "      <td>23.62</td>\n",
       "      <td>21.47</td>\n",
       "      <td>2.15</td>\n",
       "      <td>10.01</td>\n",
       "      <td>1308210.72</td>\n",
       "      <td>3010419.454</td>\n",
       "    </tr>\n",
       "    <tr>\n",
       "      <th>1</th>\n",
       "      <td>600104.SH</td>\n",
       "      <td>2015-01-06</td>\n",
       "      <td>23.6</td>\n",
       "      <td>25.98</td>\n",
       "      <td>23.19</td>\n",
       "      <td>24.67</td>\n",
       "      <td>23.62</td>\n",
       "      <td>1.05</td>\n",
       "      <td>4.45</td>\n",
       "      <td>1437856.69</td>\n",
       "      <td>3565284.301</td>\n",
       "    </tr>\n",
       "    <tr>\n",
       "      <th>2</th>\n",
       "      <td>600104.SH</td>\n",
       "      <td>2015-01-07</td>\n",
       "      <td>24.6</td>\n",
       "      <td>25.2</td>\n",
       "      <td>24.0</td>\n",
       "      <td>24.66</td>\n",
       "      <td>24.67</td>\n",
       "      <td>-0.01</td>\n",
       "      <td>-0.04</td>\n",
       "      <td>740619.55</td>\n",
       "      <td>1810192.875</td>\n",
       "    </tr>\n",
       "    <tr>\n",
       "      <th>3</th>\n",
       "      <td>600104.SH</td>\n",
       "      <td>2015-01-08</td>\n",
       "      <td>24.36</td>\n",
       "      <td>24.66</td>\n",
       "      <td>23.6</td>\n",
       "      <td>24.14</td>\n",
       "      <td>24.66</td>\n",
       "      <td>-0.52</td>\n",
       "      <td>-2.11</td>\n",
       "      <td>552735.65</td>\n",
       "      <td>1330823.119</td>\n",
       "    </tr>\n",
       "    <tr>\n",
       "      <th>4</th>\n",
       "      <td>600104.SH</td>\n",
       "      <td>2015-01-09</td>\n",
       "      <td>23.97</td>\n",
       "      <td>24.65</td>\n",
       "      <td>23.57</td>\n",
       "      <td>23.74</td>\n",
       "      <td>24.14</td>\n",
       "      <td>-0.4</td>\n",
       "      <td>-1.66</td>\n",
       "      <td>675712.22</td>\n",
       "      <td>1624807.304</td>\n",
       "    </tr>\n",
       "    <tr>\n",
       "      <th>...</th>\n",
       "      <td>...</td>\n",
       "      <td>...</td>\n",
       "      <td>...</td>\n",
       "      <td>...</td>\n",
       "      <td>...</td>\n",
       "      <td>...</td>\n",
       "      <td>...</td>\n",
       "      <td>...</td>\n",
       "      <td>...</td>\n",
       "      <td>...</td>\n",
       "      <td>...</td>\n",
       "    </tr>\n",
       "    <tr>\n",
       "      <th>13635</th>\n",
       "      <td>601336.SH</td>\n",
       "      <td>2021-12-27</td>\n",
       "      <td>38.49</td>\n",
       "      <td>38.7</td>\n",
       "      <td>38.43</td>\n",
       "      <td>38.54</td>\n",
       "      <td>38.45</td>\n",
       "      <td>0.09</td>\n",
       "      <td>0.2341</td>\n",
       "      <td>43263.70</td>\n",
       "      <td>166749.378</td>\n",
       "    </tr>\n",
       "    <tr>\n",
       "      <th>13636</th>\n",
       "      <td>601336.SH</td>\n",
       "      <td>2021-12-28</td>\n",
       "      <td>38.56</td>\n",
       "      <td>39.18</td>\n",
       "      <td>38.56</td>\n",
       "      <td>38.9</td>\n",
       "      <td>38.54</td>\n",
       "      <td>0.36</td>\n",
       "      <td>0.9341</td>\n",
       "      <td>70283.88</td>\n",
       "      <td>273433.897</td>\n",
       "    </tr>\n",
       "    <tr>\n",
       "      <th>13637</th>\n",
       "      <td>601336.SH</td>\n",
       "      <td>2021-12-29</td>\n",
       "      <td>39.0</td>\n",
       "      <td>39.1</td>\n",
       "      <td>38.7</td>\n",
       "      <td>38.84</td>\n",
       "      <td>38.9</td>\n",
       "      <td>-0.06</td>\n",
       "      <td>-0.1542</td>\n",
       "      <td>44263.29</td>\n",
       "      <td>172034.789</td>\n",
       "    </tr>\n",
       "    <tr>\n",
       "      <th>13638</th>\n",
       "      <td>601336.SH</td>\n",
       "      <td>2021-12-30</td>\n",
       "      <td>38.84</td>\n",
       "      <td>39.08</td>\n",
       "      <td>38.72</td>\n",
       "      <td>38.88</td>\n",
       "      <td>38.84</td>\n",
       "      <td>0.04</td>\n",
       "      <td>0.103</td>\n",
       "      <td>46751.88</td>\n",
       "      <td>181813.957</td>\n",
       "    </tr>\n",
       "    <tr>\n",
       "      <th>13639</th>\n",
       "      <td>601336.SH</td>\n",
       "      <td>2021-12-31</td>\n",
       "      <td>38.88</td>\n",
       "      <td>39.02</td>\n",
       "      <td>38.77</td>\n",
       "      <td>38.88</td>\n",
       "      <td>38.88</td>\n",
       "      <td>0.0</td>\n",
       "      <td>0.0</td>\n",
       "      <td>49990.53</td>\n",
       "      <td>194247.077</td>\n",
       "    </tr>\n",
       "  </tbody>\n",
       "</table>\n",
       "<p>13640 rows × 11 columns</p>\n",
       "</div>"
      ],
      "text/plain": [
       "         ts_code trade_date   open   high    low  close pre_close change  \\\n",
       "0      600104.SH 2015-01-05   21.7  23.62  21.69  23.62     21.47   2.15   \n",
       "1      600104.SH 2015-01-06   23.6  25.98  23.19  24.67     23.62   1.05   \n",
       "2      600104.SH 2015-01-07   24.6   25.2   24.0  24.66     24.67  -0.01   \n",
       "3      600104.SH 2015-01-08  24.36  24.66   23.6  24.14     24.66  -0.52   \n",
       "4      600104.SH 2015-01-09  23.97  24.65  23.57  23.74     24.14   -0.4   \n",
       "...          ...        ...    ...    ...    ...    ...       ...    ...   \n",
       "13635  601336.SH 2021-12-27  38.49   38.7  38.43  38.54     38.45   0.09   \n",
       "13636  601336.SH 2021-12-28  38.56  39.18  38.56   38.9     38.54   0.36   \n",
       "13637  601336.SH 2021-12-29   39.0   39.1   38.7  38.84      38.9  -0.06   \n",
       "13638  601336.SH 2021-12-30  38.84  39.08  38.72  38.88     38.84   0.04   \n",
       "13639  601336.SH 2021-12-31  38.88  39.02  38.77  38.88     38.88    0.0   \n",
       "\n",
       "      pct_chg         vol       amount  \n",
       "0       10.01  1308210.72  3010419.454  \n",
       "1        4.45  1437856.69  3565284.301  \n",
       "2       -0.04   740619.55  1810192.875  \n",
       "3       -2.11   552735.65  1330823.119  \n",
       "4       -1.66   675712.22  1624807.304  \n",
       "...       ...         ...          ...  \n",
       "13635  0.2341    43263.70   166749.378  \n",
       "13636  0.9341    70283.88   273433.897  \n",
       "13637 -0.1542    44263.29   172034.789  \n",
       "13638   0.103    46751.88   181813.957  \n",
       "13639     0.0    49990.53   194247.077  \n",
       "\n",
       "[13640 rows x 11 columns]"
      ]
     },
     "execution_count": 14,
     "metadata": {},
     "output_type": "execute_result"
    }
   ],
   "source": [
    "processed_df1 = processed_df.drop('volume',axis=1)\n",
    "processed_df1 = processed_df1.sort_values(['ts_code','trade_date'],ascending=True,ignore_index=True)\n",
    "processed_df1['trade_date'] = pd.to_datetime(processed_df1['trade_date'])\n",
    "processed_df1"
   ]
  },
  {
   "cell_type": "code",
   "execution_count": 15,
   "metadata": {},
   "outputs": [],
   "source": [
    "def delaydate(dela,full_list):\n",
    "    grouped = processed_df1.groupby('ts_code')\n",
    "    filtered_df = pd.DataFrame()\n",
    "    for name, group in grouped:\n",
    "        # 按'trade_date'升序排序  True=升序\n",
    "        group = group.sort_values('trade_date', ascending=True)\n",
    "        \n",
    "        # 丢弃前48个日期的数据\n",
    "        group = group.iloc[dela:]\n",
    "        filtered_df = filtered_df.append(group)\n",
    "    \n",
    "    filtered_df = filtered_df.reset_index(drop=True)\n",
    "    filtered_df = filtered_df.sort_values(['ts_code','trade_date'],ascending=True,ignore_index=True)\n",
    "    return filtered_df"
   ]
  },
  {
   "cell_type": "code",
   "execution_count": null,
   "metadata": {},
   "outputs": [],
   "source": [
    "#对于第二次任务训练任务—————强化学习决策任务\n",
    "import datetime\n",
    "\n",
    "start_date = datetime.datetime.strptime(TRAIN_START_DATE, '%Y-%m-%d')\n",
    "timestep = datetime.timedelta(days=48) # 这里需要验证48是否是已有数据往前推，还是只在时间维度向前推48天，可能会存在不足48天数据的情况。\n",
    "target_date = start_date - timestep\n",
    "train_df = processed_df1[processed_df1['trade_date'] <= TRAIN_END_DATE]\n",
    "backtest_df = processed_df1[(processed_df1['trade_date'] >= target_date) & (processed_df1['trade_date'] <= TRADE_END_DATE)]\n",
    "print('target_date:',target_date,'train_df:',train_df,'backtest_df:',backtest_df)\n"
   ]
  },
  {
   "cell_type": "code",
   "execution_count": 16,
   "metadata": {},
   "outputs": [],
   "source": [
    "# feature_enginner\n",
    "alltic_list = [i for i in range(k)]\n",
    "\n",
    "def Feature_enginner(model, processed_df, full_list, alltic_list, batch_size=64, k=15, env_size=40,dela = 48):\n",
    "    back_iter = DataLoader(StockDataset_back([i for i in range(k)],full_list), shuffle=False, batch_size=batch_size, num_workers=0,drop_last=False)\n",
    "    \n",
    "    new_state = predict(model,back_iter)\n",
    "    concatenated_tensor = torch.cat(new_state, dim=0)\n",
    "    concatenated_tensor = concatenated_tensor.view(-1,env_size)\n",
    "    feature_df = pd.DataFrame(concatenated_tensor.numpy())\n",
    "    \n",
    "    full_delay_df = delaydate(dela ,processed_df)\n",
    "    \n",
    "    merged_df = pd.concat([full_delay_df, feature_df], axis=1)\n",
    "    merged_df = merged_df.loc[:,['ts_code','trade_date','close']+[i for i in range(env_size)]]\n",
    "    merged_df.columns = ['tic','date','close'] + [f\"temporal_feature_{i}\" for i in range(env_size)]\n",
    "    return merged_df"
   ]
  },
  {
   "cell_type": "code",
   "execution_count": 36,
   "metadata": {},
   "outputs": [],
   "source": [
    "addfeature_df = Feature_enginner(model, processed_df1, array_full_list, alltic_list, batch_size=64, k=8 ,env_size=40, dela=48)"
   ]
  },
  {
   "cell_type": "code",
   "execution_count": 37,
   "metadata": {},
   "outputs": [
    {
     "data": {
      "text/html": [
       "<div>\n",
       "<style scoped>\n",
       "    .dataframe tbody tr th:only-of-type {\n",
       "        vertical-align: middle;\n",
       "    }\n",
       "\n",
       "    .dataframe tbody tr th {\n",
       "        vertical-align: top;\n",
       "    }\n",
       "\n",
       "    .dataframe thead th {\n",
       "        text-align: right;\n",
       "    }\n",
       "</style>\n",
       "<table border=\"1\" class=\"dataframe\">\n",
       "  <thead>\n",
       "    <tr style=\"text-align: right;\">\n",
       "      <th></th>\n",
       "      <th>tic</th>\n",
       "      <th>date</th>\n",
       "      <th>close</th>\n",
       "      <th>temporal_feature_0</th>\n",
       "      <th>temporal_feature_1</th>\n",
       "      <th>temporal_feature_2</th>\n",
       "      <th>temporal_feature_3</th>\n",
       "      <th>temporal_feature_4</th>\n",
       "      <th>temporal_feature_5</th>\n",
       "      <th>temporal_feature_6</th>\n",
       "      <th>...</th>\n",
       "      <th>temporal_feature_30</th>\n",
       "      <th>temporal_feature_31</th>\n",
       "      <th>temporal_feature_32</th>\n",
       "      <th>temporal_feature_33</th>\n",
       "      <th>temporal_feature_34</th>\n",
       "      <th>temporal_feature_35</th>\n",
       "      <th>temporal_feature_36</th>\n",
       "      <th>temporal_feature_37</th>\n",
       "      <th>temporal_feature_38</th>\n",
       "      <th>temporal_feature_39</th>\n",
       "    </tr>\n",
       "  </thead>\n",
       "  <tbody>\n",
       "    <tr>\n",
       "      <th>0</th>\n",
       "      <td>600104.SH</td>\n",
       "      <td>2015-03-19</td>\n",
       "      <td>24.71</td>\n",
       "      <td>-0.685629</td>\n",
       "      <td>-0.720051</td>\n",
       "      <td>-0.788440</td>\n",
       "      <td>1.056978</td>\n",
       "      <td>-0.217109</td>\n",
       "      <td>-0.065294</td>\n",
       "      <td>0.021171</td>\n",
       "      <td>...</td>\n",
       "      <td>1.137640</td>\n",
       "      <td>0.067500</td>\n",
       "      <td>1.152653</td>\n",
       "      <td>0.970156</td>\n",
       "      <td>-1.672183</td>\n",
       "      <td>-0.859973</td>\n",
       "      <td>-1.091588</td>\n",
       "      <td>0.064175</td>\n",
       "      <td>-0.307347</td>\n",
       "      <td>-1.024077</td>\n",
       "    </tr>\n",
       "    <tr>\n",
       "      <th>1</th>\n",
       "      <td>600104.SH</td>\n",
       "      <td>2015-03-20</td>\n",
       "      <td>24.71</td>\n",
       "      <td>-0.825145</td>\n",
       "      <td>-0.539233</td>\n",
       "      <td>-0.869592</td>\n",
       "      <td>0.946963</td>\n",
       "      <td>-0.180360</td>\n",
       "      <td>-0.060116</td>\n",
       "      <td>0.020285</td>\n",
       "      <td>...</td>\n",
       "      <td>1.019768</td>\n",
       "      <td>-0.051935</td>\n",
       "      <td>1.147488</td>\n",
       "      <td>0.778445</td>\n",
       "      <td>-1.668119</td>\n",
       "      <td>-1.051902</td>\n",
       "      <td>-1.016064</td>\n",
       "      <td>-0.007655</td>\n",
       "      <td>-0.239199</td>\n",
       "      <td>-1.035237</td>\n",
       "    </tr>\n",
       "    <tr>\n",
       "      <th>2</th>\n",
       "      <td>600104.SH</td>\n",
       "      <td>2015-03-23</td>\n",
       "      <td>25.46</td>\n",
       "      <td>-1.021337</td>\n",
       "      <td>-0.601413</td>\n",
       "      <td>-0.962846</td>\n",
       "      <td>1.141143</td>\n",
       "      <td>-0.106581</td>\n",
       "      <td>0.013600</td>\n",
       "      <td>0.044698</td>\n",
       "      <td>...</td>\n",
       "      <td>0.852832</td>\n",
       "      <td>-0.089386</td>\n",
       "      <td>1.299286</td>\n",
       "      <td>0.788713</td>\n",
       "      <td>-1.529159</td>\n",
       "      <td>-1.093202</td>\n",
       "      <td>-1.042035</td>\n",
       "      <td>-0.077120</td>\n",
       "      <td>-0.033720</td>\n",
       "      <td>-1.034090</td>\n",
       "    </tr>\n",
       "    <tr>\n",
       "      <th>3</th>\n",
       "      <td>600104.SH</td>\n",
       "      <td>2015-03-24</td>\n",
       "      <td>25.51</td>\n",
       "      <td>-0.737324</td>\n",
       "      <td>-0.772424</td>\n",
       "      <td>-0.895961</td>\n",
       "      <td>1.496457</td>\n",
       "      <td>-0.376672</td>\n",
       "      <td>-0.268712</td>\n",
       "      <td>0.364131</td>\n",
       "      <td>...</td>\n",
       "      <td>1.195056</td>\n",
       "      <td>0.045877</td>\n",
       "      <td>1.392800</td>\n",
       "      <td>0.960066</td>\n",
       "      <td>-1.599501</td>\n",
       "      <td>-0.912930</td>\n",
       "      <td>-1.072493</td>\n",
       "      <td>0.196815</td>\n",
       "      <td>-0.099987</td>\n",
       "      <td>-1.009710</td>\n",
       "    </tr>\n",
       "    <tr>\n",
       "      <th>4</th>\n",
       "      <td>600104.SH</td>\n",
       "      <td>2015-03-25</td>\n",
       "      <td>24.79</td>\n",
       "      <td>-0.875907</td>\n",
       "      <td>-0.863073</td>\n",
       "      <td>-0.933658</td>\n",
       "      <td>1.356204</td>\n",
       "      <td>-0.330987</td>\n",
       "      <td>-0.410442</td>\n",
       "      <td>0.145461</td>\n",
       "      <td>...</td>\n",
       "      <td>1.044580</td>\n",
       "      <td>0.034205</td>\n",
       "      <td>1.417628</td>\n",
       "      <td>0.708407</td>\n",
       "      <td>-1.651163</td>\n",
       "      <td>-0.776831</td>\n",
       "      <td>-1.071662</td>\n",
       "      <td>0.074468</td>\n",
       "      <td>-0.438858</td>\n",
       "      <td>-0.856375</td>\n",
       "    </tr>\n",
       "    <tr>\n",
       "      <th>...</th>\n",
       "      <td>...</td>\n",
       "      <td>...</td>\n",
       "      <td>...</td>\n",
       "      <td>...</td>\n",
       "      <td>...</td>\n",
       "      <td>...</td>\n",
       "      <td>...</td>\n",
       "      <td>...</td>\n",
       "      <td>...</td>\n",
       "      <td>...</td>\n",
       "      <td>...</td>\n",
       "      <td>...</td>\n",
       "      <td>...</td>\n",
       "      <td>...</td>\n",
       "      <td>...</td>\n",
       "      <td>...</td>\n",
       "      <td>...</td>\n",
       "      <td>...</td>\n",
       "      <td>...</td>\n",
       "      <td>...</td>\n",
       "      <td>...</td>\n",
       "    </tr>\n",
       "    <tr>\n",
       "      <th>13251</th>\n",
       "      <td>601336.SH</td>\n",
       "      <td>2021-12-27</td>\n",
       "      <td>38.54</td>\n",
       "      <td>0.967883</td>\n",
       "      <td>0.870768</td>\n",
       "      <td>-0.368305</td>\n",
       "      <td>-0.053448</td>\n",
       "      <td>1.435534</td>\n",
       "      <td>-0.050873</td>\n",
       "      <td>-0.769674</td>\n",
       "      <td>...</td>\n",
       "      <td>0.612730</td>\n",
       "      <td>-0.146083</td>\n",
       "      <td>0.782575</td>\n",
       "      <td>-0.706725</td>\n",
       "      <td>-1.159345</td>\n",
       "      <td>-0.813882</td>\n",
       "      <td>-0.986079</td>\n",
       "      <td>-1.687930</td>\n",
       "      <td>1.059072</td>\n",
       "      <td>-0.211687</td>\n",
       "    </tr>\n",
       "    <tr>\n",
       "      <th>13252</th>\n",
       "      <td>601336.SH</td>\n",
       "      <td>2021-12-28</td>\n",
       "      <td>38.9</td>\n",
       "      <td>1.019005</td>\n",
       "      <td>0.868325</td>\n",
       "      <td>-0.444494</td>\n",
       "      <td>0.130799</td>\n",
       "      <td>1.499849</td>\n",
       "      <td>-0.080379</td>\n",
       "      <td>-0.744683</td>\n",
       "      <td>...</td>\n",
       "      <td>0.595876</td>\n",
       "      <td>-0.133265</td>\n",
       "      <td>0.882290</td>\n",
       "      <td>-0.681690</td>\n",
       "      <td>-1.019547</td>\n",
       "      <td>-0.795075</td>\n",
       "      <td>-0.976471</td>\n",
       "      <td>-1.661369</td>\n",
       "      <td>1.111718</td>\n",
       "      <td>-0.207583</td>\n",
       "    </tr>\n",
       "    <tr>\n",
       "      <th>13253</th>\n",
       "      <td>601336.SH</td>\n",
       "      <td>2021-12-29</td>\n",
       "      <td>38.84</td>\n",
       "      <td>1.123853</td>\n",
       "      <td>0.184553</td>\n",
       "      <td>-0.667018</td>\n",
       "      <td>0.427636</td>\n",
       "      <td>1.551040</td>\n",
       "      <td>-0.046267</td>\n",
       "      <td>-0.892855</td>\n",
       "      <td>...</td>\n",
       "      <td>0.443955</td>\n",
       "      <td>-0.020844</td>\n",
       "      <td>0.528153</td>\n",
       "      <td>-0.784706</td>\n",
       "      <td>-1.263101</td>\n",
       "      <td>-0.901676</td>\n",
       "      <td>-0.808549</td>\n",
       "      <td>-1.317476</td>\n",
       "      <td>0.597605</td>\n",
       "      <td>-0.103068</td>\n",
       "    </tr>\n",
       "    <tr>\n",
       "      <th>13254</th>\n",
       "      <td>601336.SH</td>\n",
       "      <td>2021-12-30</td>\n",
       "      <td>38.88</td>\n",
       "      <td>0.971723</td>\n",
       "      <td>-0.194115</td>\n",
       "      <td>-0.656207</td>\n",
       "      <td>0.508096</td>\n",
       "      <td>1.469427</td>\n",
       "      <td>-0.091287</td>\n",
       "      <td>-0.875409</td>\n",
       "      <td>...</td>\n",
       "      <td>0.283373</td>\n",
       "      <td>-0.093154</td>\n",
       "      <td>0.344909</td>\n",
       "      <td>-0.710574</td>\n",
       "      <td>-1.420322</td>\n",
       "      <td>-0.816872</td>\n",
       "      <td>-0.790407</td>\n",
       "      <td>-1.290575</td>\n",
       "      <td>0.291341</td>\n",
       "      <td>0.117479</td>\n",
       "    </tr>\n",
       "    <tr>\n",
       "      <th>13255</th>\n",
       "      <td>601336.SH</td>\n",
       "      <td>2021-12-31</td>\n",
       "      <td>38.88</td>\n",
       "      <td>1.006253</td>\n",
       "      <td>-0.474091</td>\n",
       "      <td>-0.844985</td>\n",
       "      <td>0.687613</td>\n",
       "      <td>1.326267</td>\n",
       "      <td>-0.195156</td>\n",
       "      <td>-0.792029</td>\n",
       "      <td>...</td>\n",
       "      <td>0.384513</td>\n",
       "      <td>-0.117246</td>\n",
       "      <td>0.327459</td>\n",
       "      <td>-0.498436</td>\n",
       "      <td>-1.543247</td>\n",
       "      <td>-0.613048</td>\n",
       "      <td>-0.746749</td>\n",
       "      <td>-1.201501</td>\n",
       "      <td>-0.020121</td>\n",
       "      <td>0.098315</td>\n",
       "    </tr>\n",
       "  </tbody>\n",
       "</table>\n",
       "<p>13256 rows × 43 columns</p>\n",
       "</div>"
      ],
      "text/plain": [
       "             tic       date  close  temporal_feature_0  temporal_feature_1  \\\n",
       "0      600104.SH 2015-03-19  24.71           -0.685629           -0.720051   \n",
       "1      600104.SH 2015-03-20  24.71           -0.825145           -0.539233   \n",
       "2      600104.SH 2015-03-23  25.46           -1.021337           -0.601413   \n",
       "3      600104.SH 2015-03-24  25.51           -0.737324           -0.772424   \n",
       "4      600104.SH 2015-03-25  24.79           -0.875907           -0.863073   \n",
       "...          ...        ...    ...                 ...                 ...   \n",
       "13251  601336.SH 2021-12-27  38.54            0.967883            0.870768   \n",
       "13252  601336.SH 2021-12-28   38.9            1.019005            0.868325   \n",
       "13253  601336.SH 2021-12-29  38.84            1.123853            0.184553   \n",
       "13254  601336.SH 2021-12-30  38.88            0.971723           -0.194115   \n",
       "13255  601336.SH 2021-12-31  38.88            1.006253           -0.474091   \n",
       "\n",
       "       temporal_feature_2  temporal_feature_3  temporal_feature_4  \\\n",
       "0               -0.788440            1.056978           -0.217109   \n",
       "1               -0.869592            0.946963           -0.180360   \n",
       "2               -0.962846            1.141143           -0.106581   \n",
       "3               -0.895961            1.496457           -0.376672   \n",
       "4               -0.933658            1.356204           -0.330987   \n",
       "...                   ...                 ...                 ...   \n",
       "13251           -0.368305           -0.053448            1.435534   \n",
       "13252           -0.444494            0.130799            1.499849   \n",
       "13253           -0.667018            0.427636            1.551040   \n",
       "13254           -0.656207            0.508096            1.469427   \n",
       "13255           -0.844985            0.687613            1.326267   \n",
       "\n",
       "       temporal_feature_5  temporal_feature_6  ...  temporal_feature_30  \\\n",
       "0               -0.065294            0.021171  ...             1.137640   \n",
       "1               -0.060116            0.020285  ...             1.019768   \n",
       "2                0.013600            0.044698  ...             0.852832   \n",
       "3               -0.268712            0.364131  ...             1.195056   \n",
       "4               -0.410442            0.145461  ...             1.044580   \n",
       "...                   ...                 ...  ...                  ...   \n",
       "13251           -0.050873           -0.769674  ...             0.612730   \n",
       "13252           -0.080379           -0.744683  ...             0.595876   \n",
       "13253           -0.046267           -0.892855  ...             0.443955   \n",
       "13254           -0.091287           -0.875409  ...             0.283373   \n",
       "13255           -0.195156           -0.792029  ...             0.384513   \n",
       "\n",
       "       temporal_feature_31  temporal_feature_32  temporal_feature_33  \\\n",
       "0                 0.067500             1.152653             0.970156   \n",
       "1                -0.051935             1.147488             0.778445   \n",
       "2                -0.089386             1.299286             0.788713   \n",
       "3                 0.045877             1.392800             0.960066   \n",
       "4                 0.034205             1.417628             0.708407   \n",
       "...                    ...                  ...                  ...   \n",
       "13251            -0.146083             0.782575            -0.706725   \n",
       "13252            -0.133265             0.882290            -0.681690   \n",
       "13253            -0.020844             0.528153            -0.784706   \n",
       "13254            -0.093154             0.344909            -0.710574   \n",
       "13255            -0.117246             0.327459            -0.498436   \n",
       "\n",
       "       temporal_feature_34  temporal_feature_35  temporal_feature_36  \\\n",
       "0                -1.672183            -0.859973            -1.091588   \n",
       "1                -1.668119            -1.051902            -1.016064   \n",
       "2                -1.529159            -1.093202            -1.042035   \n",
       "3                -1.599501            -0.912930            -1.072493   \n",
       "4                -1.651163            -0.776831            -1.071662   \n",
       "...                    ...                  ...                  ...   \n",
       "13251            -1.159345            -0.813882            -0.986079   \n",
       "13252            -1.019547            -0.795075            -0.976471   \n",
       "13253            -1.263101            -0.901676            -0.808549   \n",
       "13254            -1.420322            -0.816872            -0.790407   \n",
       "13255            -1.543247            -0.613048            -0.746749   \n",
       "\n",
       "       temporal_feature_37  temporal_feature_38  temporal_feature_39  \n",
       "0                 0.064175            -0.307347            -1.024077  \n",
       "1                -0.007655            -0.239199            -1.035237  \n",
       "2                -0.077120            -0.033720            -1.034090  \n",
       "3                 0.196815            -0.099987            -1.009710  \n",
       "4                 0.074468            -0.438858            -0.856375  \n",
       "...                    ...                  ...                  ...  \n",
       "13251            -1.687930             1.059072            -0.211687  \n",
       "13252            -1.661369             1.111718            -0.207583  \n",
       "13253            -1.317476             0.597605            -0.103068  \n",
       "13254            -1.290575             0.291341             0.117479  \n",
       "13255            -1.201501            -0.020121             0.098315  \n",
       "\n",
       "[13256 rows x 43 columns]"
      ]
     },
     "execution_count": 37,
     "metadata": {},
     "output_type": "execute_result"
    }
   ],
   "source": [
    "addfeature_df"
   ]
  },
  {
   "cell_type": "code",
   "execution_count": null,
   "metadata": {},
   "outputs": [],
   "source": []
  },
  {
   "cell_type": "code",
   "execution_count": null,
   "metadata": {},
   "outputs": [],
   "source": [
    "# reduction\n",
    "# processed_df1['trade_date'] = pd.to_datetime(processed_df1['trade_date'],format='%Y%m%d')\n",
    "tic_date_df =processed_df1.iloc[:,:2]\n",
    "date_unique = len(tic_date_df['trade_date'].unique())\n",
    "train_df_reduction = processed_df1.loc[:,['open','high','low','close','vol']]\n",
    "train_df_reduction = processed_df1.reset_index(drop=True)\n",
    "# backtest_df_reduction = backtest_df.loc[:,['open','high','low','close','vol']]\n",
    "# backtest_df_reduction = backtest_df_reduction.reset_index(drop=True)\n",
    "train_df_reduction = train_df_reduction.fillna(0)\n",
    "# backtest_df_reduction = backtest_df_reduction.fillna(0)\n",
    "pro_df = train_df_reduction"
   ]
  },
  {
   "cell_type": "code",
   "execution_count": 17,
   "metadata": {},
   "outputs": [],
   "source": [
    "pro_df = processed_df1.loc[:,['open','high','low','close','vol']].reset_index(drop=True)"
   ]
  },
  {
   "cell_type": "code",
   "execution_count": null,
   "metadata": {},
   "outputs": [],
   "source": [
    "pro_df"
   ]
  },
  {
   "cell_type": "code",
   "execution_count": null,
   "metadata": {},
   "outputs": [],
   "source": [
    "#出现缺失值的个数、占比\n",
    "count = len(pro_df[pro_df['open'] == 0])\n",
    "nan_rate = count/len(pro_df)\n",
    "print(count,'缺失值百分之:',nan_rate)"
   ]
  },
  {
   "cell_type": "code",
   "execution_count": 18,
   "metadata": {},
   "outputs": [],
   "source": [
    "#计算技术指标到dataset中\n",
    "#Can be easily expanded\n",
    "#Currently contains a small set of tech indicators\n",
    "import talib as ta\n",
    "\n",
    "def calc_tech_ind(data):\n",
    "    #overlap \n",
    "    data['upbd'], data['midbd'], data['lowbd'] = ta.BBANDS(data[\"close\"])\n",
    "    data['dema'] = ta.DEMA(data[\"close\"], timeperiod=30)\n",
    "    data['tema'] = ta.TEMA(data[\"close\"], timeperiod=30)\n",
    "    data['ema'] = ta.EMA(data[\"close\"], timeperiod=30)\n",
    "    data['wma'] = ta.WMA(data[\"close\"], timeperiod=30)\n",
    "    data['sma'] = ta.SMA(data[\"close\"], timeperiod=30)\n",
    "    data['sarext'] = ta.SAREXT(data[\"high\"], data[\"low\"])\n",
    "    \n",
    "    #momentum\n",
    "    data['adxr'] = ta.ADXR(data[\"high\"], data[\"low\"], data[\"close\"], timeperiod=14)\n",
    "    data['apo'] = ta.APO(data[\"close\"], fastperiod=12, slowperiod=26, matype=0)\n",
    "    data['aroondown'], data['aroonup'] = ta.AROON(data[\"high\"], data[\"low\"], timeperiod=14)\n",
    "    data['cci'] = ta.CCI(data[\"high\"], data[\"low\"], data[\"close\"], timeperiod=14)\n",
    "    data['cmo'] = ta.CMO(data[\"close\"], timeperiod=14)\n",
    "    data['macd'], data['macdsignal'], data['macdhist'] = ta.MACD(data[\"close\"], fastperiod=12, slowperiod=26, signalperiod=9)\n",
    "    data['MFI'] = ta.MFI(data[\"high\"], data[\"low\"], data[\"close\"], data['vol'], timeperiod=14)\n",
    "    data['mom'] = ta.MOM(data[\"close\"], timeperiod=10)\n",
    "    data['plus_di'] = ta.PLUS_DI(data[\"high\"], data[\"low\"], data[\"close\"], timeperiod=14)\n",
    "    data['ppo'] = ta.PPO(data[\"close\"], fastperiod=12, slowperiod=26, matype=0)\n",
    "    data['roc'] = ta.ROC(data[\"close\"], timeperiod=10)\n",
    "    data['rocp'] = ta.ROCP(data[\"close\"], timeperiod=10)\n",
    "    data['rsi'] = ta.RSI(data[\"close\"], timeperiod=14)\n",
    "    data['slowk'], data['slowd'] = ta.STOCH(data[\"high\"], data[\"low\"], data[\"close\"])\n",
    "    data['fastk'], data['fastd'] = ta.STOCHF(data[\"high\"], data[\"low\"], data[\"close\"])\n",
    "    data['trix'] = ta.TRIX(data[\"close\"], timeperiod=30)\n",
    "    data['ultosc'] = ta.ULTOSC(data[\"high\"], data[\"low\"], data[\"close\"], timeperiod1=7, timeperiod2=14, timeperiod3=28)\n",
    "    data['willr'] = ta.WILLR(data[\"high\"], data[\"low\"], data[\"close\"], timeperiod=14)\n",
    "    \n",
    "    #volume\n",
    "    data['ad'] = ta.AD(data[\"high\"], data[\"low\"], data[\"close\"], data['vol'])\n",
    "    data['obv'] = ta.OBV(data[\"close\"], data['vol'])\n",
    "    \n",
    "    #volitility\n",
    "    data['atr'] = ta.ATR(data[\"high\"], data[\"low\"], data[\"close\"], timeperiod=14)\n",
    "    data['natr'] = ta.NATR(data[\"high\"], data[\"low\"], data[\"close\"], timeperiod=14)\n",
    "    \n",
    "    #cycle\n",
    "    data['HT_DCPERIOD'] = ta.HT_DCPERIOD(data[\"close\"])\n",
    "#     data['HT_DCPHASE'] = ta.HT_DCPHASE(data[\"close\"])\n",
    "#     data['inphase'], data['quadrature'] = ta.HT_PHASOR(data[\"close\"])\n",
    "    \n",
    "    \n",
    "    return data"
   ]
  },
  {
   "cell_type": "code",
   "execution_count": 19,
   "metadata": {},
   "outputs": [],
   "source": [
    "full_list1 = calc_tech_ind(pro_df)\n",
    "full_list1 = full_list1.fillna(0)"
   ]
  },
  {
   "cell_type": "code",
   "execution_count": null,
   "metadata": {},
   "outputs": [],
   "source": [
    "full_list1"
   ]
  },
  {
   "cell_type": "code",
   "execution_count": null,
   "metadata": {},
   "outputs": [],
   "source": [
    "full_list2 = calc_tech_ind(backtest_df_reduction)\n",
    "full_list2 = full_list2.fillna(0)"
   ]
  },
  {
   "cell_type": "code",
   "execution_count": 20,
   "metadata": {},
   "outputs": [],
   "source": [
    "array_full_list = np.array(full_list1)\n",
    "array_full_list = array_full_list.reshape(k,int(len(full_list1)/k),full_list1.shape[1])\n",
    "selected_tics = sorted(selected_tics)"
   ]
  },
  {
   "cell_type": "code",
   "execution_count": null,
   "metadata": {},
   "outputs": [],
   "source": [
    "array_full_list2 = np.array(full_list2)\n",
    "array_full_list2 = array_full_list2.reshape(k,int(len(full_list2)/k),full_list2.shape[1])"
   ]
  },
  {
   "cell_type": "code",
   "execution_count": null,
   "metadata": {},
   "outputs": [],
   "source": [
    "np.isnan(array_full_list).any()"
   ]
  },
  {
   "cell_type": "code",
   "execution_count": null,
   "metadata": {},
   "outputs": [],
   "source": [
    "#text\n",
    "# tdata = array_full_list[0][:-1]\n",
    "ttdata = [1,2,3,4,5,6,7,8,9,10,11,12,13,14,15]\n",
    "windows = 5\n",
    "gap = 1\n",
    "batch_size = 3\n",
    "start = len(ttdata) - windows\n",
    "test_list = []\n",
    "while start >= 0:\n",
    "#     print(ttdata[start:start + windows - 1],ttdata[start + windows-1])\n",
    "    segdata = ttdata[start:start + windows]\n",
    "#     segclose = ttdata[start:start + windows]\n",
    "    test_list.extend([segdata] * batch_size)\n",
    "#     test_list.append(segdata)\n",
    "    start = start - gap\n",
    "    print(test_list,'hhhhhhhhhhhhhhh',segdata)\n",
    "    \n",
    "# print(np.array(test_list)[::-1])"
   ]
  },
  {
   "cell_type": "code",
   "execution_count": null,
   "metadata": {},
   "outputs": [],
   "source": [
    "# #generate x, y, z, zp quadruples\n",
    "# #segment x, y, z trios to sequence according to $timeStep and $gap\n",
    "# #x: historical data w/ technical analysis indicator\n",
    "# #y: closing price of t+1\n",
    "# #z:  difference between t+1 and t step's closing price\n",
    "\n",
    "# def toSequential(idx, full_list, timeStep=48, gap=4):\n",
    "#     #closing: from id=0 to last\n",
    "#     closing=full_list[idx][:, 3]\n",
    "#     #data from id=0 to second to last\n",
    "#     data=full_list[idx][:-1]\n",
    "#     #calculating number of available sequential samples\n",
    "#     data_length=len(data)\n",
    "#     count=(data_length-timeStep)//gap+1\n",
    "#     stockSeq=[]\n",
    "#     labelSeq=[]\n",
    "#     diffSeq=[]\n",
    "#     realDiffSeq=[]\n",
    "    \n",
    "#     start = data_length - timeStep\n",
    "#     while start >= 0:\n",
    "#         segData = data[start:start + timeStep - 1]\n",
    "#         segClosing = closing[start:start + timeStep]\n",
    "#         std_dev = segData.std(axis=0, keepdims=True)\n",
    "#         std_dev_nonzero = np.where(std_dev == 0, 1, std_dev)  # 处理分母为零的情况\n",
    "#         segDataNorm = np.nan_to_num((segData - segData.mean(axis=0, keepdims=True)) / std_dev_nonzero)\n",
    "#         std_dev_close = segClosing.std()\n",
    "#         std_dev_close_nonzero = np.where(std_dev_close == 0, 1, std_dev_close)\n",
    "#         segClosingNorm=(segClosing-segClosing.mean())/std_dev_close_nonzero\n",
    "#         stockSeq.append(segDataNorm)\n",
    "#         labelSeq.append(segClosingNorm[1:])\n",
    "# #         print(np.isnan(labelSeq).any())\n",
    "#         diffSeq.append(segClosingNorm[1:]-segClosingNorm[:-1])\n",
    "#         realDiffSeq.append(segClosing[1:]-segClosing[:-1])       \n",
    "#         start = start - gap\n",
    "#     stockSeq=np.array(stockSeq)[::-1]\n",
    "#     labelSeq=np.array(labelSeq)[::-1]\n",
    "#     diffSeq=np.array(diffSeq)[::-1]\n",
    "#     realDiffSeq=np.array(realDiffSeq)[::-1]\n",
    "    \n",
    "#     return stockSeq.astype('float32') , labelSeq.astype('float32'), diffSeq.astype('float32'), realDiffSeq.astype('float32')"
   ]
  },
  {
   "cell_type": "markdown",
   "metadata": {},
   "source": [
    "# Dataloader的构建"
   ]
  },
  {
   "cell_type": "code",
   "execution_count": 21,
   "metadata": {},
   "outputs": [],
   "source": [
    "#generate x, y, z, zp quadruples\n",
    "#segment x, y, z trios to sequence according to $timeStep and $gap\n",
    "#x: historical data w/ technical analysis indicator\n",
    "#y: closing price of t+1\n",
    "#z:  difference between t+1 and t step's closing price\n",
    "\n",
    "def toSequential_train1(idx, full_list, timeStep=48, gap=4):\n",
    "    #closing: from id=0 to last\n",
    "    closing=full_list[idx][:, 3]\n",
    "#     closingNorm = (closing - closing.mean())/closing.std()\n",
    "    #data from id=0 to second to last\n",
    "    data=full_list[idx][:-1]\n",
    "    #calculating number of available sequential samples\n",
    "    data_length=len(data)\n",
    "    count=(data_length-timeStep)//gap+1\n",
    "    stockSeq=[]\n",
    "    labelSeq=[]\n",
    "    diffSeq=[]\n",
    "    realDiffSeq=[]\n",
    "    for i in range(count):\n",
    "        #segData dims: [timestep, feature count]       \n",
    "        segData=data[gap*i:gap*i+timeStep]\n",
    "        segClosing=closing[gap*i:gap*i+timeStep+1]\n",
    "        #segDiff=diff[gap*i:gap*i+timeStep]\n",
    "        #normalization\n",
    "        \n",
    "        std_dev = segData.std(axis=0, keepdims=True)\n",
    "        std_dev_nonzero = np.where(std_dev == 0, 1, std_dev)  # 处理分母为零的情况\n",
    "#         segDataNorm = np.nan_to_num((segData - segData.mean(axis=0, keepdims=True)) / std_dev_nonzero)\n",
    "        segDataNorm=np.nan_to_num((segData-segData.mean(axis=0, keepdims=True))/segData.std(axis=0, keepdims=True))\n",
    "    \n",
    "        std_close = segClosing.std()\n",
    "        std_segClosing = np.where(std_close == 0, 1, std_close)\n",
    "        segClosingNorm=(segClosing-segClosing.mean())/std_segClosing\n",
    "#         segDiff=(segDiff-segDiff.mean())/segDiff.std()\n",
    "        \n",
    "        stockSeq.append(segDataNorm)\n",
    "        labelSeq.append(segClosingNorm[1:])\n",
    "        diffSeq.append(segClosingNorm[1:]-segClosingNorm[:-1])\n",
    "        realDiffSeq.append(segClosing[1:]-segClosing[:-1])\n",
    "    stockSeq=np.array(stockSeq)\n",
    "    labelSeq=np.array(labelSeq)\n",
    "    diffSeq=np.array(diffSeq)\n",
    "    realDiffSeq=np.array(realDiffSeq)\n",
    "    return stockSeq.astype('float32') , labelSeq.astype('float32'), diffSeq.astype('float32'), realDiffSeq.astype('float32')"
   ]
  },
  {
   "cell_type": "code",
   "execution_count": null,
   "metadata": {},
   "outputs": [],
   "source": [
    "#generate x, y, z, zp quadruples\n",
    "#segment x, y, z trios to sequence according to $timeStep and $gap\n",
    "#x: historical data w/ technical analysis indicator\n",
    "#y: closing price of t+1\n",
    "#z:  difference between t+1 and t step's closing price\n",
    "\n",
    "def toSequential_train(idx, full_list, timeStep=48, gap=4):\n",
    "    #closing: from id=0 to last\n",
    "    closing=full_list[idx][:, 3]\n",
    "    closingNorm = (closing - closing.mean())/closing.std()\n",
    "    #data from id=0 to second to last\n",
    "    data=full_list[idx][:-1]\n",
    "    #calculating number of available sequential samples\n",
    "    data_length=len(data)\n",
    "    count=(data_length-timeStep)//gap+1\n",
    "    stockSeq=[]\n",
    "    labelSeq=[]\n",
    "    diffSeq=[0,]\n",
    "    realDiffSeq=[0,]\n",
    "    for i in range(count-1):\n",
    "        #segData dims: [timestep, feature count]       \n",
    "        segData=data[gap*i:gap*i+timeStep]\n",
    "        segClosing=closingNorm[gap*i+timeStep]\n",
    "        #segDiff=diff[gap*i:gap*i+timeStep]\n",
    "        #normalization\n",
    "        \n",
    "        std_dev = segData.std(axis=0, keepdims=True)\n",
    "        std_dev_nonzero = np.where(std_dev == 0, 1, std_dev)  # 处理分母为零的情况\n",
    "        segDataNorm = np.nan_to_num((segData - segData.mean(axis=0, keepdims=True)) / std_dev_nonzero)\n",
    "#       segDataNorm=np.nan_to_num((segData-segData.mean(axis=0, keepdims=True))/segData.std(axis=0, keepdims=True))\n",
    "#       segClosingNorm=(segClosing-segClosing.mean())/segClosing.std()\n",
    "        #segDiff=(segDiff-segDiff.mean())/segDiff.std()\n",
    "        \n",
    "        stockSeq.append(segDataNorm)\n",
    "        labelSeq.append(segClosing)\n",
    "        diffSeq.append(segClosing-diffSeq[-1])\n",
    "        realDiffSeq.append(closing[gap*i+timeStep]-realDiffSeq[-1])\n",
    "    stockSeq=np.array(stockSeq)\n",
    "    labelSeq=np.array(labelSeq)\n",
    "    diffSeq=np.array(diffSeq)\n",
    "    realDiffSeq=np.array(realDiffSeq)\n",
    "    return stockSeq.astype('float32') , labelSeq.astype('float32'), diffSeq.astype('float32'), realDiffSeq.astype('float32')"
   ]
  },
  {
   "cell_type": "code",
   "execution_count": 22,
   "metadata": {},
   "outputs": [],
   "source": [
    "def toSequential_back(idx, full_list, timeStep = 48, gap = 1,batch_size = 64):\n",
    "    #closing: from id=0 to last\n",
    "    closing=full_list[idx][:, 3]\n",
    "    #data from id=0 to second to last\n",
    "    data=full_list[idx][:-1]\n",
    "    #calculating number of available sequential samples\n",
    "    data_length=len(data)\n",
    "    count=(data_length-timeStep)//gap+1\n",
    "    stockSeq=[]\n",
    "    labelSeq=[]\n",
    "    diffSeq=[]\n",
    "    realDiffSeq=[]\n",
    "    \n",
    "    start = data_length - timeStep\n",
    "    i=0\n",
    "    while start >= 0:\n",
    "        segData = data[start:start + timeStep]\n",
    "        std_dev = segData.std(axis=0, keepdims=True)\n",
    "        std_dev_nonzero = np.where(std_dev == 0, 1, std_dev)  # 处理分母为零的情况\n",
    "        segDataNorm = np.nan_to_num((segData - segData.mean(axis=0, keepdims=True)) / std_dev_nonzero)\n",
    "        #复制batch_size个\n",
    "        stockSeq.extend([segDataNorm] * batch_size)\n",
    "#         stockSeq.append(segDataNorm)   \n",
    "        start = start - gap\n",
    "        i +=1\n",
    "    stockSeq=np.array(stockSeq)[::-1]\n",
    "#     print(i)\n",
    "    return stockSeq.astype('float32')"
   ]
  },
  {
   "cell_type": "code",
   "execution_count": 23,
   "metadata": {},
   "outputs": [],
   "source": [
    "#input each step:  vector including [stock info, tech indicators]\n",
    "#output each step: closing price t+1, price diff between t+1 and t\n",
    "#full_list: output from get_data_set\n",
    "\n",
    "class StockDataset(Dataset):\n",
    "    def __init__(self, id_list, full_list, transform=None, timestep=48, gap=3):\n",
    "        self.transform=transform\n",
    "        self.id_list=id_list\n",
    "        \n",
    "        stock_cohort=[]\n",
    "        closing_cohort=[]\n",
    "        diff_cohort=[]\n",
    "        real_diff_cohort=[]\n",
    "        \n",
    "        #load data into cohort\n",
    "        for i in self.id_list:\n",
    "            X, y, z, zp=toSequential_train1(i, full_list, timeStep=timestep, gap=gap)\n",
    "            stock_cohort.append(X)\n",
    "            closing_cohort.append(y)\n",
    "            diff_cohort.append(z)\n",
    "            real_diff_cohort.append(zp)\n",
    "        self.X=np.concatenate(stock_cohort, axis=0)\n",
    "        self.y=np.concatenate(closing_cohort, axis=0)\n",
    "        self.z=np.concatenate(diff_cohort, axis=0)  \n",
    "        self.zp=np.concatenate(real_diff_cohort, axis=0)\n",
    "        \n",
    "    def __len__(self):\n",
    "        return len(self.y)\n",
    "    \n",
    "    def __getitem__(self, idx):\n",
    "        \"\"\"\n",
    "        data returned in the format of \n",
    "        \"\"\"\n",
    "        if torch.is_tensor(idx):\n",
    "            idx=idx.tolist()\n",
    "        \n",
    "        data=self.X[idx]\n",
    "        label1=self.y[idx]\n",
    "        label2=self.z[idx]\n",
    "        label3=self.zp[idx]\n",
    "        if self.transform:\n",
    "            data=self.transform(data)\n",
    "        return (data, label1, label2, label3)\n",
    "    \n",
    "    \n",
    "    def getDS(self):\n",
    "        return self.X, self.y, self.z, self.zp"
   ]
  },
  {
   "cell_type": "code",
   "execution_count": 24,
   "metadata": {},
   "outputs": [],
   "source": [
    "#input each step:  vector including [stock info, tech indicators]\n",
    "#output each step: closing price t+1, price diff between t+1 and t\n",
    "#full_list: output from get_data_set\n",
    "\n",
    "class StockDataset_back(Dataset):\n",
    "    def __init__(self, id_list, full_list, transform=None, timestep=48, gap=1):\n",
    "        self.transform=transform\n",
    "        self.id_list=id_list\n",
    "        \n",
    "        stock_cohort=[]\n",
    "        \n",
    "        #load data into cohort\n",
    "        for i in self.id_list:\n",
    "            X=toSequential_back(i, full_list, timeStep=timestep, gap=gap)\n",
    "            stock_cohort.append(X)\n",
    "        self.X=np.concatenate(stock_cohort, axis=0)\n",
    "        \n",
    "    def __len__(self):\n",
    "        return len(self.X)\n",
    "    \n",
    "    def __getitem__(self, idx):\n",
    "        \"\"\"\n",
    "        data returned in the format of \n",
    "        \"\"\"\n",
    "        if torch.is_tensor(idx):\n",
    "            idx=idx.tolist()\n",
    "        \n",
    "        data=self.X[idx]\n",
    "        if self.transform:\n",
    "            data=self.transform(data)\n",
    "        return data\n",
    "        \n",
    "    def getDS(self):\n",
    "        return self.X"
   ]
  },
  {
   "cell_type": "code",
   "execution_count": 25,
   "metadata": {},
   "outputs": [],
   "source": [
    "#Generation of training, validation, and testing dataset\n",
    "def DataIterGen(test_id_list, val_id_list, name_list, full_list, demo=False):\n",
    "    \"\"\"\n",
    "    test_id_list: id of subjects for testing\n",
    "    val_id_list: id of subjects for validation\n",
    "    other subjects for training\n",
    "    full_list=get_data_set(name_list), preprocessed\n",
    "    demo: when demo mode is True, only test_iter is returned, with data from\n",
    "    first entry of test_id_list (single stock)\n",
    "    \"\"\"\n",
    "    name_count=len(name_list)\n",
    "\n",
    "    if demo:\n",
    "        test_iter=DataLoader(StockDataset(test_id_list[0:1], full_list, timestep=24, gap=1), shuffle=False, batch_size=64, num_workers=0)\n",
    "        print(f'Demo with stock: {name_list[test_id_list[0]]} ')\n",
    "        return test_iter\n",
    "    else:\n",
    "        all_ids = list(range(name_count))\n",
    "        train_id_list = list(set(all_ids) - set(test_id_list) - set(val_id_list))\n",
    "#         partial_list=full_list[train_list,:,:]\n",
    "        test_iter=DataLoader(StockDataset(test_id_list, full_list), batch_size=64, num_workers=0,drop_last=True)\n",
    "        val_iter=DataLoader(StockDataset(val_id_list, full_list), batch_size=64, num_workers=0,drop_last=True)\n",
    "        train_iter=DataLoader(StockDataset(train_id_list, full_list), shuffle=True, batch_size=64, num_workers=0,drop_last=True)\n",
    "        print(f'Val: {[name_list[val_id] for val_id in val_id_list]}, Test: {[name_list[test_id] for test_id in test_id_list]}, Train: {[name_list[train_id] for train_id in train_id_list]} ')\n",
    "        return train_iter, val_iter, test_iter"
   ]
  },
  {
   "cell_type": "code",
   "execution_count": 26,
   "metadata": {},
   "outputs": [
    {
     "name": "stdout",
     "output_type": "stream",
     "text": [
      "Val: ['600887.SH'], Test: ['600837.SH'], Train: ['600104.SH', '600340.SH', '600547.SH', '601138.SH', '601211.SH', '601336.SH'] \n"
     ]
    }
   ],
   "source": [
    "train_iter, val_iter, test_iter = DataIterGen([3],[4],selected_tics,array_full_list)"
   ]
  },
  {
   "cell_type": "code",
   "execution_count": null,
   "metadata": {},
   "outputs": [],
   "source": [
    "len(array_full_list[0][0])"
   ]
  },
  {
   "cell_type": "code",
   "execution_count": null,
   "metadata": {},
   "outputs": [],
   "source": [
    "for x,y,z,zp in train_iter: # x shape (bs,timestep,features); y、z、zp、shape(bs)\n",
    "    print(len(y),x)"
   ]
  },
  {
   "cell_type": "markdown",
   "metadata": {},
   "source": [
    "# Transformer"
   ]
  },
  {
   "cell_type": "code",
   "execution_count": 27,
   "metadata": {},
   "outputs": [],
   "source": [
    "import torch\n",
    "import torch.nn as nn\n",
    "import torch.nn.functional as F\n",
    "\n",
    "class Transformer(nn.Module):\n",
    "    def __init__(self, input_size, d_model, d_ff, num_heads,env_size, num_layers):\n",
    "        super(Transformer, self).__init__()\n",
    "        self.embedding = nn.Linear(input_size, d_model)\n",
    "        self.encode = Encoder(d_model, d_ff, num_heads, num_layers)\n",
    "        self.linear1 = nn.Linear(d_model, env_size)\n",
    "        self.rule = nn.ReLU()\n",
    "        self.linear2 = nn.Linear(env_size,1)\n",
    "        \n",
    "\n",
    "    def forward(self, x):\n",
    "        x = self.embedding(x)\n",
    "#         print(x.shape)\n",
    "        x = x.permute(1,0,2)\n",
    "        encoded = self.encode(x)\n",
    "        encoded = self.linear1(encoded)\n",
    "        x = self.rule(encoded)\n",
    "        x = self.linear2(x)\n",
    "#         print(x.shape)\n",
    "        decoded = x.permute(1,0,2)\n",
    "        return decoded, encoded.permute(1,0,2)[0,-1,:]  \n"
   ]
  },
  {
   "cell_type": "code",
   "execution_count": 28,
   "metadata": {},
   "outputs": [],
   "source": [
    "class Encoder(nn.Module):\n",
    "    def __init__(self, d_model, d_ff, num_heads, num_layers):\n",
    "        super(Encoder, self).__init__()\n",
    "        self.layers = nn.ModuleList([EncoderLayer(d_model, d_ff, num_heads) for _ in range(num_layers)])\n",
    "\n",
    "    def forward(self, x):\n",
    "        for layer in self.layers:\n",
    "            x = layer(x)\n",
    "        return x"
   ]
  },
  {
   "cell_type": "code",
   "execution_count": 29,
   "metadata": {},
   "outputs": [],
   "source": [
    "class EncoderLayer(nn.Module):\n",
    "    def __init__(self, d_model, d_ff, num_heads):\n",
    "        super(EncoderLayer, self).__init__()\n",
    "        self.self_attention = nn.MultiheadAttention(d_model, num_heads)\n",
    "        self.feed_forward = FeedForward(d_model, d_ff)\n",
    "        self.norm1 = nn.LayerNorm(d_model)\n",
    "        self.norm2 = nn.LayerNorm(d_model)\n",
    "\n",
    "    def forward(self, x):\n",
    "        residual = x  # 保存输入的残差连接\n",
    "\n",
    "        # Self-Attention\n",
    "        x, _ = self.self_attention(x, x, x)\n",
    "        x = x + residual  # 残差连接\n",
    "        x = self.norm1(x)  # Add & Norm\n",
    "\n",
    "        residual = x  # 保存 Self-Attention 后的残差连接\n",
    "\n",
    "        # Feed-Forward\n",
    "        x = self.feed_forward(x)\n",
    "        x = x + residual  # 残差连接\n",
    "        x = self.norm2(x)  # Add & Norm\n",
    "\n",
    "        return x"
   ]
  },
  {
   "cell_type": "code",
   "execution_count": 30,
   "metadata": {},
   "outputs": [],
   "source": [
    "class FeedForward(nn.Module):\n",
    "    def __init__(self, d_model, d_ff):\n",
    "        super(FeedForward, self).__init__()\n",
    "        self.linear1 = nn.Linear(d_model, d_ff)\n",
    "        self.linear2 = nn.Linear(d_ff, d_model)\n",
    "\n",
    "    def forward(self, x):\n",
    "        x = F.relu(self.linear1(x))\n",
    "        x = self.linear2(x)\n",
    "        return x"
   ]
  },
  {
   "cell_type": "code",
   "execution_count": 31,
   "metadata": {},
   "outputs": [],
   "source": [
    "#模型训练\n",
    "def train(model, train_iter, optimizer, num_epochs): \n",
    "    # 训练循环\n",
    "    for epoch in range(num_epochs):\n",
    "        model.train()\n",
    "        total_loss = 0.0\n",
    "        enVec_list = []\n",
    "        for X, y, z, zp in train_iter:  \n",
    "            optimizer.zero_grad()\n",
    "\n",
    "            inputs = X.to(device)\n",
    "            targets = y.unsqueeze(2).to(device)\n",
    "            pred,enVec = model(inputs)\n",
    "            enVec_list.append(enVec)\n",
    "#             print(pred,targets)\n",
    "            loss = nn.MSELoss()(pred, targets)  \n",
    "            loss.backward()\n",
    "            optimizer.step()\n",
    "            total_loss += loss.item()\n",
    "\n",
    "        # 打印每个 epoch 的损失\n",
    "        print(f\"Epoch {epoch+1}: Loss: {total_loss/len(train_iter):.4f}\")\n",
    "    return enVec_list\n",
    "# 模型评估\n",
    "def val(model, val_iter):\n",
    "    model.eval()\n",
    "    total_loss = 0.0\n",
    "    enVec_list = []\n",
    "    with torch.no_grad():\n",
    "        for X, y, z, zp in val_iter: \n",
    "            inputs = X.to(device)\n",
    "            targets = y.unsqueeze(2).to(device)\n",
    "            pred, enVec = model(inputs)\n",
    "            enVec_list.append(enVec)\n",
    "            loss = nn.MSELoss()(pred, targets)  \n",
    "            total_loss += loss.item()\n",
    "    print(f\"val Loss: {total_loss/len(val_iter):.4f}\")\n",
    "    return enVec_list"
   ]
  },
  {
   "cell_type": "code",
   "execution_count": 32,
   "metadata": {},
   "outputs": [],
   "source": [
    "def predict(model,back_iter):\n",
    "    enVec_list = []\n",
    "    with torch.no_grad():\n",
    "        for X in back_iter:\n",
    "            inputs = X.to(device)\n",
    "            _,enVec = model(inputs)\n",
    "            enVec_list.append(enVec)\n",
    "    return enVec_list"
   ]
  },
  {
   "cell_type": "code",
   "execution_count": null,
   "metadata": {},
   "outputs": [],
   "source": [
    "for X, y, z, zp in train_iter:\n",
    "    print(len(X[0]),X)"
   ]
  },
  {
   "cell_type": "code",
   "execution_count": 33,
   "metadata": {},
   "outputs": [],
   "source": [
    "#define device\n",
    "def try_gpu(i=0):\n",
    "    \"\"\"Return gpu(i) if exists, otherwise return cpu().\"\"\"\n",
    "    if torch.cuda.device_count() >= i + 1:\n",
    "        return torch.device(f'cuda:{i}')\n",
    "    return torch.device('cpu')\n",
    "device=try_gpu()"
   ]
  },
  {
   "cell_type": "code",
   "execution_count": 34,
   "metadata": {},
   "outputs": [
    {
     "name": "stdout",
     "output_type": "stream",
     "text": [
      "Epoch 1: Loss: 0.2542\n",
      "Epoch 2: Loss: 0.1755\n",
      "Epoch 3: Loss: 0.1492\n",
      "Epoch 4: Loss: 0.1267\n",
      "Epoch 5: Loss: 0.1075\n",
      "val Loss: 0.1572\n"
     ]
    }
   ],
   "source": [
    "# 定义模型\n",
    "model = Transformer(input_size = 42, d_model = 128 , num_layers = 2, d_ff = 512 ,num_heads = 8,env_size =40)\n",
    "optimizer = optim.Adam(model.parameters(), lr=0.001)\n",
    "outcoming =train(model,train_iter,optimizer,5)\n",
    "valtest =val(model,val_iter)"
   ]
  },
  {
   "cell_type": "code",
   "execution_count": 35,
   "metadata": {},
   "outputs": [],
   "source": [
    "back_iter = DataLoader(StockDataset_back([i for i in range(k)],array_full_list), shuffle=False, batch_size=64, num_workers=0,drop_last=False)"
   ]
  },
  {
   "cell_type": "code",
   "execution_count": null,
   "metadata": {},
   "outputs": [],
   "source": [
    "new_state = predict(model,back_iter)"
   ]
  },
  {
   "cell_type": "code",
   "execution_count": null,
   "metadata": {},
   "outputs": [],
   "source": [
    "new_state = predict(model,back_iter)\n",
    "concatenated_tensor = torch.cat(new_state, dim=0)\n",
    "concatenated_tensor.view(15,len(full_list['trade_date'].unique() - 48),40)"
   ]
  },
  {
   "cell_type": "code",
   "execution_count": null,
   "metadata": {},
   "outputs": [],
   "source": [
    "concatenated_tensor = torch.cat(new_state, dim=0)"
   ]
  },
  {
   "cell_type": "code",
   "execution_count": null,
   "metadata": {},
   "outputs": [],
   "source": [
    "concatenated_tensor.view(15,189,40)"
   ]
  },
  {
   "cell_type": "code",
   "execution_count": null,
   "metadata": {},
   "outputs": [],
   "source": [
    "new_state1 = np.array(concatenated_tensor.view(15,189,40))"
   ]
  },
  {
   "cell_type": "code",
   "execution_count": null,
   "metadata": {},
   "outputs": [],
   "source": [
    "new_state1.shape"
   ]
  },
  {
   "cell_type": "code",
   "execution_count": null,
   "metadata": {},
   "outputs": [],
   "source": [
    "array_full_list2.shape"
   ]
  },
  {
   "cell_type": "code",
   "execution_count": null,
   "metadata": {},
   "outputs": [],
   "source": [
    "print(len(new_state),new_state[1])"
   ]
  },
  {
   "cell_type": "code",
   "execution_count": null,
   "metadata": {},
   "outputs": [],
   "source": [
    "#concat new state with close\n",
    "nstate = new_state.reshape(len(new_state)*batch_size*time_step)"
   ]
  },
  {
   "cell_type": "code",
   "execution_count": null,
   "metadata": {},
   "outputs": [],
   "source": [
    "print(len(outcoming[0]))"
   ]
  },
  {
   "cell_type": "code",
   "execution_count": null,
   "metadata": {},
   "outputs": [],
   "source": [
    "print(len(valtest))"
   ]
  },
  {
   "cell_type": "code",
   "execution_count": null,
   "metadata": {},
   "outputs": [],
   "source": [
    "torch.triu(g,diagonal=1+3)"
   ]
  },
  {
   "cell_type": "code",
   "execution_count": null,
   "metadata": {},
   "outputs": [],
   "source": [
    "torch.triu(g,diagonal=1)"
   ]
  },
  {
   "cell_type": "markdown",
   "metadata": {},
   "source": [
    "# GRU"
   ]
  },
  {
   "cell_type": "code",
   "execution_count": null,
   "metadata": {},
   "outputs": [],
   "source": [
    "#define GRU class\n",
    "#init parameter: env_size for RL algorithm\n",
    "class GRU(nn.Module):\n",
    "    def __init__(self, env_size):\n",
    "        super(GRU, self).__init__()\n",
    "        self.rnn=nn.GRU(\n",
    "            input_size=45,\n",
    "            hidden_size=64,\n",
    "            num_layers=1,\n",
    "            batch_first=True\n",
    "        )\n",
    "        self.linear1=nn.Linear(128, env_size)\n",
    "        self.linear2=nn.Linear(env_size, 1)\n",
    "        self.num_layers=1\n",
    "        \n",
    "    def forward(self, x, state, device):\n",
    "        batch_size,timestep, _=x.shape\n",
    "        states, state=self.rnn(x, state)\n",
    "        tamVec=tam(states,device,d_model=64)\n",
    "        \n",
    "        #concatVec: batch_size, time_step, hidden_size*2\n",
    "        #i.e.       batch_size, 24       , 128        \n",
    "        concatVec=torch.cat([states, tamVec],axis=2)\n",
    "        envVec=self.linear1(torch.tanh(concatVec.reshape(batch_size*timestep, -1)))\n",
    "        output=nn.Dropout(p=0.2)(envVec)\n",
    "        output=nn.ReLU()(output)\n",
    "        output=self.linear2(output)\n",
    "        envVec=envVec.reshape(batch_size, timestep, -1)\n",
    "        output=output.reshape(batch_size, timestep, -1)\n",
    "        return output.view(batch_size, -1), envVec, state\n",
    "    \n",
    "    def begin_state(self, device, batch_size=1): \n",
    "        # `nn.GRU` takes a tensor as hidden state\n",
    "        return torch.zeros((\n",
    "                    self.rnn.num_layers, batch_size, 64), device=device)"
   ]
  },
  {
   "cell_type": "code",
   "execution_count": null,
   "metadata": {},
   "outputs": [],
   "source": [
    "#define GRU class\n",
    "#init parameter: env_size for RL algorithm\n",
    "class GRU1(nn.Module):\n",
    "    def __init__(self, env_size,h_size=64,d_model=64):\n",
    "        super(GRU1, self).__init__()\n",
    "        self.rnn=nn.GRU(\n",
    "            input_size=42,\n",
    "            hidden_size=64,\n",
    "            num_layers=1,\n",
    "            batch_first=True\n",
    "        )\n",
    "        self.d_model = d_model\n",
    "        self.W_q = nn.Linear(h_size, d_model)\n",
    "        self.W_k = nn.Linear(h_size, d_model)\n",
    "        self.W_v = nn.Linear(h_size, d_model)\n",
    "        self.linear1=nn.Linear(128, env_size)\n",
    "        self.linear2=nn.Linear(48*env_size, 1)\n",
    "        self.num_layers=1\n",
    "        \n",
    "    def forward(self, x, state, device):\n",
    "        batch_size,timestep, h_size=x.shape\n",
    "        states, state=self.rnn(x, state)\n",
    "        \n",
    "        # Map the input states to q, k, v vectors\n",
    "        queries = self.W_q(states)  # Apply linear transformation to states for queries\n",
    "        keys = self.W_k(states)  # Apply linear transformation to states for keys\n",
    "        values = self.W_v(states)  # Apply linear transformation to states for values\n",
    "        vec_list = torch.tensor(np.zeros([batch_size, timestep, self.d_model]).astype('float32')).to(device)\n",
    "        \n",
    "        for i in range(timestep):\n",
    "            # Compute attention weights\n",
    "            attention_weights = torch.softmax(torch.matmul(queries[:, i, :], keys.transpose(1, 2)), dim=2)\n",
    "            \n",
    "            # Apply attention weights to values\n",
    "            weighted_states = torch.matmul(attention_weights, values)\n",
    "#             print(timestep, weighted_states.shape)\n",
    "            vec_list[:, i, :] = weighted_states[:, i, :]\n",
    "        \n",
    "        #concatVec: batch_size, time_step, hidden_size*2\n",
    "        #i.e.       batch_size, 24       , 128        \n",
    "        concatVec=torch.cat([states, vec_list],axis=2)\n",
    "        envVec=self.linear1(torch.tanh(concatVec.reshape(batch_size*timestep, -1)))\n",
    "        output=nn.Dropout(p=0.2)(envVec)\n",
    "        output=nn.ReLU()(output)\n",
    "        output = output.reshape(batch_size, -1)\n",
    "        output=self.linear2(output)\n",
    "        envVec=envVec.reshape(batch_size, timestep, -1)\n",
    "#         output=output.reshape(batch_size, timestep, -1)\n",
    "        print(output.shape)\n",
    "        return output.view(batch_size, -1), envVec, state\n",
    "    \n",
    "    def begin_state(self, device, batch_size=1): \n",
    "        # `nn.GRU` takes a tensor as hidden state\n",
    "        return torch.zeros((\n",
    "                    self.rnn.num_layers, batch_size, 64), device=device)"
   ]
  },
  {
   "cell_type": "code",
   "execution_count": null,
   "metadata": {},
   "outputs": [],
   "source": [
    "# #temporal attention mechanism calculation\n",
    "# def tam(states, device):\n",
    "#     \"\"\"\n",
    "#     Given $states: batch_size, time_step, hidden_size\n",
    "#     return $output states: batch_size, time_step, hidden_size*2\n",
    "#     \"\"\"\n",
    "#     with torch.no_grad():\n",
    "#         b_size, t_step, h_size=states.shape\n",
    "#         # $time_step 0 \n",
    "#         vec_list=torch.tensor(np.zeros([b_size, 1, h_size]).astype('float32')).to(device)\n",
    "        \n",
    "#         #i: time step from 1 to $time_step\n",
    "#         for i in range(1,states.shape[1]):\n",
    "#             batchedCum=torch.tensor(np.zeros([b_size, 1,1]).astype('float32')).to(device)\n",
    "#             batch_list=[]\n",
    "#             vec=torch.tensor(np.zeros([b_size, 1, h_size]).astype('float32')).to(device)\n",
    "#             for j in range(i):\n",
    "#                 batched=torch.exp(torch.tanh(torch.bmm(states[:,i:i+1,:], torch.transpose(states[:,j:j+1,:], 1, 2))))\n",
    "#                 batch_list.append(batched)\n",
    "#                 batchedCum+=batched\n",
    "#             for j in range(i):\n",
    "#                 vec+=torch.bmm((batch_list[j]/batchedCum), states[:, j:j+1, :])\n",
    "#             vec_list=torch.cat([vec_list,vec], axis=1)\n",
    "#         #result=torch.cat([states, vec_list],axis=2)\n",
    "#     return vec_list"
   ]
  },
  {
   "cell_type": "code",
   "execution_count": null,
   "metadata": {},
   "outputs": [],
   "source": [
    "#引入自注意力机制的tam\n",
    "def tam(states, device,d_model):\n",
    "    with torch.no_grad():\n",
    "        b_size, t_step, h_size = states.shape\n",
    "        W_q = nn.Linear(h_size, d_model)\n",
    "        W_k = nn.Linear(h_size, d_model)\n",
    "        W_v = nn.Linear(h_size, d_model)\n",
    "        vec_list = torch.tensor(np.zeros([b_size, t_step, h_size]).astype('float32')).to(device)\n",
    "        \n",
    "        # Map the input states to q, k, v vectors\n",
    "        queries = W_q(states)  # Apply linear transformation to states for queries\n",
    "        keys = W_k(states)  # Apply linear transformation to states for keys\n",
    "        values = W_v(states)  # Apply linear transformation to states for values\n",
    "        \n",
    "        for i in range(t_step):\n",
    "            # Compute attention weights\n",
    "            attention_weights = torch.softmax(torch.matmul(queries[:, i, :], keys.transpose(1, 2)), dim=2)\n",
    "            \n",
    "            # Apply attention weights to values\n",
    "            weighted_states = torch.matmul(attention_weights, values)\n",
    "            print(t_step, weighted_states.shape)\n",
    "            vec_list[:, i, :] = weighted_states[:, i, :]\n",
    "#             print(vec_list)\n",
    "    return vec_list\n"
   ]
  },
  {
   "cell_type": "code",
   "execution_count": null,
   "metadata": {},
   "outputs": [],
   "source": [
    "# All variable Shape = batch_size  timestep-1  num_feature\n",
    "for X, y, z, zp in train_iter:\n",
    "    print(len(X[0][0]),X)"
   ]
  },
  {
   "cell_type": "code",
   "execution_count": null,
   "metadata": {},
   "outputs": [],
   "source": [
    "def train_epoch(net, train_iter, device, optimizer):\n",
    "    net.train()\n",
    "    loss_data=[]\n",
    "    criterion = nn.MSELoss()\n",
    "    with torch.autograd.set_detect_anomaly(True):\n",
    "        for X, y, z, _ in train_iter:\n",
    "            #reset state for each batch\n",
    "            state=net.begin_state(batch_size=X.shape[0], device=device)\n",
    "            #move to device\n",
    "            y = torch.where(torch.isnan(y), torch.tensor(0), y)\n",
    "            X, y, z=X.to(device), y.to(device), z.to(device)\n",
    "            predP, envVec, state=net(X, state,device)\n",
    "#             print('predP',predP,'y:',y)\n",
    "            loss = criterion(predP, y)\n",
    "            optimizer.zero_grad()\n",
    "            loss.backward()\n",
    "            optimizer.step()\n",
    "            loss_data.append(loss.item())\n",
    "    return np.array(loss_data).mean(), loss_data"
   ]
  },
  {
   "cell_type": "code",
   "execution_count": null,
   "metadata": {},
   "outputs": [],
   "source": [
    "def train(net, train_iter, eval_iter, optimizer, device, num_epoch, name):\n",
    "    loss_data=[]\n",
    "    U_data=[]\n",
    "#     net.apply(init_weights)\n",
    "    net.to(device)\n",
    "    scheduler = optim.lr_scheduler.ExponentialLR(optimizer, 0.95, last_epoch=-1)\n",
    "    \n",
    "    for epoch in range(num_epoch):\n",
    "        net.train()\n",
    "        lossEpoch, lossEpoch_list=train_epoch(net, train_iter, device, optimizer)   \n",
    "        loss_v, U_v=prediction(net, eval_iter, device)\n",
    "        loss_data.append(lossEpoch)  \n",
    "        U_data.append(U_v)\n",
    "        print(f'Epoch {epoch}, training loss: {lossEpoch.mean().item():.2f}, val utility: {U_v.mean().item():.2f}')\n",
    "#         torch.save(net.state_dict(), os.path.join('./model_weights', f'{name}-epoch-{epoch}.pth'))\n",
    "        scheduler.step()\n",
    "    return loss_data"
   ]
  },
  {
   "cell_type": "code",
   "execution_count": null,
   "metadata": {},
   "outputs": [],
   "source": [
    "def prediction(net, val_iter, device):\n",
    "    net.eval()\n",
    "    loss_list=[]\n",
    "    with torch.no_grad():\n",
    "        for X, y, z, _ in val_iter:\n",
    "            X, y, z = X.to(device), y.to(device), z.to(device)\n",
    "            state=net.begin_state(batch_size=X.shape[0], device=device)\n",
    "            predP, envVec, state=net(X, state,device)\n",
    "            loss=criterion(predP, y)\n",
    "            loss_list.append(loss.cpu().numpy())\n",
    "    return np.array(loss_list).mean(), envVec"
   ]
  },
  {
   "cell_type": "code",
   "execution_count": null,
   "metadata": {},
   "outputs": [],
   "source": [
    "def Representation(net, back_iter, device):\n",
    "    results = []\n",
    "    net.eval()\n",
    "    with torch.no_grad():\n",
    "        for X in back_iter:\n",
    "            X = X.to(device)\n",
    "            state=net.begin_state(batch_size=X.shape[0], device=device)\n",
    "            predP, envVec, state=net(X, state,device)\n",
    "            results.append(envVec)\n",
    "        envVec_list = np.concatenate(results, axis=0)\n",
    "        envVec_list = envVec_list.reshape(-1,20)\n",
    "    return envVec_list"
   ]
  },
  {
   "cell_type": "code",
   "execution_count": null,
   "metadata": {},
   "outputs": [],
   "source": [
    "device=try_gpu()\n",
    "net = GRU1(env_size = 20)\n",
    "criterion = nn.MSELoss()\n",
    "optimizer = optim.Adam(net.parameters(), lr=0.00006, weight_decay=0.01)\n",
    "loss_data = train(net, train_iter, val_iter, optimizer,device, 3, '5-25')\n",
    "# print(loss_mean)"
   ]
  },
  {
   "cell_type": "code",
   "execution_count": null,
   "metadata": {},
   "outputs": [],
   "source": [
    "num_epochs = 10\n",
    "for epoch in range(num_epochs):\n",
    "    model.train()\n",
    "    for X, y, z, _ in train_iter:\n",
    "        state=net.begin_state(batch_size=X.shape[0], device=device)\n",
    "        predP, state=net(X, state,device)\n",
    "        loss = criterion(predP, y)        \n",
    "        optimizer.zero_grad()\n",
    "        loss.backward()\n",
    "        optimizer.step()\n",
    "\n",
    "    # 在验证集上评估模型\n",
    "    model.eval()\n",
    "    val_loss = 0\n",
    "    with torch.no_grad():\n",
    "        for X, y, z, _ in  in val_iter:\n",
    "            state=net.begin_state(batch_size=X.shape[0], device=device)\n",
    "            predP, state=net(X, state,device)\n",
    "            val_loss += criterion(predP, y).item()\n",
    "    \n",
    "    # 打印每个 epoch 的损失\n",
    "    print(f\"Epoch {epoch+1}/{num_epochs}, Train Loss: {loss.item()}, Val Loss: {val_loss/len(val_loader)}\")\n"
   ]
  },
  {
   "cell_type": "code",
   "execution_count": null,
   "metadata": {},
   "outputs": [],
   "source": [
    "# for batch in dataloader:\n",
    "#     # 获取一个批次的数据\n",
    "#     batch_data = batch[0]\n",
    "#     print(batch_data)"
   ]
  },
  {
   "cell_type": "code",
   "execution_count": null,
   "metadata": {},
   "outputs": [],
   "source": [
    "# import torch.nn as nn\n",
    "\n",
    "# # 定义一个自注意力模型\n",
    "# class SelfAttentionModel(nn.Module):\n",
    "#     def __init__(self, d_model, num_heads):\n",
    "#         super(SelfAttentionModel, self).__init__()\n",
    "#         self.linear = nn.Linear(input_dim,d_model)\n",
    "#         self.attention = nn.MultiheadAttention(d_model, num_heads)\n",
    "#         self.norm = nn.LayerNorm(d_model)\n",
    "#         self.bn1 = nn.BatchNorm1d(d_model)\n",
    "        \n",
    "#     def forward(self, x, padding_mask=None):\n",
    "#         # x 的形状为 (batch_size, seq_len, input_dim)\n",
    "#         # padding_mask 的形状为 (batch_size, 1, seq_len)\n",
    "#         # 如果 padding_mask 不为空，则需要将形状调整为 (seq_len, batch_size)\n",
    "#         if padding_mask is not None:\n",
    "#             padding_mask = padding_mask.squeeze(1)\n",
    "#         #将变量数值类型转换为float类型\n",
    "#         x = x.to(torch.float32)\n",
    "#         #全连接映射到d_model维度,nn.Linear()是在最后一维就行变换，即input_dim到d_model，其他不变。\n",
    "#         x = self.linear(x)\n",
    "#         #  使用batchnorm1d层标准化输入x，防止后续梯度爆炸或者消失\n",
    "#         x = self.bn1(x.transpose(1,2)).transpose(1,2)\n",
    "#         # 使用自注意力模块计算新的特征表示，输入的key_padding\n",
    "#         x = x.transpose(0, 1)\n",
    "#         x, _ = self.attention(x, x, x, attn_mask=padding_mask)\n",
    "#         x = x.transpose(0, 1)\n",
    "#         # 使用 LayerNorm 进行归一化\n",
    "#         x = self.norm(x)\n",
    "#         return x"
   ]
  },
  {
   "cell_type": "code",
   "execution_count": null,
   "metadata": {},
   "outputs": [],
   "source": [
    "# #训练多头注意力机制\n",
    "# def train_selfattn(dataloader,d_model,num_heads,custom_columns=None):\n",
    "#     add_df = pd.DataFrame()\n",
    "#     model = SelfAttentionModel(d_model, num_heads)\n",
    "#     for batch in dataloader:\n",
    "#         temp_df = pd.DataFrame()\n",
    "#         # 获取一个批次的数据\n",
    "#         batch_data = batch[0]\n",
    "#         batch_size,seq_len,input_dim = batch_data.size()\n",
    "#         # padding mask 的形状为 (batch_size, seq_len)\n",
    "#         padding_idx = 0\n",
    "#         future_mask = torch.tril(torch.ones(batch_size, seq_len, seq_len), diagonal=1).to(torch.bool)\n",
    "#         padding_mask = (batch_data[:, :, 0] == padding_idx).to(torch.bool)\n",
    "#         # 将 padding_mask 转换为 (batch_size, 1, 1, seq_len) 的形状\n",
    "#         padding_mask = padding_mask.unsqueeze(1)\n",
    "#         # 拼接 padding_mask 和 future_mask 得到总的掩码矩阵\n",
    "#         attn_mask = torch.gt((padding_mask + future_mask), 0)\n",
    "#         new_data = model(batch_data,attn_mask)\n",
    "#         combined_data = torch.cat((batch_data, new_data), dim=-1)\n",
    "#         combined_data = combined_data.view(-1,(d_model+input_dim))\n",
    "#         combined_array = combined_data.detach().numpy()\n",
    "#         conbined_array = combined_array.reshape(batch_size*seq_len,(d_model+input_dim))\n",
    "#         temp_df = pd.DataFrame(combined_array)\n",
    "#         add_df = pd.concat([add_df,temp_df],axis=0)\n",
    "#     #     print(\n",
    "#     #         '新特征为:\\n',new_data,'\\n新特征的维度:',new_data.size(),'\\nnan值个数为:',torch.sum(torch.isnan(new_data)).item())\n",
    "#     if custom_columns != None:\n",
    "#         add_df.columns = custom_columns\n",
    "#     return add_df\n",
    "\n",
    "\n",
    "\n",
    "# d_model=15\n",
    "# columns = ['open','high','low','close','volmue'] + [f\"attn_embed_feature_{i}\" for i in range(d_model)]\n",
    "# addattn_df = train_selfattn(dataloader,num_heads=5,d_model=d_model,custom_columns = columns)\n",
    "# attn_indicator_list = [f\"attn_embed_feature_{i}\" for i in range(d_model)]\n",
    "# addattn_df"
   ]
  },
  {
   "cell_type": "code",
   "execution_count": null,
   "metadata": {},
   "outputs": [],
   "source": [
    "attn_indicator_list = [f\"attn_embed_feature_{i}\" for i in range(d_model)]"
   ]
  },
  {
   "cell_type": "code",
   "execution_count": null,
   "metadata": {},
   "outputs": [],
   "source": [
    "addattn_df = addattn_df.reset_index(drop=True)\n",
    "addattn_df"
   ]
  },
  {
   "cell_type": "code",
   "execution_count": null,
   "metadata": {},
   "outputs": [],
   "source": [
    "addattn_df1 = pd.merge(tic_date_df,addattn_df,left_index=True, right_index=True)\n",
    "addattn_df1"
   ]
  },
  {
   "cell_type": "code",
   "execution_count": null,
   "metadata": {},
   "outputs": [],
   "source": [
    "# input_dim = 5\n",
    "# d_model= 16\n",
    "# num_heads = 4\n",
    "# model = SelfAttentionModel(d_model, num_heads)\n",
    "# for batch in dataloader:\n",
    "#     # 获取一个批次的数据\n",
    "#     batch_data = batch[0]\n",
    "#     padding_idx = 0\n",
    "#     # 创建一个张量，将填充位置标记为1，其余位置标记为0\n",
    "#     padding_mask = (batch_data[:,:,0] == padding_idx).to(torch.bool)\n",
    "#     print('-----------------------*----------------------\\n',\n",
    "#         'x的形状为:',batch_data.size(),'\\npadding_mask的形状为:',padding_mask.size())\n",
    "#     new_data = model(batch_data)\n",
    "# #     print(padding_mask,padding_mask.size())\n",
    "#     print(\n",
    "#         '新特征为:\\n',new_data,'\\n新特征的维度:',new_data.size(),'\\nnan值个数为:',torch.sum(torch.isnan(new_data)).item())"
   ]
  },
  {
   "cell_type": "code",
   "execution_count": null,
   "metadata": {},
   "outputs": [],
   "source": [
    "def process_fillna(df,selected_tics,k):\n",
    "    merge_df = []\n",
    "    for tic in selected_tics:\n",
    "        temp_df = df[df['ts_code']==tic]\n",
    "        temp_df = temp_df.reset_index().sort_values('trade_date',ascending=True)\n",
    "        temp_df = temp_df.fillna({\n",
    "            'amount' : 0,\n",
    "            'vol': 0,\n",
    "            'pct_chg': 0,\n",
    "            'change':0,\n",
    "            'ts_code': tic\n",
    "        })\n",
    "        for i in range(len(temp_df)):\n",
    "            if pd.isna(temp_df.loc[i,'close']):\n",
    "                j = i +1\n",
    "                while pd.isna(temp_df.loc[j,'close']):\n",
    "                    j = j + 1\n",
    "                if j < len(temp_df) :\n",
    "                    temp_df.loc[i,['close','open','high','low','pre_close']] = temp_df.loc[j,'close']\n",
    "        merge_df.append(temp_df)\n",
    "    merged_df = pd.concat(merge_df,ignore_index = True)\n",
    "    return merged_df"
   ]
  },
  {
   "cell_type": "code",
   "execution_count": null,
   "metadata": {},
   "outputs": [],
   "source": [
    "def process_fillclose(df,selected_tics,k):\n",
    "    merge_df = []\n",
    "    for tic in selected_tics:\n",
    "        temp_df = df[df['ts_code']==tic]\n",
    "        temp_df = temp_df.reset_index().sort_values('trade_date',ascending=True)\n",
    "        for i in range(len(temp_df)):\n",
    "            if temp_df.loc[i,'close'] == 0:\n",
    "                j = i +1\n",
    "                while temp_df.loc[j,'close'] == 0:\n",
    "                    j = j + 1\n",
    "                if j < len(temp_df) :\n",
    "                    temp_df.loc[i,'close'] = temp_df.loc[j,'close']\n",
    "        merge_df.append(temp_df)\n",
    "    merged_df = pd.concat(merge_df,ignore_index = True)\n",
    "    return merged_df"
   ]
  },
  {
   "cell_type": "code",
   "execution_count": null,
   "metadata": {},
   "outputs": [],
   "source": [
    "merged_df = process_fillclose(addattn_df1,selected_tics,k)\n",
    "merged_df = merged_df.drop('index',axis=1)\n",
    "merged_df"
   ]
  },
  {
   "cell_type": "code",
   "execution_count": null,
   "metadata": {
    "scrolled": true
   },
   "outputs": [],
   "source": [
    "# merged_df = merged_df.drop('volume',axis=1)\n",
    "merged_df = merged_df.rename(columns={'trade_date':'date','ts_code':'tic'})\n",
    "# merged_df = merged_df[['tic','date','open','high','low','close','pre_close','change','pct_chg','volume','amount']]\n",
    "# merged_df = merged_df.drop('index',axis=1)\n",
    "merged_df = merged_df.sort_values(['tic','date'],ascending=True).reset_index(drop=True)\n",
    "print(merged_df)"
   ]
  },
  {
   "cell_type": "code",
   "execution_count": null,
   "metadata": {},
   "outputs": [],
   "source": [
    "#保存预处理后的数据\n",
    "merged_df.to_csv('merged_df.csv',index=0)"
   ]
  },
  {
   "cell_type": "code",
   "execution_count": null,
   "metadata": {},
   "outputs": [],
   "source": [
    "merged_df = pd.read_csv('merged_df.csv')\n",
    "merged_df"
   ]
  },
  {
   "cell_type": "code",
   "execution_count": null,
   "metadata": {},
   "outputs": [],
   "source": [
    "merged_df = merged_df.drop('volume',axis=1)"
   ]
  },
  {
   "cell_type": "code",
   "execution_count": null,
   "metadata": {},
   "outputs": [],
   "source": [
    "merged_df"
   ]
  },
  {
   "cell_type": "markdown",
   "metadata": {
    "id": "uqC6c40Zh1iH"
   },
   "source": [
    "# Part 4: Preprocess Data\n",
    "We need to check for missing data and do feature engineering to convert the data point into a state.\n",
    "* **Adding technical indicators**. In practical trading, various information needs to be taken into account, such as historical prices, current holding shares, technical indicators, etc. Here, we demonstrate two trend-following technical indicators: MACD and RSI.\n",
    "* **Adding turbulence index**. Risk-aversion reflects whether an investor prefers to protect the capital. It also influences one's trading strategy when facing different market volatility level. To control the risk in a worst-case scenario, such as financial crisis of 2007–2008, FinRL employs the turbulence index that measures extreme fluctuation of asset price."
   ]
  },
  {
   "cell_type": "code",
   "execution_count": null,
   "metadata": {},
   "outputs": [],
   "source": [
    "processed"
   ]
  },
  {
   "cell_type": "code",
   "execution_count": null,
   "metadata": {},
   "outputs": [],
   "source": [
    "# for i in range(len(processed)):\n",
    "#     processed.loc[i,'tic'] = processed.loc[i,'tic'].split('.')[0]\n",
    "# print(processed)"
   ]
  },
  {
   "cell_type": "code",
   "execution_count": null,
   "metadata": {},
   "outputs": [],
   "source": [
    "processed = processed.sort_values(['date','tic'],ignore_index=True)\n",
    "processed"
   ]
  },
  {
   "cell_type": "code",
   "execution_count": null,
   "metadata": {
    "id": "Kixon2tR3RLT"
   },
   "outputs": [],
   "source": [
    "list_ticker = processed[\"tic\"].unique().tolist()\n",
    "# list_date = list(pd.date_range(processed['date'].min(),processed['date'].max()).astype(str))\n",
    "# combination = list(itertools.product(list_date,list_ticker))\n",
    "\n",
    "# processed_full = pd.DataFrame(combination,columns=[\"date\",\"tic\"]).merge(processed,on=[\"date\",\"tic\"],how=\"left\")\n",
    "# processed_full = processed_full[processed_full['date'].isin(processed['date'])]\n",
    "# processed_full = processed_full.sort_values(['date','tic'])\n",
    "\n",
    "processed_full = processed"
   ]
  },
  {
   "cell_type": "code",
   "execution_count": null,
   "metadata": {
    "colab": {
     "base_uri": "https://localhost:8080/",
     "height": 407
    },
    "id": "grvhGJJII3Xn",
    "outputId": "8e48188a-d58d-4d2c-dbed-fecacb74984e"
   },
   "outputs": [],
   "source": [
    "processed_full.sort_values(['date','tic'],ignore_index=True).head(10)"
   ]
  },
  {
   "cell_type": "code",
   "execution_count": null,
   "metadata": {},
   "outputs": [],
   "source": [
    "merged_df = pd.read_csv('20_test2.csv')\n",
    "processed_full = merged_df"
   ]
  },
  {
   "cell_type": "code",
   "execution_count": null,
   "metadata": {
    "scrolled": true
   },
   "outputs": [],
   "source": [
    "import datetime\n",
    "processed_full['date'] = pd.to_datetime(processed_full['date'],format='%Y%m%d')\n",
    "processed_full"
   ]
  },
  {
   "cell_type": "code",
   "execution_count": null,
   "metadata": {},
   "outputs": [],
   "source": [
    "len(processed_full['date'].unique())"
   ]
  },
  {
   "cell_type": "markdown",
   "metadata": {
    "id": "-QsYaY0Dh1iw"
   },
   "source": [
    "<a id='4'></a>\n",
    "# Part 5. Build A Market Environment in OpenAI Gym-style\n",
    "The training process involves observing stock price change, taking an action and reward's calculation. By interacting with the market environment, the agent will eventually derive a trading strategy that may maximize (expected) rewards.\n",
    "\n",
    "Our market environment, based on OpenAI Gym, simulates stock markets with historical market data."
   ]
  },
  {
   "cell_type": "markdown",
   "metadata": {
    "id": "5TOhcryx44bb"
   },
   "source": [
    "## Data Split\n",
    "We split the data into training set and testing set as follows:\n",
    "\n",
    "Training data period: 2009-01-01 to 2020-07-01\n",
    "\n",
    "Trading data period: 2020-07-01 to 2021-10-31\n"
   ]
  },
  {
   "cell_type": "code",
   "execution_count": 39,
   "metadata": {},
   "outputs": [],
   "source": [
    "TRAIN_START_DATE = addfeature_df['date'].unique()[0]"
   ]
  },
  {
   "cell_type": "code",
   "execution_count": 41,
   "metadata": {
    "colab": {
     "base_uri": "https://localhost:8080/"
    },
    "id": "W0qaVGjLtgbI",
    "outputId": "ac9f2699-65c6-418f-cca4-f0f166973f65"
   },
   "outputs": [
    {
     "name": "stdout",
     "output_type": "stream",
     "text": [
      "11592\n",
      "1664\n"
     ]
    }
   ],
   "source": [
    "train = data_split(addfeature_df, TRAIN_START_DATE,TRAIN_END_DATE)\n",
    "trade = data_split(addfeature_df, TRADE_START_DATE,TRADE_END_DATE)\n",
    "print(len(train))\n",
    "print(len(trade))"
   ]
  },
  {
   "cell_type": "code",
   "execution_count": 42,
   "metadata": {
    "colab": {
     "base_uri": "https://localhost:8080/",
     "height": 357
    },
    "collapsed": true,
    "id": "p52zNCOhTtLR",
    "outputId": "14568787-e92d-4d9b-dbce-9e11b3fb1390"
   },
   "outputs": [
    {
     "data": {
      "text/html": [
       "<div>\n",
       "<style scoped>\n",
       "    .dataframe tbody tr th:only-of-type {\n",
       "        vertical-align: middle;\n",
       "    }\n",
       "\n",
       "    .dataframe tbody tr th {\n",
       "        vertical-align: top;\n",
       "    }\n",
       "\n",
       "    .dataframe thead th {\n",
       "        text-align: right;\n",
       "    }\n",
       "</style>\n",
       "<table border=\"1\" class=\"dataframe\">\n",
       "  <thead>\n",
       "    <tr style=\"text-align: right;\">\n",
       "      <th></th>\n",
       "      <th>tic</th>\n",
       "      <th>date</th>\n",
       "      <th>close</th>\n",
       "      <th>temporal_feature_0</th>\n",
       "      <th>temporal_feature_1</th>\n",
       "      <th>temporal_feature_2</th>\n",
       "      <th>temporal_feature_3</th>\n",
       "      <th>temporal_feature_4</th>\n",
       "      <th>temporal_feature_5</th>\n",
       "      <th>temporal_feature_6</th>\n",
       "      <th>...</th>\n",
       "      <th>temporal_feature_30</th>\n",
       "      <th>temporal_feature_31</th>\n",
       "      <th>temporal_feature_32</th>\n",
       "      <th>temporal_feature_33</th>\n",
       "      <th>temporal_feature_34</th>\n",
       "      <th>temporal_feature_35</th>\n",
       "      <th>temporal_feature_36</th>\n",
       "      <th>temporal_feature_37</th>\n",
       "      <th>temporal_feature_38</th>\n",
       "      <th>temporal_feature_39</th>\n",
       "    </tr>\n",
       "  </thead>\n",
       "  <tbody>\n",
       "    <tr>\n",
       "      <th>1447</th>\n",
       "      <td>601211.SH</td>\n",
       "      <td>2021-02-25</td>\n",
       "      <td>16.87</td>\n",
       "      <td>0.675018</td>\n",
       "      <td>-0.169140</td>\n",
       "      <td>0.413281</td>\n",
       "      <td>0.319104</td>\n",
       "      <td>0.559715</td>\n",
       "      <td>0.100539</td>\n",
       "      <td>-1.225217</td>\n",
       "      <td>...</td>\n",
       "      <td>0.360817</td>\n",
       "      <td>0.101785</td>\n",
       "      <td>0.826494</td>\n",
       "      <td>-0.350624</td>\n",
       "      <td>-0.889890</td>\n",
       "      <td>-0.310331</td>\n",
       "      <td>-0.501188</td>\n",
       "      <td>-1.926805</td>\n",
       "      <td>1.087737</td>\n",
       "      <td>-0.077453</td>\n",
       "    </tr>\n",
       "    <tr>\n",
       "      <th>1447</th>\n",
       "      <td>601336.SH</td>\n",
       "      <td>2021-02-25</td>\n",
       "      <td>54.42</td>\n",
       "      <td>0.571221</td>\n",
       "      <td>-0.599072</td>\n",
       "      <td>0.399413</td>\n",
       "      <td>0.281582</td>\n",
       "      <td>0.124684</td>\n",
       "      <td>-0.384236</td>\n",
       "      <td>-0.934062</td>\n",
       "      <td>...</td>\n",
       "      <td>0.310496</td>\n",
       "      <td>0.460066</td>\n",
       "      <td>1.467907</td>\n",
       "      <td>0.272062</td>\n",
       "      <td>-1.068717</td>\n",
       "      <td>-0.482804</td>\n",
       "      <td>-0.707878</td>\n",
       "      <td>-1.402448</td>\n",
       "      <td>0.398054</td>\n",
       "      <td>-0.225345</td>\n",
       "    </tr>\n",
       "    <tr>\n",
       "      <th>1448</th>\n",
       "      <td>600104.SH</td>\n",
       "      <td>2021-02-26</td>\n",
       "      <td>21.25</td>\n",
       "      <td>0.836278</td>\n",
       "      <td>0.669878</td>\n",
       "      <td>0.990547</td>\n",
       "      <td>-0.205573</td>\n",
       "      <td>0.654065</td>\n",
       "      <td>0.002078</td>\n",
       "      <td>-1.143294</td>\n",
       "      <td>...</td>\n",
       "      <td>0.724978</td>\n",
       "      <td>0.119407</td>\n",
       "      <td>0.757293</td>\n",
       "      <td>-0.530816</td>\n",
       "      <td>-0.446097</td>\n",
       "      <td>-0.138984</td>\n",
       "      <td>-0.932750</td>\n",
       "      <td>-2.391744</td>\n",
       "      <td>2.027807</td>\n",
       "      <td>0.333418</td>\n",
       "    </tr>\n",
       "    <tr>\n",
       "      <th>1448</th>\n",
       "      <td>600340.SH</td>\n",
       "      <td>2021-02-26</td>\n",
       "      <td>8.48</td>\n",
       "      <td>1.157147</td>\n",
       "      <td>-0.348972</td>\n",
       "      <td>0.695754</td>\n",
       "      <td>-0.133228</td>\n",
       "      <td>0.180959</td>\n",
       "      <td>-1.005879</td>\n",
       "      <td>-0.770969</td>\n",
       "      <td>...</td>\n",
       "      <td>0.763727</td>\n",
       "      <td>0.340053</td>\n",
       "      <td>1.648969</td>\n",
       "      <td>0.142220</td>\n",
       "      <td>-1.215213</td>\n",
       "      <td>-0.401507</td>\n",
       "      <td>-0.763092</td>\n",
       "      <td>-1.594992</td>\n",
       "      <td>0.086258</td>\n",
       "      <td>-0.122704</td>\n",
       "    </tr>\n",
       "    <tr>\n",
       "      <th>1448</th>\n",
       "      <td>600547.SH</td>\n",
       "      <td>2021-02-26</td>\n",
       "      <td>22.21</td>\n",
       "      <td>-0.215108</td>\n",
       "      <td>-0.410595</td>\n",
       "      <td>0.366101</td>\n",
       "      <td>0.077713</td>\n",
       "      <td>0.147347</td>\n",
       "      <td>-0.592906</td>\n",
       "      <td>-0.910709</td>\n",
       "      <td>...</td>\n",
       "      <td>0.490843</td>\n",
       "      <td>-0.185853</td>\n",
       "      <td>1.655261</td>\n",
       "      <td>0.568455</td>\n",
       "      <td>-0.327500</td>\n",
       "      <td>-0.671963</td>\n",
       "      <td>-0.833813</td>\n",
       "      <td>-1.528040</td>\n",
       "      <td>0.464319</td>\n",
       "      <td>-0.235263</td>\n",
       "    </tr>\n",
       "    <tr>\n",
       "      <th>1448</th>\n",
       "      <td>600837.SH</td>\n",
       "      <td>2021-02-26</td>\n",
       "      <td>12.09</td>\n",
       "      <td>0.646838</td>\n",
       "      <td>-0.132993</td>\n",
       "      <td>0.233297</td>\n",
       "      <td>0.559838</td>\n",
       "      <td>0.708021</td>\n",
       "      <td>0.082379</td>\n",
       "      <td>-1.028111</td>\n",
       "      <td>...</td>\n",
       "      <td>0.529326</td>\n",
       "      <td>-0.003077</td>\n",
       "      <td>0.944198</td>\n",
       "      <td>-0.399310</td>\n",
       "      <td>-0.790016</td>\n",
       "      <td>-0.246054</td>\n",
       "      <td>-0.493867</td>\n",
       "      <td>-2.141997</td>\n",
       "      <td>1.466030</td>\n",
       "      <td>0.119807</td>\n",
       "    </tr>\n",
       "    <tr>\n",
       "      <th>1448</th>\n",
       "      <td>600887.SH</td>\n",
       "      <td>2021-02-26</td>\n",
       "      <td>43.22</td>\n",
       "      <td>0.469401</td>\n",
       "      <td>1.097523</td>\n",
       "      <td>-0.201732</td>\n",
       "      <td>-0.669756</td>\n",
       "      <td>0.951756</td>\n",
       "      <td>-0.962164</td>\n",
       "      <td>-0.989946</td>\n",
       "      <td>...</td>\n",
       "      <td>1.382419</td>\n",
       "      <td>-0.639595</td>\n",
       "      <td>1.538988</td>\n",
       "      <td>-0.287324</td>\n",
       "      <td>-1.126662</td>\n",
       "      <td>-1.157200</td>\n",
       "      <td>-1.619129</td>\n",
       "      <td>-2.171898</td>\n",
       "      <td>0.820772</td>\n",
       "      <td>0.024698</td>\n",
       "    </tr>\n",
       "    <tr>\n",
       "      <th>1448</th>\n",
       "      <td>601138.SH</td>\n",
       "      <td>2021-02-26</td>\n",
       "      <td>13.81</td>\n",
       "      <td>-0.120231</td>\n",
       "      <td>0.125013</td>\n",
       "      <td>-0.247424</td>\n",
       "      <td>-0.058963</td>\n",
       "      <td>0.782964</td>\n",
       "      <td>-0.608398</td>\n",
       "      <td>-0.779392</td>\n",
       "      <td>...</td>\n",
       "      <td>1.035462</td>\n",
       "      <td>-0.504752</td>\n",
       "      <td>0.677477</td>\n",
       "      <td>0.043140</td>\n",
       "      <td>-1.053631</td>\n",
       "      <td>-0.225499</td>\n",
       "      <td>-1.303904</td>\n",
       "      <td>-1.865321</td>\n",
       "      <td>0.348799</td>\n",
       "      <td>0.051347</td>\n",
       "    </tr>\n",
       "    <tr>\n",
       "      <th>1448</th>\n",
       "      <td>601211.SH</td>\n",
       "      <td>2021-02-26</td>\n",
       "      <td>16.66</td>\n",
       "      <td>0.395102</td>\n",
       "      <td>-0.256177</td>\n",
       "      <td>0.120726</td>\n",
       "      <td>0.639048</td>\n",
       "      <td>0.507109</td>\n",
       "      <td>0.242122</td>\n",
       "      <td>-1.149408</td>\n",
       "      <td>...</td>\n",
       "      <td>0.391863</td>\n",
       "      <td>0.063278</td>\n",
       "      <td>0.988873</td>\n",
       "      <td>-0.332970</td>\n",
       "      <td>-0.880002</td>\n",
       "      <td>-0.411059</td>\n",
       "      <td>-0.494682</td>\n",
       "      <td>-1.681512</td>\n",
       "      <td>1.081765</td>\n",
       "      <td>-0.241868</td>\n",
       "    </tr>\n",
       "    <tr>\n",
       "      <th>1448</th>\n",
       "      <td>601336.SH</td>\n",
       "      <td>2021-02-26</td>\n",
       "      <td>52.09</td>\n",
       "      <td>0.410163</td>\n",
       "      <td>-0.629145</td>\n",
       "      <td>0.254653</td>\n",
       "      <td>0.544747</td>\n",
       "      <td>-0.010390</td>\n",
       "      <td>-0.345014</td>\n",
       "      <td>-0.932094</td>\n",
       "      <td>...</td>\n",
       "      <td>0.443886</td>\n",
       "      <td>0.424958</td>\n",
       "      <td>1.559456</td>\n",
       "      <td>0.363379</td>\n",
       "      <td>-1.045123</td>\n",
       "      <td>-0.535347</td>\n",
       "      <td>-0.687463</td>\n",
       "      <td>-1.200254</td>\n",
       "      <td>0.395067</td>\n",
       "      <td>-0.365415</td>\n",
       "    </tr>\n",
       "  </tbody>\n",
       "</table>\n",
       "<p>10 rows × 43 columns</p>\n",
       "</div>"
      ],
      "text/plain": [
       "            tic       date  close  temporal_feature_0  temporal_feature_1  \\\n",
       "1447  601211.SH 2021-02-25  16.87            0.675018           -0.169140   \n",
       "1447  601336.SH 2021-02-25  54.42            0.571221           -0.599072   \n",
       "1448  600104.SH 2021-02-26  21.25            0.836278            0.669878   \n",
       "1448  600340.SH 2021-02-26   8.48            1.157147           -0.348972   \n",
       "1448  600547.SH 2021-02-26  22.21           -0.215108           -0.410595   \n",
       "1448  600837.SH 2021-02-26  12.09            0.646838           -0.132993   \n",
       "1448  600887.SH 2021-02-26  43.22            0.469401            1.097523   \n",
       "1448  601138.SH 2021-02-26  13.81           -0.120231            0.125013   \n",
       "1448  601211.SH 2021-02-26  16.66            0.395102           -0.256177   \n",
       "1448  601336.SH 2021-02-26  52.09            0.410163           -0.629145   \n",
       "\n",
       "      temporal_feature_2  temporal_feature_3  temporal_feature_4  \\\n",
       "1447            0.413281            0.319104            0.559715   \n",
       "1447            0.399413            0.281582            0.124684   \n",
       "1448            0.990547           -0.205573            0.654065   \n",
       "1448            0.695754           -0.133228            0.180959   \n",
       "1448            0.366101            0.077713            0.147347   \n",
       "1448            0.233297            0.559838            0.708021   \n",
       "1448           -0.201732           -0.669756            0.951756   \n",
       "1448           -0.247424           -0.058963            0.782964   \n",
       "1448            0.120726            0.639048            0.507109   \n",
       "1448            0.254653            0.544747           -0.010390   \n",
       "\n",
       "      temporal_feature_5  temporal_feature_6  ...  temporal_feature_30  \\\n",
       "1447            0.100539           -1.225217  ...             0.360817   \n",
       "1447           -0.384236           -0.934062  ...             0.310496   \n",
       "1448            0.002078           -1.143294  ...             0.724978   \n",
       "1448           -1.005879           -0.770969  ...             0.763727   \n",
       "1448           -0.592906           -0.910709  ...             0.490843   \n",
       "1448            0.082379           -1.028111  ...             0.529326   \n",
       "1448           -0.962164           -0.989946  ...             1.382419   \n",
       "1448           -0.608398           -0.779392  ...             1.035462   \n",
       "1448            0.242122           -1.149408  ...             0.391863   \n",
       "1448           -0.345014           -0.932094  ...             0.443886   \n",
       "\n",
       "      temporal_feature_31  temporal_feature_32  temporal_feature_33  \\\n",
       "1447             0.101785             0.826494            -0.350624   \n",
       "1447             0.460066             1.467907             0.272062   \n",
       "1448             0.119407             0.757293            -0.530816   \n",
       "1448             0.340053             1.648969             0.142220   \n",
       "1448            -0.185853             1.655261             0.568455   \n",
       "1448            -0.003077             0.944198            -0.399310   \n",
       "1448            -0.639595             1.538988            -0.287324   \n",
       "1448            -0.504752             0.677477             0.043140   \n",
       "1448             0.063278             0.988873            -0.332970   \n",
       "1448             0.424958             1.559456             0.363379   \n",
       "\n",
       "      temporal_feature_34  temporal_feature_35  temporal_feature_36  \\\n",
       "1447            -0.889890            -0.310331            -0.501188   \n",
       "1447            -1.068717            -0.482804            -0.707878   \n",
       "1448            -0.446097            -0.138984            -0.932750   \n",
       "1448            -1.215213            -0.401507            -0.763092   \n",
       "1448            -0.327500            -0.671963            -0.833813   \n",
       "1448            -0.790016            -0.246054            -0.493867   \n",
       "1448            -1.126662            -1.157200            -1.619129   \n",
       "1448            -1.053631            -0.225499            -1.303904   \n",
       "1448            -0.880002            -0.411059            -0.494682   \n",
       "1448            -1.045123            -0.535347            -0.687463   \n",
       "\n",
       "      temporal_feature_37  temporal_feature_38  temporal_feature_39  \n",
       "1447            -1.926805             1.087737            -0.077453  \n",
       "1447            -1.402448             0.398054            -0.225345  \n",
       "1448            -2.391744             2.027807             0.333418  \n",
       "1448            -1.594992             0.086258            -0.122704  \n",
       "1448            -1.528040             0.464319            -0.235263  \n",
       "1448            -2.141997             1.466030             0.119807  \n",
       "1448            -2.171898             0.820772             0.024698  \n",
       "1448            -1.865321             0.348799             0.051347  \n",
       "1448            -1.681512             1.081765            -0.241868  \n",
       "1448            -1.200254             0.395067            -0.365415  \n",
       "\n",
       "[10 rows x 43 columns]"
      ]
     },
     "execution_count": 42,
     "metadata": {},
     "output_type": "execute_result"
    }
   ],
   "source": [
    "train.tail(10)"
   ]
  },
  {
   "cell_type": "code",
   "execution_count": 43,
   "metadata": {},
   "outputs": [],
   "source": [
    "selfattn_indicator_list = [f\"temporal_feature_{i}\" for i in range(40)]"
   ]
  },
  {
   "cell_type": "code",
   "execution_count": null,
   "metadata": {},
   "outputs": [],
   "source": [
    "selfattn_indicator_list"
   ]
  },
  {
   "cell_type": "code",
   "execution_count": null,
   "metadata": {
    "colab": {
     "base_uri": "https://localhost:8080/",
     "height": 357
    },
    "id": "k9zU9YaTTvFq",
    "outputId": "80e64947-4c5c-428f-a98c-6b344d816783"
   },
   "outputs": [],
   "source": [
    "trade.head()"
   ]
  },
  {
   "cell_type": "code",
   "execution_count": null,
   "metadata": {
    "colab": {
     "base_uri": "https://localhost:8080/"
    },
    "id": "zYN573SOHhxG",
    "outputId": "460cd177-65d2-46f8-eb40-eaeda045c4bb"
   },
   "outputs": [],
   "source": [
    "INDICATORS"
   ]
  },
  {
   "cell_type": "code",
   "execution_count": 44,
   "metadata": {},
   "outputs": [
    {
     "name": "stdout",
     "output_type": "stream",
     "text": [
      "Stock Dimension: 8, State Space: 337\n"
     ]
    }
   ],
   "source": [
    "stock_dimension = len(train.tic.unique())\n",
    "state_space = 1 + 2*stock_dimension + len(selfattn_indicator_list)*stock_dimension\n",
    "print(f\"Stock Dimension: {stock_dimension}, State Space: {state_space}\")\n"
   ]
  },
  {
   "cell_type": "code",
   "execution_count": null,
   "metadata": {
    "colab": {
     "base_uri": "https://localhost:8080/"
    },
    "id": "Q2zqII8rMIqn",
    "outputId": "d2e2b678-04f8-44be-96ea-3523903780eb"
   },
   "outputs": [],
   "source": [
    "stock_dimension = len(train.tic.unique())\n",
    "state_space = 1 + 2*stock_dimension + len(INDICATORS)*stock_dimension + len(selfattn_indicator_list)*stock_dimension\n",
    "print(f\"Stock Dimension: {stock_dimension}, State Space: {state_space}\")\n"
   ]
  },
  {
   "cell_type": "code",
   "execution_count": 45,
   "metadata": {
    "id": "AWyp84Ltto19"
   },
   "outputs": [],
   "source": [
    "buy_cost_list = sell_cost_list = [0.001] * stock_dimension\n",
    "num_stock_shares = [0] * stock_dimension\n",
    "\n",
    "env_kwargs = {\n",
    "    \"hmax\": 100,\n",
    "    \"initial_amount\": 1000000,\n",
    "    \"num_stock_shares\": num_stock_shares,\n",
    "    \"buy_cost_pct\": buy_cost_list,\n",
    "    \"sell_cost_pct\": sell_cost_list,\n",
    "    \"state_space\": state_space,\n",
    "    \"stock_dim\": stock_dimension,\n",
    "    \"tech_indicator_list\": INDICATORS,\n",
    "    \"action_space\": stock_dimension,\n",
    "    \"reward_scaling\": 1,\n",
    "    'attn_indicator_list':selfattn_indicator_list\n",
    "}\n",
    "\n",
    "\n",
    "e_train_gym = StockTradingEnv(df = train, **env_kwargs)\n"
   ]
  },
  {
   "cell_type": "markdown",
   "metadata": {
    "id": "64EoqOrQjiVf"
   },
   "source": [
    "## Environment for Training\n",
    "\n"
   ]
  },
  {
   "cell_type": "code",
   "execution_count": 46,
   "metadata": {
    "colab": {
     "base_uri": "https://localhost:8080/"
    },
    "id": "xwSvvPjutpqS",
    "outputId": "3645668e-ba1f-4610-9789-bc212eb9b776",
    "scrolled": true
   },
   "outputs": [
    {
     "name": "stdout",
     "output_type": "stream",
     "text": [
      "<class 'stable_baselines3.common.vec_env.dummy_vec_env.DummyVecEnv'>\n"
     ]
    }
   ],
   "source": [
    "env_train, _ = e_train_gym.get_sb_env()\n",
    "print(type(env_train))"
   ]
  },
  {
   "cell_type": "markdown",
   "metadata": {
    "id": "HMNR5nHjh1iz"
   },
   "source": [
    "<a id='5'></a>\n",
    "# Part 6: Train DRL Agents\n",
    "* The DRL algorithms are from **Stable Baselines 3**. Users are also encouraged to try **ElegantRL** and **Ray RLlib**.\n",
    "* FinRL includes fine-tuned standard DRL algorithms, such as DQN, DDPG, Multi-Agent DDPG, PPO, SAC, A2C and TD3. We also allow users to\n",
    "design their own DRL algorithms by adapting these DRL algorithms."
   ]
  },
  {
   "cell_type": "code",
   "execution_count": 47,
   "metadata": {
    "id": "364PsqckttcQ"
   },
   "outputs": [],
   "source": [
    "agent = DRLAgent(env = env_train)\n",
    "\n",
    "if_using_a2c = False\n",
    "if_using_ddpg = False\n",
    "if_using_ppo = False\n",
    "if_using_td3 = False\n",
    "if_using_sac = True\n"
   ]
  },
  {
   "cell_type": "code",
   "execution_count": null,
   "metadata": {},
   "outputs": [],
   "source": [
    "import torch\n",
    "device = torch.device(\"mps\")"
   ]
  },
  {
   "cell_type": "markdown",
   "metadata": {
    "id": "YDmqOyF9h1iz"
   },
   "source": [
    "### Agent Training: 5 algorithms (A2C, DDPG, PPO, TD3, SAC)\n"
   ]
  },
  {
   "cell_type": "markdown",
   "metadata": {
    "id": "uijiWgkuh1jB"
   },
   "source": [
    "### Agent 1: A2C\n"
   ]
  },
  {
   "cell_type": "code",
   "execution_count": null,
   "metadata": {
    "colab": {
     "base_uri": "https://localhost:8080/"
    },
    "id": "GUCnkn-HIbmj",
    "outputId": "a2bdd15c-c366-4f89-e6de-6b0572c2ad23"
   },
   "outputs": [],
   "source": [
    "agent = DRLAgent(env = env_train)\n",
    "model_a2c = agent.get_model(\"a2c\")\n",
    "\n",
    "if if_using_a2c:\n",
    "  # set up logger\n",
    "  tmp_path = RESULTS_DIR + '/a2c'\n",
    "  new_logger_a2c = configure(tmp_path, [\"stdout\", \"csv\", \"tensorboard\"])\n",
    "  # Set new logger\n",
    "  model_a2c.set_logger(new_logger_a2c)\n"
   ]
  },
  {
   "cell_type": "code",
   "execution_count": null,
   "metadata": {
    "id": "0GVpkWGqH4-D"
   },
   "outputs": [],
   "source": [
    "trained_a2c = agent.train_model(model=model_a2c, \n",
    "                             tb_log_name='a2c',\n",
    "                             total_timesteps=50000) if if_using_a2c else None"
   ]
  },
  {
   "cell_type": "markdown",
   "metadata": {
    "id": "MRiOtrywfAo1"
   },
   "source": [
    "### Agent 2: DDPG"
   ]
  },
  {
   "cell_type": "code",
   "execution_count": null,
   "metadata": {
    "colab": {
     "base_uri": "https://localhost:8080/"
    },
    "id": "M2YadjfnLwgt",
    "outputId": "211f6ae4-c91e-41df-8906-df246e090f75"
   },
   "outputs": [],
   "source": [
    "agent = DRLAgent(env = env_train)\n",
    "model_ddpg = agent.get_model(\"ddpg\")\n",
    "\n",
    "if if_using_ddpg:\n",
    "  # set up logger\n",
    "  tmp_path = RESULTS_DIR + '/ddpg'\n",
    "  new_logger_ddpg = configure(tmp_path, [\"stdout\", \"csv\", \"tensorboard\"])\n",
    "  # Set new logger\n",
    "  model_ddpg.set_logger(new_logger_ddpg)"
   ]
  },
  {
   "cell_type": "code",
   "execution_count": null,
   "metadata": {
    "id": "tCDa78rqfO_a"
   },
   "outputs": [],
   "source": [
    "trained_ddpg = agent.train_model(model=model_ddpg, \n",
    "                             tb_log_name='ddpg',\n",
    "                             total_timesteps=50000) if if_using_ddpg else None"
   ]
  },
  {
   "cell_type": "markdown",
   "metadata": {
    "id": "_gDkU-j-fCmZ"
   },
   "source": [
    "### Agent 3: PPO"
   ]
  },
  {
   "cell_type": "code",
   "execution_count": null,
   "metadata": {
    "colab": {
     "base_uri": "https://localhost:8080/"
    },
    "id": "y5D5PFUhMzSV",
    "outputId": "3405d353-0a08-4855-ca59-98098968dd11"
   },
   "outputs": [],
   "source": [
    "agent = DRLAgent(env = env_train)\n",
    "PPO_PARAMS = {\n",
    "    \"n_steps\": 2048,\n",
    "    \"ent_coef\": 0.01,\n",
    "    \"learning_rate\": 0.00025,\n",
    "    \"batch_size\": 128,\n",
    "}\n",
    "model_ppo = agent.get_model(\"ppo\",model_kwargs = PPO_PARAMS)\n",
    "\n",
    "if if_using_ppo:\n",
    "  # set up logger\n",
    "  tmp_path = RESULTS_DIR + '/ppo'\n",
    "  new_logger_ppo = configure(tmp_path, [\"stdout\", \"csv\", \"tensorboard\"])\n",
    "  # Set new logger\n",
    "  model_ppo.set_logger(new_logger_ppo)"
   ]
  },
  {
   "cell_type": "code",
   "execution_count": null,
   "metadata": {
    "id": "Gt8eIQKYM4G3",
    "scrolled": true
   },
   "outputs": [],
   "source": [
    "trained_ppo = agent.train_model(model=model_ppo, \n",
    "                             tb_log_name='ppo',\n",
    "                             total_timesteps=30000) if if_using_ppo else None"
   ]
  },
  {
   "cell_type": "markdown",
   "metadata": {
    "id": "3Zpv4S0-fDBv"
   },
   "source": [
    "### Agent 4: TD3"
   ]
  },
  {
   "cell_type": "code",
   "execution_count": null,
   "metadata": {
    "colab": {
     "base_uri": "https://localhost:8080/"
    },
    "id": "JSAHhV4Xc-bh",
    "outputId": "802fef04-8df5-4df2-f710-e5b08941842f"
   },
   "outputs": [],
   "source": [
    "agent = DRLAgent(env = env_train)\n",
    "TD3_PARAMS = {\"batch_size\": 100, \n",
    "              \"buffer_size\": 1000000, \n",
    "              \"learning_rate\": 0.001}\n",
    "\n",
    "model_td3 = agent.get_model(\"td3\",model_kwargs = TD3_PARAMS)\n",
    "\n",
    "if if_using_td3:\n",
    "  # set up logger\n",
    "  tmp_path = RESULTS_DIR + '/td3'\n",
    "  new_logger_td3 = configure(tmp_path, [\"stdout\", \"csv\", \"tensorboard\"])\n",
    "  # Set new logger\n",
    "  model_td3.set_logger(new_logger_td3)"
   ]
  },
  {
   "cell_type": "code",
   "execution_count": null,
   "metadata": {
    "id": "OSRxNYAxdKpU"
   },
   "outputs": [],
   "source": [
    "trained_td3 = agent.train_model(model=model_td3, \n",
    "                             tb_log_name='td3',\n",
    "                             total_timesteps=30000) if if_using_td3 else None"
   ]
  },
  {
   "cell_type": "markdown",
   "metadata": {
    "id": "Dr49PotrfG01"
   },
   "source": [
    "### Agent 5: SAC"
   ]
  },
  {
   "cell_type": "code",
   "execution_count": 48,
   "metadata": {
    "colab": {
     "base_uri": "https://localhost:8080/"
    },
    "id": "xwOhVjqRkCdM",
    "outputId": "3c848ff6-587e-43d1-b50d-a7d521a14b4f"
   },
   "outputs": [
    {
     "name": "stdout",
     "output_type": "stream",
     "text": [
      "{'batch_size': 128, 'buffer_size': 100000, 'learning_rate': 0.0001, 'learning_starts': 100, 'ent_coef': 'auto_0.1'}\n",
      "Using cpu device\n",
      "Logging to results/sac\n"
     ]
    }
   ],
   "source": [
    "agent = DRLAgent(env = env_train)\n",
    "SAC_PARAMS = {\n",
    "    \"batch_size\": 128,\n",
    "    \"buffer_size\": 100000,\n",
    "    \"learning_rate\": 0.0001,\n",
    "    \"learning_starts\": 100,\n",
    "    \"ent_coef\": \"auto_0.1\",\n",
    "}\n",
    "\n",
    "model_sac = agent.get_model(\"sac\",model_kwargs = SAC_PARAMS)\n",
    "\n",
    "if if_using_sac:\n",
    "  # set up logger\n",
    "  tmp_path = RESULTS_DIR + '/sac'\n",
    "  new_logger_sac = configure(tmp_path, [\"stdout\", \"csv\", \"tensorboard\"])\n",
    "  # Set new logger\n",
    "  model_sac.set_logger(new_logger_sac)"
   ]
  },
  {
   "cell_type": "code",
   "execution_count": 49,
   "metadata": {
    "colab": {
     "base_uri": "https://localhost:8080/"
    },
    "id": "K8RSdKCckJyH",
    "outputId": "4d65a11b-32b0-4c3f-b0da-e1b59fc6e194"
   },
   "outputs": [
    {
     "name": "stdout",
     "output_type": "stream",
     "text": [
      "----------------------------------\n",
      "| time/              |           |\n",
      "|    episodes        | 4         |\n",
      "|    fps             | 91        |\n",
      "|    time_elapsed    | 63        |\n",
      "|    total_timesteps | 5796      |\n",
      "| train/             |           |\n",
      "|    actor_loss      | 6.43e+03  |\n",
      "|    critic_loss     | 1.1e+08   |\n",
      "|    ent_coef        | 0.173     |\n",
      "|    ent_coef_loss   | 211       |\n",
      "|    learning_rate   | 0.0001    |\n",
      "|    n_updates       | 5695      |\n",
      "|    reward          | -12655.02 |\n",
      "----------------------------------\n",
      "----------------------------------\n",
      "| time/              |           |\n",
      "|    episodes        | 8         |\n",
      "|    fps             | 90        |\n",
      "|    time_elapsed    | 127       |\n",
      "|    total_timesteps | 11592     |\n",
      "| train/             |           |\n",
      "|    actor_loss      | 1.18e+04  |\n",
      "|    critic_loss     | 1.08e+08  |\n",
      "|    ent_coef        | 0.308     |\n",
      "|    ent_coef_loss   | 141       |\n",
      "|    learning_rate   | 0.0001    |\n",
      "|    n_updates       | 11491     |\n",
      "|    reward          | -12655.02 |\n",
      "----------------------------------\n",
      "day: 1448, episode: 10\n",
      "begin_total_asset: 1000000.00\n",
      "end_total_asset: 728567.60\n",
      "total_reward: -271432.40\n",
      "total_cost: 999.00\n",
      "total_trades: 1448\n",
      "Sharpe: 0.010\n",
      "=================================\n",
      "----------------------------------\n",
      "| time/              |           |\n",
      "|    episodes        | 12        |\n",
      "|    fps             | 90        |\n",
      "|    time_elapsed    | 192       |\n",
      "|    total_timesteps | 17388     |\n",
      "| train/             |           |\n",
      "|    actor_loss      | 1.64e+04  |\n",
      "|    critic_loss     | 1.93e+08  |\n",
      "|    ent_coef        | 0.55      |\n",
      "|    ent_coef_loss   | 71.8      |\n",
      "|    learning_rate   | 0.0001    |\n",
      "|    n_updates       | 17287     |\n",
      "|    reward          | -12655.02 |\n",
      "----------------------------------\n",
      "----------------------------------\n",
      "| time/              |           |\n",
      "|    episodes        | 16        |\n",
      "|    fps             | 89        |\n",
      "|    time_elapsed    | 260       |\n",
      "|    total_timesteps | 23184     |\n",
      "| train/             |           |\n",
      "|    actor_loss      | 2.26e+04  |\n",
      "|    critic_loss     | 2.92e+08  |\n",
      "|    ent_coef        | 0.983     |\n",
      "|    ent_coef_loss   | 2.1       |\n",
      "|    learning_rate   | 0.0001    |\n",
      "|    n_updates       | 23083     |\n",
      "|    reward          | -12655.02 |\n",
      "----------------------------------\n",
      "day: 1448, episode: 20\n",
      "begin_total_asset: 1000000.00\n",
      "end_total_asset: 728567.60\n",
      "total_reward: -271432.40\n",
      "total_cost: 999.00\n",
      "total_trades: 1448\n",
      "Sharpe: 0.010\n",
      "=================================\n",
      "----------------------------------\n",
      "| time/              |           |\n",
      "|    episodes        | 20        |\n",
      "|    fps             | 88        |\n",
      "|    time_elapsed    | 325       |\n",
      "|    total_timesteps | 28980     |\n",
      "| train/             |           |\n",
      "|    actor_loss      | 2.7e+04   |\n",
      "|    critic_loss     | 1.32e+08  |\n",
      "|    ent_coef        | 1.75      |\n",
      "|    ent_coef_loss   | -67.7     |\n",
      "|    learning_rate   | 0.0001    |\n",
      "|    n_updates       | 28879     |\n",
      "|    reward          | -12655.02 |\n",
      "----------------------------------\n",
      "----------------------------------\n",
      "| time/              |           |\n",
      "|    episodes        | 24        |\n",
      "|    fps             | 88        |\n",
      "|    time_elapsed    | 394       |\n",
      "|    total_timesteps | 34776     |\n",
      "| train/             |           |\n",
      "|    actor_loss      | 3.51e+04  |\n",
      "|    critic_loss     | 1.5e+08   |\n",
      "|    ent_coef        | 3.13      |\n",
      "|    ent_coef_loss   | -137      |\n",
      "|    learning_rate   | 0.0001    |\n",
      "|    n_updates       | 34675     |\n",
      "|    reward          | -12655.02 |\n",
      "----------------------------------\n"
     ]
    }
   ],
   "source": [
    "trained_sac = agent.train_model(model=model_sac, \n",
    "                             tb_log_name='sac',\n",
    "                             total_timesteps=40000) if if_using_sac else None"
   ]
  },
  {
   "cell_type": "markdown",
   "metadata": {
    "id": "f2wZgkQXh1jE"
   },
   "source": [
    "## In-sample Performance\n",
    "\n",
    "Assume that the initial capital is $1,000,000."
   ]
  },
  {
   "cell_type": "markdown",
   "metadata": {
    "id": "bEv5KGC8h1jE"
   },
   "source": [
    "### Set turbulence threshold\n",
    "Set the turbulence threshold to be greater than the maximum of insample turbulence data. If current turbulence index is greater than the threshold, then we assume that the current market is volatile"
   ]
  },
  {
   "cell_type": "code",
   "execution_count": 50,
   "metadata": {
    "id": "efwBi84ch1jE"
   },
   "outputs": [],
   "source": [
    "data_risk_indicator = addfeature_df[(addfeature_df.date<TRAIN_END_DATE) & (addfeature_df.date>=TRAIN_START_DATE)]\n",
    "insample_risk_indicator = data_risk_indicator.drop_duplicates(subset=['date'])"
   ]
  },
  {
   "cell_type": "code",
   "execution_count": null,
   "metadata": {
    "colab": {
     "base_uri": "https://localhost:8080/"
    },
    "id": "VHZMBpSqh1jG",
    "outputId": "73edde3b-1414-4a0d-f876-6460de2ff8e1"
   },
   "outputs": [],
   "source": [
    "insample_risk_indicator.vix.describe()"
   ]
  },
  {
   "cell_type": "code",
   "execution_count": null,
   "metadata": {
    "colab": {
     "base_uri": "https://localhost:8080/"
    },
    "id": "BDkszkMloRWT",
    "outputId": "c5df1f2f-ed52-4107-a3af-a358767ae155"
   },
   "outputs": [],
   "source": [
    "insample_risk_indicator.vix.quantile(0.996)"
   ]
  },
  {
   "cell_type": "code",
   "execution_count": null,
   "metadata": {
    "colab": {
     "base_uri": "https://localhost:8080/"
    },
    "id": "AL7hs7svnNWT",
    "outputId": "ab5a1015-3f83-41b7-ba65-1487f3188588"
   },
   "outputs": [],
   "source": [
    "insample_risk_indicator.turbulence.describe()"
   ]
  },
  {
   "cell_type": "code",
   "execution_count": null,
   "metadata": {
    "colab": {
     "base_uri": "https://localhost:8080/"
    },
    "id": "N78hfHckoqJ9",
    "outputId": "2c8a54d6-022f-4716-dc6d-22a450f5b9ab"
   },
   "outputs": [],
   "source": [
    "insample_risk_indicator.turbulence.quantile(0.996)"
   ]
  },
  {
   "cell_type": "markdown",
   "metadata": {
    "id": "U5mmgQF_h1jQ"
   },
   "source": [
    "### Trading (Out-of-sample Performance)\n",
    "\n",
    "We update periodically in order to take full advantage of the data, e.g., retrain quarterly, monthly or weekly. We also tune the parameters along the way, in this notebook we use the in-sample data from 2009-01 to 2020-07 to tune the parameters once, so there is some alpha decay here as the length of trade date extends. \n",
    "\n",
    "Numerous hyperparameters – e.g. the learning rate, the total number of samples to train on – influence the learning process and are usually determined by testing some variations."
   ]
  },
  {
   "cell_type": "code",
   "execution_count": 53,
   "metadata": {
    "id": "cIqoV0GSI52v"
   },
   "outputs": [],
   "source": [
    "e_trade_gym = StockTradingEnv(df = trade,**env_kwargs)\n",
    "# env_trade, obs_trade = e_trade_gym.get_sb_env()"
   ]
  },
  {
   "cell_type": "code",
   "execution_count": null,
   "metadata": {
    "colab": {
     "base_uri": "https://localhost:8080/",
     "height": 357
    },
    "id": "W_XNgGsBMeVw",
    "outputId": "56d2af8e-7ee7-4248-ce7a-3132625c61b1"
   },
   "outputs": [],
   "source": [
    "trade.head()"
   ]
  },
  {
   "cell_type": "code",
   "execution_count": 54,
   "metadata": {
    "colab": {
     "base_uri": "https://localhost:8080/"
    },
    "id": "eLOnL5eYh1jR",
    "outputId": "d31d2209-05ef-41df-fd8f-ee081d427949"
   },
   "outputs": [
    {
     "name": "stdout",
     "output_type": "stream",
     "text": [
      "hit end!\n"
     ]
    }
   ],
   "source": [
    "trained_moedl = trained_sac\n",
    "df_account_value, df_actions = DRLAgent.DRL_prediction(\n",
    "    model=trained_moedl, \n",
    "    environment = e_trade_gym)"
   ]
  },
  {
   "cell_type": "code",
   "execution_count": 55,
   "metadata": {
    "colab": {
     "base_uri": "https://localhost:8080/"
    },
    "id": "ERxw3KqLkcP4",
    "outputId": "780c7269-0139-42e0-8ad6-081fd93717bf"
   },
   "outputs": [
    {
     "data": {
      "text/plain": [
       "(208, 2)"
      ]
     },
     "execution_count": 55,
     "metadata": {},
     "output_type": "execute_result"
    }
   ],
   "source": [
    "df_account_value.shape"
   ]
  },
  {
   "cell_type": "code",
   "execution_count": null,
   "metadata": {
    "colab": {
     "base_uri": "https://localhost:8080/",
     "height": 206
    },
    "id": "2yRkNguY5yvp",
    "outputId": "13f1ace3-c343-4bee-e0c1-214b2f8a1372"
   },
   "outputs": [],
   "source": [
    "df_account_value.tail()"
   ]
  },
  {
   "cell_type": "code",
   "execution_count": null,
   "metadata": {
    "colab": {
     "base_uri": "https://localhost:8080/",
     "height": 267
    },
    "id": "nFlK5hNbWVFk",
    "outputId": "a635843e-7732-47ce-8044-9c87a33de736"
   },
   "outputs": [],
   "source": [
    "df_actions.head()"
   ]
  },
  {
   "cell_type": "markdown",
   "metadata": {
    "id": "W6vvNSC6h1jZ"
   },
   "source": [
    "<a id='6'></a>\n",
    "# Part 7: Backtesting Results\n",
    "Backtesting plays a key role in evaluating the performance of a trading strategy. Automated backtesting tool is preferred because it reduces the human error. We usually use the Quantopian pyfolio package to backtest our trading strategies. It is easy to use and consists of various individual plots that provide a comprehensive image of the performance of a trading strategy."
   ]
  },
  {
   "cell_type": "markdown",
   "metadata": {
    "id": "Lr2zX7ZxNyFQ"
   },
   "source": [
    "<a id='6.1'></a>\n",
    "## 7.1 BackTestStats\n",
    "pass in df_account_value, this information is stored in env class\n"
   ]
  },
  {
   "cell_type": "code",
   "execution_count": 56,
   "metadata": {
    "colab": {
     "base_uri": "https://localhost:8080/"
    },
    "id": "Nzkr9yv-AdV_",
    "outputId": "216032a2-5566-4dba-db83-7d7d880b1e88"
   },
   "outputs": [
    {
     "name": "stdout",
     "output_type": "stream",
     "text": [
      "==============Get Backtest Results===========\n",
      "Annual return          0.010144\n",
      "Cumulative returns     0.008366\n",
      "Annual volatility      0.032764\n",
      "Sharpe ratio           0.325890\n",
      "Calmar ratio           0.361605\n",
      "Stability              0.379069\n",
      "Max drawdown          -0.028054\n",
      "Omega ratio            1.068954\n",
      "Sortino ratio          0.447020\n",
      "Skew                        NaN\n",
      "Kurtosis                    NaN\n",
      "Tail ratio             1.327731\n",
      "Daily value at risk   -0.004085\n",
      "dtype: float64\n"
     ]
    }
   ],
   "source": [
    "print(\"==============Get Backtest Results===========\")\n",
    "#now = datetime.datetime.now().strftime('%Y%m%d-%Hh%M')\n",
    "\n",
    "perf_stats_all = backtest_stats(account_value=df_account_value)\n",
    "perf_stats_all = pd.DataFrame(perf_stats_all)\n",
    "#perf_stats_all.to_csv(\"./\"+RESULTS_DIR+\"/perf_stats_all_\"+now+'.csv')"
   ]
  },
  {
   "cell_type": "code",
   "execution_count": 57,
   "metadata": {},
   "outputs": [
    {
     "name": "stdout",
     "output_type": "stream",
     "text": [
      "         tic      date     weight\n",
      "0  600104.SH  20200228  13.490773\n",
      "1  600340.SH  20200228   4.933550\n",
      "2  600547.SH  20200228   6.119132\n",
      "3  600837.SH  20200228  19.934984\n",
      "4  600887.SH  20200228  30.557415\n",
      "5  601138.SH  20200228   5.287312\n",
      "6  601211.SH  20200228  13.289989\n",
      "7  601336.SH  20200228   6.386844\n"
     ]
    }
   ],
   "source": [
    "#获取随机选择的tic在select_date的权重并修正\n",
    "def get_selected_index_weight(df_index,select_date,selected_tics):\n",
    "    df = df_index[df_index['trade_date'] == select_date]\n",
    "    select_df = df[df['con_code'].isin(selected_tics)]\n",
    "    select_df = select_df.drop('index_code',axis=1).rename(columns={'con_code':'tic','trade_date':'date'})\n",
    "    select_df = select_df.reset_index()\n",
    "    weight_sum = select_df['weight'].sum()\n",
    "#     print(select_df)\n",
    "    for i in range(len(select_df)):\n",
    "        select_df.loc[i,'weight'] = (select_df.loc[i,'weight'] / weight_sum)*100\n",
    "    return select_df.loc[:,['tic','date','weight']]\n",
    "\n",
    "baseline_weight =get_selected_index_weight(df_index,select_date,selected_tics)\n",
    "baseline_weight = baseline_weight.sort_values(['tic'],ascending=True).reset_index(drop=True)\n",
    "print(baseline_weight)"
   ]
  },
  {
   "cell_type": "code",
   "execution_count": 66,
   "metadata": {},
   "outputs": [
    {
     "data": {
      "text/html": [
       "<div>\n",
       "<style scoped>\n",
       "    .dataframe tbody tr th:only-of-type {\n",
       "        vertical-align: middle;\n",
       "    }\n",
       "\n",
       "    .dataframe tbody tr th {\n",
       "        vertical-align: top;\n",
       "    }\n",
       "\n",
       "    .dataframe thead th {\n",
       "        text-align: right;\n",
       "    }\n",
       "</style>\n",
       "<table border=\"1\" class=\"dataframe\">\n",
       "  <thead>\n",
       "    <tr style=\"text-align: right;\">\n",
       "      <th></th>\n",
       "      <th>date</th>\n",
       "      <th>account_value</th>\n",
       "    </tr>\n",
       "  </thead>\n",
       "  <tbody>\n",
       "    <tr>\n",
       "      <th>0</th>\n",
       "      <td>2021-03-01</td>\n",
       "      <td>2665.379577</td>\n",
       "    </tr>\n",
       "    <tr>\n",
       "      <th>1</th>\n",
       "      <td>2021-03-02</td>\n",
       "      <td>2628.590209</td>\n",
       "    </tr>\n",
       "    <tr>\n",
       "      <th>2</th>\n",
       "      <td>2021-03-03</td>\n",
       "      <td>2682.717086</td>\n",
       "    </tr>\n",
       "    <tr>\n",
       "      <th>3</th>\n",
       "      <td>2021-03-04</td>\n",
       "      <td>2604.078401</td>\n",
       "    </tr>\n",
       "    <tr>\n",
       "      <th>4</th>\n",
       "      <td>2021-03-05</td>\n",
       "      <td>2595.751506</td>\n",
       "    </tr>\n",
       "    <tr>\n",
       "      <th>...</th>\n",
       "      <td>...</td>\n",
       "      <td>...</td>\n",
       "    </tr>\n",
       "    <tr>\n",
       "      <th>203</th>\n",
       "      <td>2021-12-27</td>\n",
       "      <td>2479.378717</td>\n",
       "    </tr>\n",
       "    <tr>\n",
       "      <th>204</th>\n",
       "      <td>2021-12-28</td>\n",
       "      <td>2483.773401</td>\n",
       "    </tr>\n",
       "    <tr>\n",
       "      <th>205</th>\n",
       "      <td>2021-12-29</td>\n",
       "      <td>2453.129075</td>\n",
       "    </tr>\n",
       "    <tr>\n",
       "      <th>206</th>\n",
       "      <td>2021-12-30</td>\n",
       "      <td>2464.591261</td>\n",
       "    </tr>\n",
       "    <tr>\n",
       "      <th>207</th>\n",
       "      <td>2021-12-31</td>\n",
       "      <td>2471.653982</td>\n",
       "    </tr>\n",
       "  </tbody>\n",
       "</table>\n",
       "<p>208 rows × 2 columns</p>\n",
       "</div>"
      ],
      "text/plain": [
       "          date  account_value\n",
       "0   2021-03-01    2665.379577\n",
       "1   2021-03-02    2628.590209\n",
       "2   2021-03-03    2682.717086\n",
       "3   2021-03-04    2604.078401\n",
       "4   2021-03-05    2595.751506\n",
       "..         ...            ...\n",
       "203 2021-12-27    2479.378717\n",
       "204 2021-12-28    2483.773401\n",
       "205 2021-12-29    2453.129075\n",
       "206 2021-12-30    2464.591261\n",
       "207 2021-12-31    2471.653982\n",
       "\n",
       "[208 rows x 2 columns]"
      ]
     },
     "execution_count": 66,
     "metadata": {},
     "output_type": "execute_result"
    }
   ],
   "source": [
    "#计算所选股票的buy & hold策略\n",
    "def calculate_selected_baseline(df,full_date_range,selected_tics):\n",
    "    df = df.sort_values(['tic','date'],ascending=True).reset_index(drop=True)\n",
    "    baseline = pd.DataFrame({'date':full_date_range['date']})\n",
    "    for i in range(len(full_date_range)):\n",
    "        temp_date = full_date_range.loc[i,'date']\n",
    "        temp_df = df[df['date'] == temp_date].sort_values('tic',ascending=True)\n",
    "        close = list(temp_df['close'])\n",
    "        weight = list(baseline_weight['weight'])\n",
    "        baseline.loc[i,'account_value'] = sum(np.array(close) * np.array(weight)) #注意权重和收盘价对应的股票顺序\n",
    "    baseline['date'] = pd.to_datetime(baseline['date'],format='%Y%m%d')\n",
    "#     baseline.set_index(\"date\", inplace=True, drop=True)\n",
    "#     baseline.index = baseline.index.tz_localize(\"UTC\")\n",
    "    return baseline\n",
    "# full_date_range = get_trading_days(exchange='SSE',start_date='20210301', end_date='20230227')\n",
    "# full_date_range = full_date_range.sort_values('trade_date',ascending=True).reset_index(drop=True)\n",
    "# subset_df = addfeature_df.loc[(addfeature_df['date'].astype(str) >='20210301') & (addfeature_df['date'].astype(str)<='20220227')]\n",
    "full_date_range1 = pd.DataFrame({'date':df_account_value['date'].unique()}).reset_index(drop=True)\n",
    "baseline_sse = calculate_selected_baseline(addfeature_df,full_date_range1,selected_tics)\n",
    "baseline_sse"
   ]
  },
  {
   "cell_type": "code",
   "execution_count": 60,
   "metadata": {
    "collapsed": true
   },
   "outputs": [
    {
     "data": {
      "text/html": [
       "<div>\n",
       "<style scoped>\n",
       "    .dataframe tbody tr th:only-of-type {\n",
       "        vertical-align: middle;\n",
       "    }\n",
       "\n",
       "    .dataframe tbody tr th {\n",
       "        vertical-align: top;\n",
       "    }\n",
       "\n",
       "    .dataframe thead th {\n",
       "        text-align: right;\n",
       "    }\n",
       "</style>\n",
       "<table border=\"1\" class=\"dataframe\">\n",
       "  <thead>\n",
       "    <tr style=\"text-align: right;\">\n",
       "      <th></th>\n",
       "      <th>tic</th>\n",
       "      <th>date</th>\n",
       "      <th>close</th>\n",
       "      <th>temporal_feature_0</th>\n",
       "      <th>temporal_feature_1</th>\n",
       "      <th>temporal_feature_2</th>\n",
       "      <th>temporal_feature_3</th>\n",
       "      <th>temporal_feature_4</th>\n",
       "      <th>temporal_feature_5</th>\n",
       "      <th>temporal_feature_6</th>\n",
       "      <th>...</th>\n",
       "      <th>temporal_feature_30</th>\n",
       "      <th>temporal_feature_31</th>\n",
       "      <th>temporal_feature_32</th>\n",
       "      <th>temporal_feature_33</th>\n",
       "      <th>temporal_feature_34</th>\n",
       "      <th>temporal_feature_35</th>\n",
       "      <th>temporal_feature_36</th>\n",
       "      <th>temporal_feature_37</th>\n",
       "      <th>temporal_feature_38</th>\n",
       "      <th>temporal_feature_39</th>\n",
       "    </tr>\n",
       "  </thead>\n",
       "  <tbody>\n",
       "    <tr>\n",
       "      <th>0</th>\n",
       "      <td>600104.SH</td>\n",
       "      <td>2015-03-19</td>\n",
       "      <td>24.71</td>\n",
       "      <td>-0.685629</td>\n",
       "      <td>-0.720051</td>\n",
       "      <td>-0.788440</td>\n",
       "      <td>1.056978</td>\n",
       "      <td>-0.217109</td>\n",
       "      <td>-0.065294</td>\n",
       "      <td>0.021171</td>\n",
       "      <td>...</td>\n",
       "      <td>1.137640</td>\n",
       "      <td>0.067500</td>\n",
       "      <td>1.152653</td>\n",
       "      <td>0.970156</td>\n",
       "      <td>-1.672183</td>\n",
       "      <td>-0.859973</td>\n",
       "      <td>-1.091588</td>\n",
       "      <td>0.064175</td>\n",
       "      <td>-0.307347</td>\n",
       "      <td>-1.024077</td>\n",
       "    </tr>\n",
       "    <tr>\n",
       "      <th>1</th>\n",
       "      <td>600104.SH</td>\n",
       "      <td>2015-03-20</td>\n",
       "      <td>24.71</td>\n",
       "      <td>-0.825145</td>\n",
       "      <td>-0.539233</td>\n",
       "      <td>-0.869592</td>\n",
       "      <td>0.946963</td>\n",
       "      <td>-0.180360</td>\n",
       "      <td>-0.060116</td>\n",
       "      <td>0.020285</td>\n",
       "      <td>...</td>\n",
       "      <td>1.019768</td>\n",
       "      <td>-0.051935</td>\n",
       "      <td>1.147488</td>\n",
       "      <td>0.778445</td>\n",
       "      <td>-1.668119</td>\n",
       "      <td>-1.051902</td>\n",
       "      <td>-1.016064</td>\n",
       "      <td>-0.007655</td>\n",
       "      <td>-0.239199</td>\n",
       "      <td>-1.035237</td>\n",
       "    </tr>\n",
       "    <tr>\n",
       "      <th>2</th>\n",
       "      <td>600104.SH</td>\n",
       "      <td>2015-03-23</td>\n",
       "      <td>25.46</td>\n",
       "      <td>-1.021337</td>\n",
       "      <td>-0.601413</td>\n",
       "      <td>-0.962846</td>\n",
       "      <td>1.141143</td>\n",
       "      <td>-0.106581</td>\n",
       "      <td>0.013600</td>\n",
       "      <td>0.044698</td>\n",
       "      <td>...</td>\n",
       "      <td>0.852832</td>\n",
       "      <td>-0.089386</td>\n",
       "      <td>1.299286</td>\n",
       "      <td>0.788713</td>\n",
       "      <td>-1.529159</td>\n",
       "      <td>-1.093202</td>\n",
       "      <td>-1.042035</td>\n",
       "      <td>-0.077120</td>\n",
       "      <td>-0.033720</td>\n",
       "      <td>-1.034090</td>\n",
       "    </tr>\n",
       "    <tr>\n",
       "      <th>3</th>\n",
       "      <td>600104.SH</td>\n",
       "      <td>2015-03-24</td>\n",
       "      <td>25.51</td>\n",
       "      <td>-0.737324</td>\n",
       "      <td>-0.772424</td>\n",
       "      <td>-0.895961</td>\n",
       "      <td>1.496457</td>\n",
       "      <td>-0.376672</td>\n",
       "      <td>-0.268712</td>\n",
       "      <td>0.364131</td>\n",
       "      <td>...</td>\n",
       "      <td>1.195056</td>\n",
       "      <td>0.045877</td>\n",
       "      <td>1.392800</td>\n",
       "      <td>0.960066</td>\n",
       "      <td>-1.599501</td>\n",
       "      <td>-0.912930</td>\n",
       "      <td>-1.072493</td>\n",
       "      <td>0.196815</td>\n",
       "      <td>-0.099987</td>\n",
       "      <td>-1.009710</td>\n",
       "    </tr>\n",
       "    <tr>\n",
       "      <th>4</th>\n",
       "      <td>600104.SH</td>\n",
       "      <td>2015-03-25</td>\n",
       "      <td>24.79</td>\n",
       "      <td>-0.875907</td>\n",
       "      <td>-0.863073</td>\n",
       "      <td>-0.933658</td>\n",
       "      <td>1.356204</td>\n",
       "      <td>-0.330987</td>\n",
       "      <td>-0.410442</td>\n",
       "      <td>0.145461</td>\n",
       "      <td>...</td>\n",
       "      <td>1.044580</td>\n",
       "      <td>0.034205</td>\n",
       "      <td>1.417628</td>\n",
       "      <td>0.708407</td>\n",
       "      <td>-1.651163</td>\n",
       "      <td>-0.776831</td>\n",
       "      <td>-1.071662</td>\n",
       "      <td>0.074468</td>\n",
       "      <td>-0.438858</td>\n",
       "      <td>-0.856375</td>\n",
       "    </tr>\n",
       "    <tr>\n",
       "      <th>...</th>\n",
       "      <td>...</td>\n",
       "      <td>...</td>\n",
       "      <td>...</td>\n",
       "      <td>...</td>\n",
       "      <td>...</td>\n",
       "      <td>...</td>\n",
       "      <td>...</td>\n",
       "      <td>...</td>\n",
       "      <td>...</td>\n",
       "      <td>...</td>\n",
       "      <td>...</td>\n",
       "      <td>...</td>\n",
       "      <td>...</td>\n",
       "      <td>...</td>\n",
       "      <td>...</td>\n",
       "      <td>...</td>\n",
       "      <td>...</td>\n",
       "      <td>...</td>\n",
       "      <td>...</td>\n",
       "      <td>...</td>\n",
       "      <td>...</td>\n",
       "    </tr>\n",
       "    <tr>\n",
       "      <th>13251</th>\n",
       "      <td>601336.SH</td>\n",
       "      <td>2021-12-27</td>\n",
       "      <td>38.54</td>\n",
       "      <td>0.967883</td>\n",
       "      <td>0.870768</td>\n",
       "      <td>-0.368305</td>\n",
       "      <td>-0.053448</td>\n",
       "      <td>1.435534</td>\n",
       "      <td>-0.050873</td>\n",
       "      <td>-0.769674</td>\n",
       "      <td>...</td>\n",
       "      <td>0.612730</td>\n",
       "      <td>-0.146083</td>\n",
       "      <td>0.782575</td>\n",
       "      <td>-0.706725</td>\n",
       "      <td>-1.159345</td>\n",
       "      <td>-0.813882</td>\n",
       "      <td>-0.986079</td>\n",
       "      <td>-1.687930</td>\n",
       "      <td>1.059072</td>\n",
       "      <td>-0.211687</td>\n",
       "    </tr>\n",
       "    <tr>\n",
       "      <th>13252</th>\n",
       "      <td>601336.SH</td>\n",
       "      <td>2021-12-28</td>\n",
       "      <td>38.9</td>\n",
       "      <td>1.019005</td>\n",
       "      <td>0.868325</td>\n",
       "      <td>-0.444494</td>\n",
       "      <td>0.130799</td>\n",
       "      <td>1.499849</td>\n",
       "      <td>-0.080379</td>\n",
       "      <td>-0.744683</td>\n",
       "      <td>...</td>\n",
       "      <td>0.595876</td>\n",
       "      <td>-0.133265</td>\n",
       "      <td>0.882290</td>\n",
       "      <td>-0.681690</td>\n",
       "      <td>-1.019547</td>\n",
       "      <td>-0.795075</td>\n",
       "      <td>-0.976471</td>\n",
       "      <td>-1.661369</td>\n",
       "      <td>1.111718</td>\n",
       "      <td>-0.207583</td>\n",
       "    </tr>\n",
       "    <tr>\n",
       "      <th>13253</th>\n",
       "      <td>601336.SH</td>\n",
       "      <td>2021-12-29</td>\n",
       "      <td>38.84</td>\n",
       "      <td>1.123853</td>\n",
       "      <td>0.184553</td>\n",
       "      <td>-0.667018</td>\n",
       "      <td>0.427636</td>\n",
       "      <td>1.551040</td>\n",
       "      <td>-0.046267</td>\n",
       "      <td>-0.892855</td>\n",
       "      <td>...</td>\n",
       "      <td>0.443955</td>\n",
       "      <td>-0.020844</td>\n",
       "      <td>0.528153</td>\n",
       "      <td>-0.784706</td>\n",
       "      <td>-1.263101</td>\n",
       "      <td>-0.901676</td>\n",
       "      <td>-0.808549</td>\n",
       "      <td>-1.317476</td>\n",
       "      <td>0.597605</td>\n",
       "      <td>-0.103068</td>\n",
       "    </tr>\n",
       "    <tr>\n",
       "      <th>13254</th>\n",
       "      <td>601336.SH</td>\n",
       "      <td>2021-12-30</td>\n",
       "      <td>38.88</td>\n",
       "      <td>0.971723</td>\n",
       "      <td>-0.194115</td>\n",
       "      <td>-0.656207</td>\n",
       "      <td>0.508096</td>\n",
       "      <td>1.469427</td>\n",
       "      <td>-0.091287</td>\n",
       "      <td>-0.875409</td>\n",
       "      <td>...</td>\n",
       "      <td>0.283373</td>\n",
       "      <td>-0.093154</td>\n",
       "      <td>0.344909</td>\n",
       "      <td>-0.710574</td>\n",
       "      <td>-1.420322</td>\n",
       "      <td>-0.816872</td>\n",
       "      <td>-0.790407</td>\n",
       "      <td>-1.290575</td>\n",
       "      <td>0.291341</td>\n",
       "      <td>0.117479</td>\n",
       "    </tr>\n",
       "    <tr>\n",
       "      <th>13255</th>\n",
       "      <td>601336.SH</td>\n",
       "      <td>2021-12-31</td>\n",
       "      <td>38.88</td>\n",
       "      <td>1.006253</td>\n",
       "      <td>-0.474091</td>\n",
       "      <td>-0.844985</td>\n",
       "      <td>0.687613</td>\n",
       "      <td>1.326267</td>\n",
       "      <td>-0.195156</td>\n",
       "      <td>-0.792029</td>\n",
       "      <td>...</td>\n",
       "      <td>0.384513</td>\n",
       "      <td>-0.117246</td>\n",
       "      <td>0.327459</td>\n",
       "      <td>-0.498436</td>\n",
       "      <td>-1.543247</td>\n",
       "      <td>-0.613048</td>\n",
       "      <td>-0.746749</td>\n",
       "      <td>-1.201501</td>\n",
       "      <td>-0.020121</td>\n",
       "      <td>0.098315</td>\n",
       "    </tr>\n",
       "  </tbody>\n",
       "</table>\n",
       "<p>13256 rows × 43 columns</p>\n",
       "</div>"
      ],
      "text/plain": [
       "             tic       date  close  temporal_feature_0  temporal_feature_1  \\\n",
       "0      600104.SH 2015-03-19  24.71           -0.685629           -0.720051   \n",
       "1      600104.SH 2015-03-20  24.71           -0.825145           -0.539233   \n",
       "2      600104.SH 2015-03-23  25.46           -1.021337           -0.601413   \n",
       "3      600104.SH 2015-03-24  25.51           -0.737324           -0.772424   \n",
       "4      600104.SH 2015-03-25  24.79           -0.875907           -0.863073   \n",
       "...          ...        ...    ...                 ...                 ...   \n",
       "13251  601336.SH 2021-12-27  38.54            0.967883            0.870768   \n",
       "13252  601336.SH 2021-12-28   38.9            1.019005            0.868325   \n",
       "13253  601336.SH 2021-12-29  38.84            1.123853            0.184553   \n",
       "13254  601336.SH 2021-12-30  38.88            0.971723           -0.194115   \n",
       "13255  601336.SH 2021-12-31  38.88            1.006253           -0.474091   \n",
       "\n",
       "       temporal_feature_2  temporal_feature_3  temporal_feature_4  \\\n",
       "0               -0.788440            1.056978           -0.217109   \n",
       "1               -0.869592            0.946963           -0.180360   \n",
       "2               -0.962846            1.141143           -0.106581   \n",
       "3               -0.895961            1.496457           -0.376672   \n",
       "4               -0.933658            1.356204           -0.330987   \n",
       "...                   ...                 ...                 ...   \n",
       "13251           -0.368305           -0.053448            1.435534   \n",
       "13252           -0.444494            0.130799            1.499849   \n",
       "13253           -0.667018            0.427636            1.551040   \n",
       "13254           -0.656207            0.508096            1.469427   \n",
       "13255           -0.844985            0.687613            1.326267   \n",
       "\n",
       "       temporal_feature_5  temporal_feature_6  ...  temporal_feature_30  \\\n",
       "0               -0.065294            0.021171  ...             1.137640   \n",
       "1               -0.060116            0.020285  ...             1.019768   \n",
       "2                0.013600            0.044698  ...             0.852832   \n",
       "3               -0.268712            0.364131  ...             1.195056   \n",
       "4               -0.410442            0.145461  ...             1.044580   \n",
       "...                   ...                 ...  ...                  ...   \n",
       "13251           -0.050873           -0.769674  ...             0.612730   \n",
       "13252           -0.080379           -0.744683  ...             0.595876   \n",
       "13253           -0.046267           -0.892855  ...             0.443955   \n",
       "13254           -0.091287           -0.875409  ...             0.283373   \n",
       "13255           -0.195156           -0.792029  ...             0.384513   \n",
       "\n",
       "       temporal_feature_31  temporal_feature_32  temporal_feature_33  \\\n",
       "0                 0.067500             1.152653             0.970156   \n",
       "1                -0.051935             1.147488             0.778445   \n",
       "2                -0.089386             1.299286             0.788713   \n",
       "3                 0.045877             1.392800             0.960066   \n",
       "4                 0.034205             1.417628             0.708407   \n",
       "...                    ...                  ...                  ...   \n",
       "13251            -0.146083             0.782575            -0.706725   \n",
       "13252            -0.133265             0.882290            -0.681690   \n",
       "13253            -0.020844             0.528153            -0.784706   \n",
       "13254            -0.093154             0.344909            -0.710574   \n",
       "13255            -0.117246             0.327459            -0.498436   \n",
       "\n",
       "       temporal_feature_34  temporal_feature_35  temporal_feature_36  \\\n",
       "0                -1.672183            -0.859973            -1.091588   \n",
       "1                -1.668119            -1.051902            -1.016064   \n",
       "2                -1.529159            -1.093202            -1.042035   \n",
       "3                -1.599501            -0.912930            -1.072493   \n",
       "4                -1.651163            -0.776831            -1.071662   \n",
       "...                    ...                  ...                  ...   \n",
       "13251            -1.159345            -0.813882            -0.986079   \n",
       "13252            -1.019547            -0.795075            -0.976471   \n",
       "13253            -1.263101            -0.901676            -0.808549   \n",
       "13254            -1.420322            -0.816872            -0.790407   \n",
       "13255            -1.543247            -0.613048            -0.746749   \n",
       "\n",
       "       temporal_feature_37  temporal_feature_38  temporal_feature_39  \n",
       "0                 0.064175            -0.307347            -1.024077  \n",
       "1                -0.007655            -0.239199            -1.035237  \n",
       "2                -0.077120            -0.033720            -1.034090  \n",
       "3                 0.196815            -0.099987            -1.009710  \n",
       "4                 0.074468            -0.438858            -0.856375  \n",
       "...                    ...                  ...                  ...  \n",
       "13251            -1.687930             1.059072            -0.211687  \n",
       "13252            -1.661369             1.111718            -0.207583  \n",
       "13253            -1.317476             0.597605            -0.103068  \n",
       "13254            -1.290575             0.291341             0.117479  \n",
       "13255            -1.201501            -0.020121             0.098315  \n",
       "\n",
       "[13256 rows x 43 columns]"
      ]
     },
     "execution_count": 60,
     "metadata": {},
     "output_type": "execute_result"
    }
   ],
   "source": [
    "addfeature_df"
   ]
  },
  {
   "cell_type": "code",
   "execution_count": null,
   "metadata": {},
   "outputs": [],
   "source": [
    "baseline_sse.info()"
   ]
  },
  {
   "cell_type": "code",
   "execution_count": null,
   "metadata": {},
   "outputs": [],
   "source": [
    "# baseline_sse = pro.index_daily(ts_code='000016.sh',start_date = '20200301',end_date='20230227')\n",
    "# baseline_sse = baseline_sse.rename(columns={'trade_date':'date'})\n",
    "# baseline_sse = baseline_sse.sort_values('date',ascending=True)\n",
    "# print(baseline_sse)"
   ]
  },
  {
   "cell_type": "code",
   "execution_count": null,
   "metadata": {
    "colab": {
     "base_uri": "https://localhost:8080/"
    },
    "id": "QkV-LB66iwhD",
    "outputId": "7231e720-1598-45ac-ff49-9f8d29f296fa"
   },
   "outputs": [],
   "source": [
    "#baseline stats\n",
    "print(\"==============Get Baseline Stats===========\")\n",
    "# baseline_df = get_baseline(\n",
    "#         ticker=\"^DJI\", \n",
    "#         start = df_account_value.loc[0,'date'],\n",
    "#         end = df_account_value.loc[len(df_account_value)-1,'date'])\n",
    "\n",
    "stats = backtest_stats(baseline_sse, value_col_name = 'account_value')\n"
   ]
  },
  {
   "cell_type": "code",
   "execution_count": 67,
   "metadata": {},
   "outputs": [
    {
     "data": {
      "text/html": [
       "<div>\n",
       "<style scoped>\n",
       "    .dataframe tbody tr th:only-of-type {\n",
       "        vertical-align: middle;\n",
       "    }\n",
       "\n",
       "    .dataframe tbody tr th {\n",
       "        vertical-align: top;\n",
       "    }\n",
       "\n",
       "    .dataframe thead th {\n",
       "        text-align: right;\n",
       "    }\n",
       "</style>\n",
       "<table border=\"1\" class=\"dataframe\">\n",
       "  <thead>\n",
       "    <tr style=\"text-align: right;\">\n",
       "      <th></th>\n",
       "      <th>date</th>\n",
       "      <th>account_value</th>\n",
       "    </tr>\n",
       "  </thead>\n",
       "  <tbody>\n",
       "    <tr>\n",
       "      <th>0</th>\n",
       "      <td>2021-03-01</td>\n",
       "      <td>1000000.000</td>\n",
       "    </tr>\n",
       "    <tr>\n",
       "      <th>1</th>\n",
       "      <td>2021-03-02</td>\n",
       "      <td>999990.798</td>\n",
       "    </tr>\n",
       "    <tr>\n",
       "      <th>2</th>\n",
       "      <td>2021-03-03</td>\n",
       "      <td>1000027.604</td>\n",
       "    </tr>\n",
       "    <tr>\n",
       "      <th>3</th>\n",
       "      <td>2021-03-04</td>\n",
       "      <td>999978.391</td>\n",
       "    </tr>\n",
       "    <tr>\n",
       "      <th>4</th>\n",
       "      <td>2021-03-05</td>\n",
       "      <td>1000037.194</td>\n",
       "    </tr>\n",
       "    <tr>\n",
       "      <th>...</th>\n",
       "      <td>...</td>\n",
       "      <td>...</td>\n",
       "    </tr>\n",
       "    <tr>\n",
       "      <th>203</th>\n",
       "      <td>2021-12-27</td>\n",
       "      <td>1005288.696</td>\n",
       "    </tr>\n",
       "    <tr>\n",
       "      <th>204</th>\n",
       "      <td>2021-12-28</td>\n",
       "      <td>1006511.485</td>\n",
       "    </tr>\n",
       "    <tr>\n",
       "      <th>205</th>\n",
       "      <td>2021-12-29</td>\n",
       "      <td>1006305.268</td>\n",
       "    </tr>\n",
       "    <tr>\n",
       "      <th>206</th>\n",
       "      <td>2021-12-30</td>\n",
       "      <td>1007746.052</td>\n",
       "    </tr>\n",
       "    <tr>\n",
       "      <th>207</th>\n",
       "      <td>2021-12-31</td>\n",
       "      <td>1008365.829</td>\n",
       "    </tr>\n",
       "  </tbody>\n",
       "</table>\n",
       "<p>208 rows × 2 columns</p>\n",
       "</div>"
      ],
      "text/plain": [
       "          date  account_value\n",
       "0   2021-03-01    1000000.000\n",
       "1   2021-03-02     999990.798\n",
       "2   2021-03-03    1000027.604\n",
       "3   2021-03-04     999978.391\n",
       "4   2021-03-05    1000037.194\n",
       "..         ...            ...\n",
       "203 2021-12-27    1005288.696\n",
       "204 2021-12-28    1006511.485\n",
       "205 2021-12-29    1006305.268\n",
       "206 2021-12-30    1007746.052\n",
       "207 2021-12-31    1008365.829\n",
       "\n",
       "[208 rows x 2 columns]"
      ]
     },
     "execution_count": 67,
     "metadata": {},
     "output_type": "execute_result"
    }
   ],
   "source": [
    "df_account_value"
   ]
  },
  {
   "cell_type": "markdown",
   "metadata": {
    "id": "9U6Suru3h1jc"
   },
   "source": [
    "<a id='6.2'></a>\n",
    "## 7.2 BackTestPlot"
   ]
  },
  {
   "cell_type": "code",
   "execution_count": 68,
   "metadata": {},
   "outputs": [],
   "source": [
    "import pyfolio\n",
    "from copy import deepcopy\n",
    "def backtest_plot_com(\n",
    "    account_value,\n",
    "    baseline,\n",
    "    baseline_start=TRADE_START_DATE,\n",
    "    baseline_end=TRADE_END_DATE,\n",
    "    value_col_name=\"account_value\",\n",
    "):\n",
    "    df = deepcopy(account_value)\n",
    "    df[\"date\"] = pd.to_datetime(df[\"date\"])\n",
    "    test_returns = get_daily_return(df, value_col_name=value_col_name)\n",
    "#     pro = ts.pro_api()\n",
    "#     baseline_df = pro.index_daily(ts_code='000016.sh',start_date = '20200301',end_date='20230227')\n",
    "#     baseline_df = baseline_df.rename(columns={'trade_date':'date'})\n",
    "#     baseline_df = baseline_df.sort_values('date',ascending=True)\n",
    "    baseline_returns = get_daily_return(baseline, value_col_name=value_col_name)\n",
    "    with pyfolio.plotting.plotting_context(font_scale=1.1):\n",
    "        pyfolio.create_full_tear_sheet(\n",
    "            returns=test_returns, benchmark_rets=baseline_returns, set_context=False\n",
    "        )"
   ]
  },
  {
   "cell_type": "code",
   "execution_count": 69,
   "metadata": {
    "colab": {
     "base_uri": "https://localhost:8080/",
     "height": 1000
    },
    "id": "lKRGftSS7pNM",
    "outputId": "db260938-69a7-4417-fed7-25679d43b0f6",
    "scrolled": false
   },
   "outputs": [
    {
     "name": "stdout",
     "output_type": "stream",
     "text": [
      "==============Compare to SSE50===========\n"
     ]
    },
    {
     "data": {
      "text/html": [
       "<table border=\"1\" class=\"dataframe\">\n",
       "  <thead>\n",
       "    <tr style=\"text-align: right;\"><th>Start date</th><td colspan=2>2021-03-01</td></tr>\n",
       "    <tr style=\"text-align: right;\"><th>End date</th><td colspan=2>2021-12-31</td></tr>\n",
       "    <tr style=\"text-align: right;\"><th>Total months</th><td colspan=2>9</td></tr>\n",
       "    <tr style=\"text-align: right;\">\n",
       "      <th></th>\n",
       "      <th>Backtest</th>\n",
       "    </tr>\n",
       "  </thead>\n",
       "  <tbody>\n",
       "    <tr>\n",
       "      <th>Annual return</th>\n",
       "      <td>1.014%</td>\n",
       "    </tr>\n",
       "    <tr>\n",
       "      <th>Cumulative returns</th>\n",
       "      <td>0.837%</td>\n",
       "    </tr>\n",
       "    <tr>\n",
       "      <th>Annual volatility</th>\n",
       "      <td>3.276%</td>\n",
       "    </tr>\n",
       "    <tr>\n",
       "      <th>Sharpe ratio</th>\n",
       "      <td>0.33</td>\n",
       "    </tr>\n",
       "    <tr>\n",
       "      <th>Calmar ratio</th>\n",
       "      <td>0.36</td>\n",
       "    </tr>\n",
       "    <tr>\n",
       "      <th>Stability</th>\n",
       "      <td>0.38</td>\n",
       "    </tr>\n",
       "    <tr>\n",
       "      <th>Max drawdown</th>\n",
       "      <td>-2.805%</td>\n",
       "    </tr>\n",
       "    <tr>\n",
       "      <th>Omega ratio</th>\n",
       "      <td>1.07</td>\n",
       "    </tr>\n",
       "    <tr>\n",
       "      <th>Sortino ratio</th>\n",
       "      <td>0.45</td>\n",
       "    </tr>\n",
       "    <tr>\n",
       "      <th>Skew</th>\n",
       "      <td>NaN</td>\n",
       "    </tr>\n",
       "    <tr>\n",
       "      <th>Kurtosis</th>\n",
       "      <td>NaN</td>\n",
       "    </tr>\n",
       "    <tr>\n",
       "      <th>Tail ratio</th>\n",
       "      <td>1.33</td>\n",
       "    </tr>\n",
       "    <tr>\n",
       "      <th>Daily value at risk</th>\n",
       "      <td>-0.409%</td>\n",
       "    </tr>\n",
       "    <tr>\n",
       "      <th>Alpha</th>\n",
       "      <td>0.02</td>\n",
       "    </tr>\n",
       "    <tr>\n",
       "      <th>Beta</th>\n",
       "      <td>0.08</td>\n",
       "    </tr>\n",
       "  </tbody>\n",
       "</table>"
      ],
      "text/plain": [
       "<IPython.core.display.HTML object>"
      ]
     },
     "metadata": {},
     "output_type": "display_data"
    },
    {
     "data": {
      "text/html": [
       "<table border=\"1\" class=\"dataframe\">\n",
       "  <thead>\n",
       "    <tr style=\"text-align: right;\">\n",
       "      <th>Worst drawdown periods</th>\n",
       "      <th>Net drawdown in %</th>\n",
       "      <th>Peak date</th>\n",
       "      <th>Valley date</th>\n",
       "      <th>Recovery date</th>\n",
       "      <th>Duration</th>\n",
       "    </tr>\n",
       "  </thead>\n",
       "  <tbody>\n",
       "    <tr>\n",
       "      <th>0</th>\n",
       "      <td>2.81</td>\n",
       "      <td>2021-09-07</td>\n",
       "      <td>2021-11-30</td>\n",
       "      <td>NaT</td>\n",
       "      <td>NaN</td>\n",
       "    </tr>\n",
       "    <tr>\n",
       "      <th>1</th>\n",
       "      <td>1.09</td>\n",
       "      <td>2021-07-23</td>\n",
       "      <td>2021-07-30</td>\n",
       "      <td>2021-08-18</td>\n",
       "      <td>19</td>\n",
       "    </tr>\n",
       "    <tr>\n",
       "      <th>2</th>\n",
       "      <td>0.46</td>\n",
       "      <td>2021-06-11</td>\n",
       "      <td>2021-07-05</td>\n",
       "      <td>2021-07-19</td>\n",
       "      <td>27</td>\n",
       "    </tr>\n",
       "    <tr>\n",
       "      <th>3</th>\n",
       "      <td>0.36</td>\n",
       "      <td>2021-08-18</td>\n",
       "      <td>2021-08-19</td>\n",
       "      <td>2021-08-24</td>\n",
       "      <td>5</td>\n",
       "    </tr>\n",
       "    <tr>\n",
       "      <th>4</th>\n",
       "      <td>0.31</td>\n",
       "      <td>2021-03-05</td>\n",
       "      <td>2021-04-28</td>\n",
       "      <td>2021-05-14</td>\n",
       "      <td>51</td>\n",
       "    </tr>\n",
       "  </tbody>\n",
       "</table>"
      ],
      "text/plain": [
       "<IPython.core.display.HTML object>"
      ]
     },
     "metadata": {},
     "output_type": "display_data"
    },
    {
     "data": {
      "text/html": [
       "<table border=\"1\" class=\"dataframe\">\n",
       "  <thead>\n",
       "    <tr style=\"text-align: right;\">\n",
       "      <th>Stress Events</th>\n",
       "      <th>mean</th>\n",
       "      <th>min</th>\n",
       "      <th>max</th>\n",
       "    </tr>\n",
       "  </thead>\n",
       "  <tbody>\n",
       "    <tr>\n",
       "      <th>New Normal</th>\n",
       "      <td>0.00%</td>\n",
       "      <td>-1.49%</td>\n",
       "      <td>0.79%</td>\n",
       "    </tr>\n",
       "  </tbody>\n",
       "</table>"
      ],
      "text/plain": [
       "<IPython.core.display.HTML object>"
      ]
     },
     "metadata": {},
     "output_type": "display_data"
    },
    {
     "data": {
      "image/png": "[encoded data removed]",
      "text/plain": [
       "<Figure size 1400x7200 with 13 Axes>"
      ]
     },
     "metadata": {},
     "output_type": "display_data"
    },
    {
     "data": {
      "image/png": "[encoded data removed]",
      "text/plain": [
       "<Figure size 1400x600 with 1 Axes>"
      ]
     },
     "metadata": {},
     "output_type": "display_data"
    }
   ],
   "source": [
    "print(\"==============Compare to SSE50===========\")\n",
    "# from finrl.plot import backtest_plot_com\n",
    "%matplotlib inline\n",
    "# S&P 500: ^GSPC\n",
    "# Dow Jones Index: ^DJI\n",
    "# NASDAQ 100: ^NDX\n",
    "backtest_plot_com(account_value = df_account_value, \n",
    "                  baseline = baseline_sse,\n",
    "                  baseline_start = df_account_value.loc[len(df_account_value)-1,'date'],\n",
    "                  baseline_end = df_account_value.loc[0,'date']\n",
    "                     )"
   ]
  },
  {
   "cell_type": "code",
   "execution_count": null,
   "metadata": {},
   "outputs": [],
   "source": [
    "print(df_account_value.loc[len(df_account_value)-1,'date'],df_account_value.loc[0,'date'])"
   ]
  }
 ],
 "metadata": {
  "colab": {
   "collapsed_sections": [
    "_gDkU-j-fCmZ",
    "3Zpv4S0-fDBv"
   ],
   "name": "Stock_NeurIPS2018.ipynb",
   "provenance": []
  },
  "kernelspec": {
   "display_name": "Python 3 (ipykernel)",
   "language": "python",
   "name": "python3"
  },
  "language_info": {
   "codemirror_mode": {
    "name": "ipython",
    "version": 3
   },
   "file_extension": ".py",
   "mimetype": "text/x-python",
   "name": "python",
   "nbconvert_exporter": "python",
   "pygments_lexer": "ipython3",
   "version": "3.8.16"
  }
 },
 "nbformat": 4,
 "nbformat_minor": 1
}
