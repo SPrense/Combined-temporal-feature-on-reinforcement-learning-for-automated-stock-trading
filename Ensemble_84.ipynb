{
 "cells": [
  {
   "cell_type": "markdown",
   "metadata": {
    "id": "Lb9q2_QZgdNk"
   },
   "source": [
    "<a href=\"https://colab.research.google.com/github/AI4Finance-Foundation/FinRL-Tutorials/blob/master/2-Advance/FinRL_Ensemble_StockTrading_ICAIF_2020.ipynb\" target=\"_parent\"><img src=\"https://colab.research.google.com/assets/colab-badge.svg\" alt=\"Open In Colab\"/></a>"
   ]
  },
  {
   "cell_type": "markdown",
   "metadata": {
    "id": "gXaoZs2lh1hi"
   },
   "source": [
    "# Deep Reinforcement Learning for Stock Trading from Scratch: Multiple Stock Trading Using Ensemble Strategy\n",
    "\n",
    "Tutorials to use OpenAI DRL to trade multiple stocks using ensemble strategy in one Jupyter Notebook | Presented at ICAIF 2020\n",
    "\n",
    "* This notebook is the reimplementation of our paper: Deep Reinforcement Learning for Automated Stock Trading: An Ensemble Strategy, using FinRL.\n",
    "* Check out medium blog for detailed explanations: https://medium.com/@ai4finance/deep-reinforcement-learning-for-automated-stock-trading-f1dad0126a02\n",
    "* Please report any issues to our Github: https://github.com/AI4Finance-LLC/FinRL-Library/issues\n",
    "* **Pytorch Version** \n",
    "\n"
   ]
  },
  {
   "cell_type": "markdown",
   "metadata": {
    "id": "lGunVt8oLCVS"
   },
   "source": [
    "# Content"
   ]
  },
  {
   "cell_type": "markdown",
   "metadata": {
    "id": "HOzAKQ-SLGX6"
   },
   "source": [
    "* [1. Problem Definition](#0)\n",
    "* [2. Getting Started - Load Python packages](#1)\n",
    "    * [2.1. Install Packages](#1.1)    \n",
    "    * [2.2. Check Additional Packages](#1.2)\n",
    "    * [2.3. Import Packages](#1.3)\n",
    "    * [2.4. Create Folders](#1.4)\n",
    "* [3. Download Data](#2)\n",
    "* [4. Preprocess Data](#3)        \n",
    "    * [4.1. Technical Indicators](#3.1)\n",
    "    * [4.2. Perform Feature Engineering](#3.2)\n",
    "* [5.Build Environment](#4)  \n",
    "    * [5.1. Training & Trade Data Split](#4.1)\n",
    "    * [5.2. User-defined Environment](#4.2)   \n",
    "    * [5.3. Initialize Environment](#4.3)    \n",
    "* [6.Implement DRL Algorithms](#5)  \n",
    "* [7.Backtesting Performance](#6)  \n",
    "    * [7.1. BackTestStats](#6.1)\n",
    "    * [7.2. BackTestPlot](#6.2)   \n",
    "    * [7.3. Baseline Stats](#6.3)   \n",
    "    * [7.3. Compare to Stock Market Index](#6.4)             "
   ]
  },
  {
   "cell_type": "markdown",
   "metadata": {
    "id": "sApkDlD9LIZv"
   },
   "source": [
    "<a id='0'></a>\n",
    "# Part 1. Problem Definition"
   ]
  },
  {
   "cell_type": "markdown",
   "metadata": {
    "id": "HjLD2TZSLKZ-"
   },
   "source": [
    "This problem is to design an automated trading solution for single stock trading. We model the stock trading process as a Markov Decision Process (MDP). We then formulate our trading goal as a maximization problem.\n",
    "\n",
    "The algorithm is trained using Deep Reinforcement Learning (DRL) algorithms and the components of the reinforcement learning environment are:\n",
    "\n",
    "\n",
    "* Action: The action space describes the allowed actions that the agent interacts with the\n",
    "environment. Normally, a ∈ A includes three actions: a ∈ {−1, 0, 1}, where −1, 0, 1 represent\n",
    "selling, holding, and buying one stock. Also, an action can be carried upon multiple shares. We use\n",
    "an action space {−k, ..., −1, 0, 1, ..., k}, where k denotes the number of shares. For example, \"Buy\n",
    "10 shares of AAPL\" or \"Sell 10 shares of AAPL\" are 10 or −10, respectively\n",
    "\n",
    "* Reward function: r(s, a, s′) is the incentive mechanism for an agent to learn a better action. The change of the portfolio value when action a is taken at state s and arriving at new state s',  i.e., r(s, a, s′) = v′ − v, where v′ and v represent the portfolio\n",
    "values at state s′ and s, respectively\n",
    "\n",
    "* State: The state space describes the observations that the agent receives from the environment. Just as a human trader needs to analyze various information before executing a trade, so\n",
    "our trading agent observes many different features to better learn in an interactive environment.\n",
    "\n",
    "* Environment: Dow 30 consituents\n",
    "\n",
    "\n",
    "The data of the single stock that we will be using for this case study is obtained from Yahoo Finance API. The data contains Open-High-Low-Close price and volume.\n"
   ]
  },
  {
   "cell_type": "markdown",
   "metadata": {
    "id": "Ffsre789LY08"
   },
   "source": [
    "<a id='1'></a>\n",
    "# Part 2. Getting Started- Load Python Packages"
   ]
  },
  {
   "cell_type": "markdown",
   "metadata": {
    "id": "Uy5_PTmOh1hj"
   },
   "source": [
    "<a id='1.1'></a>\n",
    "## 2.1. Install all the packages through FinRL library\n"
   ]
  },
  {
   "cell_type": "code",
   "execution_count": null,
   "metadata": {},
   "outputs": [],
   "source": [
    "!pip install stable_baselines3 -i \n",
    "!pip install yfinance\n",
    "!pip install tushare\n",
    "!pip install exchange_calendars\n",
    "!pip install wrds\n",
    "!pip install alpaca_trade_api\n",
    "!pip install stockstats\n",
    "!pip install pyfolio"
   ]
  },
  {
   "cell_type": "code",
   "execution_count": null,
   "metadata": {
    "colab": {
     "base_uri": "https://localhost:8080/",
     "height": 1000
    },
    "id": "mPT0ipYE28wL",
    "outputId": "4352663d-20eb-4080-a83e-bf6b97183bf4"
   },
   "outputs": [],
   "source": [
    "# ## install finrl library\n",
    "!pip install wrds\n",
    "!pip install swig\n",
    "!pip install git+https://github.com/AI4Finance-Foundation/FinRL.git"
   ]
  },
  {
   "cell_type": "markdown",
   "metadata": {
    "id": "osBHhVysOEzi"
   },
   "source": [
    "\n",
    "<a id='1.2'></a>\n",
    "## 2.2. Check if the additional packages needed are present, if not install them. \n",
    "* Yahoo Finance API\n",
    "* pandas\n",
    "* numpy\n",
    "* matplotlib\n",
    "* stockstats\n",
    "* OpenAI gym\n",
    "* stable-baselines\n",
    "* tensorflow\n",
    "* pyfolio"
   ]
  },
  {
   "cell_type": "markdown",
   "metadata": {
    "id": "nGv01K8Sh1hn"
   },
   "source": [
    "<a id='1.3'></a>\n",
    "## 2.3. Import Packages"
   ]
  },
  {
   "cell_type": "code",
   "execution_count": 1,
   "metadata": {
    "id": "EeMK7Uentj1V"
   },
   "outputs": [],
   "source": [
    "import warnings\n",
    "warnings.filterwarnings(\"ignore\")"
   ]
  },
  {
   "cell_type": "code",
   "execution_count": 2,
   "metadata": {
    "id": "lPqeTTwoh1hn"
   },
   "outputs": [],
   "source": [
    "import pandas as pd\n",
    "import numpy as np\n",
    "import matplotlib\n",
    "import matplotlib.pyplot as plt\n",
    "# matplotlib.use('Agg')\n",
    "import datetime\n",
    "from torch import nn\n",
    "from torch import optim\n",
    "from torch.nn import functional as F\n",
    "from torch.utils.data import Dataset, DataLoader\n",
    "\n",
    "%matplotlib inline\n",
    "from finrl.config_tickers import DOW_30_TICKER\n",
    "from finrl.meta.preprocessor.yahoodownloader import YahooDownloader\n",
    "from finrl.meta.preprocessor.preprocessors import FeatureEngineer, data_split\n",
    "from finrl.meta.env_stock_trading.env_stocktrading_add import StockTradingEnv\n",
    "from finrl.agents.stablebaselines3.models_add import DRLAgent,DRLEnsembleAgent\n",
    "from finrl.plot import backtest_stats, backtest_plot, get_daily_return, get_baseline\n",
    "\n",
    "from pprint import pprint\n",
    "\n",
    "import sys\n",
    "sys.path.append(\"../FinRL-Library\")\n",
    "\n",
    "import itertools"
   ]
  },
  {
   "cell_type": "markdown",
   "metadata": {
    "id": "T2owTj985RW4"
   },
   "source": [
    "<a id='1.4'></a>\n",
    "## 2.4. Create Folders"
   ]
  },
  {
   "cell_type": "code",
   "execution_count": 3,
   "metadata": {
    "id": "w9A8CN5R5PuZ"
   },
   "outputs": [],
   "source": [
    "import os\n",
    "from finrl.main import check_and_make_directories\n",
    "from finrl.config import (\n",
    "    DATA_SAVE_DIR,\n",
    "    TRAINED_MODEL_DIR,\n",
    "    TENSORBOARD_LOG_DIR,\n",
    "    RESULTS_DIR,\n",
    "    INDICATORS,\n",
    "    TRAIN_START_DATE,\n",
    "    TRAIN_END_DATE,\n",
    "    TEST_START_DATE,\n",
    "    TEST_END_DATE,\n",
    "    TRADE_START_DATE,\n",
    "    TRADE_END_DATE,\n",
    ")\n",
    "\n",
    "check_and_make_directories([DATA_SAVE_DIR, TRAINED_MODEL_DIR, TENSORBOARD_LOG_DIR, RESULTS_DIR])"
   ]
  },
  {
   "cell_type": "markdown",
   "metadata": {
    "id": "A289rQWMh1hq"
   },
   "source": [
    "<a id='2'></a>\n",
    "# Part 3. Download Data\n",
    "Yahoo Finance is a website that provides stock data, financial news, financial reports, etc. All the data provided by Yahoo Finance is free.\n",
    "* FinRL uses a class **YahooDownloader** to fetch data from Yahoo Finance API\n",
    "* Call Limit: Using the Public API (without authentication), you are limited to 2,000 requests per hour per IP (or up to a total of 48,000 requests a day).\n"
   ]
  },
  {
   "cell_type": "markdown",
   "metadata": {
    "id": "NPeQ7iS-LoMm"
   },
   "source": [
    "\n",
    "\n",
    "-----\n",
    "class YahooDownloader:\n",
    "    Provides methods for retrieving daily stock data from\n",
    "    Yahoo Finance API\n",
    "\n",
    "    Attributes\n",
    "    ----------\n",
    "        start_date : str\n",
    "            start date of the data (modified from config.py)\n",
    "        end_date : str\n",
    "            end date of the data (modified from config.py)\n",
    "        ticker_list : list\n",
    "            a list of stock tickers (modified from config.py)\n",
    "\n",
    "    Methods\n",
    "    -------\n",
    "    fetch_data()\n",
    "        Fetches data from yahoo API\n"
   ]
  },
  {
   "cell_type": "code",
   "execution_count": null,
   "metadata": {
    "colab": {
     "base_uri": "https://localhost:8080/"
    },
    "id": "JzqRRTOX6aFu",
    "outputId": "cd002c5d-2490-4947-9bd3-2b0696cb0f69"
   },
   "outputs": [],
   "source": [
    "print(DOW_30_TICKER)"
   ]
  },
  {
   "cell_type": "code",
   "execution_count": null,
   "metadata": {},
   "outputs": [],
   "source": [
    "df = pd.read_csv('merged_df.csv')\n",
    "df"
   ]
  },
  {
   "cell_type": "code",
   "execution_count": 4,
   "metadata": {
    "colab": {
     "base_uri": "https://localhost:8080/"
    },
    "id": "yCKm4om-s9kE",
    "outputId": "743f675b-6126-44ea-bf39-7b3333d15044"
   },
   "outputs": [],
   "source": [
    "TRAIN_START_DATE = '2012-2-28'\n",
    "TRAIN_END_DATE = '2020-02-28'\n",
    "TRADE_START_DATE = '2021-7-30'\n",
    "TRADE_END_DATE = '2023-08-30'"
   ]
  },
  {
   "cell_type": "code",
   "execution_count": 5,
   "metadata": {},
   "outputs": [],
   "source": [
    "import tushare as ts\n",
    "ts.set_token('6314756019e50a6672690e5a78b2dbf7cfcd27c6f6a6b48a8cf76dae')\n",
    "pro = ts.pro_api()"
   ]
  },
  {
   "cell_type": "code",
   "execution_count": 6,
   "metadata": {
    "scrolled": true
   },
   "outputs": [],
   "source": [
    "#选择上证50指数的成分股\n",
    "df_index = pro.index_weight(index_code='000016.sh', start_date='20151010', end_date='20220228')\n",
    "# df_index.to_csv('SSE_50_index_weight.csv',index=0)"
   ]
  },
  {
   "cell_type": "code",
   "execution_count": 7,
   "metadata": {
    "scrolled": false
   },
   "outputs": [
    {
     "name": "stdout",
     "output_type": "stream",
     "text": [
      "['600000.SH', '600028.SH', '600030.SH', '600031.SH', '600036.SH', '600048.SH', '600050.SH', '600104.SH', '600196.SH', '600276.SH', '600309.SH', '600436.SH', '600438.SH', '600519.SH', '600547.SH', '600570.SH', '600585.SH', '600588.SH', '600690.SH', '600745.SH', '600809.SH', '600837.SH', '600887.SH', '600893.SH', '600900.SH', '601012.SH', '601066.SH', '601088.SH', '601138.SH', '601166.SH', '601211.SH', '601288.SH', '601318.SH', '601336.SH', '601398.SH', '601601.SH', '601628.SH', '601633.SH', '601668.SH', '601688.SH', '601728.SH', '601857.SH', '601888.SH', '601899.SH', '601919.SH', '601995.SH', '603259.SH', '603288.SH', '603501.SH', '603986.SH'] 50\n"
     ]
    }
   ],
   "source": [
    "#选择某个时间点的上证50指数成分股作为参考跟踪股票池\n",
    "select_date = '20220228' #自定义的时间点为每个月的月末\n",
    "df_select = df_index[df_index['trade_date']==select_date]\n",
    "sort_SSEindex = df_select['con_code'].unique()\n",
    "print(sorted(sort_SSEindex),len(sort_SSEindex))"
   ]
  },
  {
   "cell_type": "code",
   "execution_count": null,
   "metadata": {},
   "outputs": [],
   "source": [
    "#随机选择成分股中的k只股票\n",
    "import random \n",
    "k = 10\n",
    "selected_tics = random.sample(list(sort_SSEindex),k)\n",
    "print(selected_tics)"
   ]
  },
  {
   "cell_type": "code",
   "execution_count": 8,
   "metadata": {},
   "outputs": [],
   "source": [
    "selected_tics = ['600000.SH', '600028.SH', '600030.SH', '600031.SH', '600036.SH', '600048.SH', '600050.SH', '600104.SH', '600196.SH', '600276.SH', '600309.SH', '600436.SH', '600438.SH', '600519.SH', '600547.SH', '600570.SH', '600585.SH', '600588.SH', '600690.SH', '600745.SH']"
   ]
  },
  {
   "cell_type": "code",
   "execution_count": 9,
   "metadata": {},
   "outputs": [
    {
     "name": "stdout",
     "output_type": "stream",
     "text": [
      "        ts_code trade_date  open  high   low  close  pre_close  change  \\\n",
      "0     600000.SH   20221230  7.23  7.30  7.22   7.28       7.24    0.04   \n",
      "1     600000.SH   20221229  7.27  7.29  7.18   7.24       7.30   -0.06   \n",
      "2     600000.SH   20221228  7.22  7.30  7.20   7.30       7.22    0.08   \n",
      "3     600000.SH   20221227  7.13  7.29  7.12   7.22       7.10    0.12   \n",
      "4     600000.SH   20221226  7.19  7.21  7.08   7.10       7.19   -0.09   \n",
      "...         ...        ...   ...   ...   ...    ...        ...     ...   \n",
      "2177  600745.SH   20120110  5.94  6.26  5.94   6.21       6.00    0.21   \n",
      "2178  600745.SH   20120109  5.79  6.08  5.65   6.00       5.76    0.24   \n",
      "2179  600745.SH   20120106  5.50  5.77  5.44   5.76       5.54    0.22   \n",
      "2180  600745.SH   20120105  5.66  5.80  5.52   5.54       5.79   -0.25   \n",
      "2181  600745.SH   20120104  6.00  6.01  5.67   5.79       6.00   -0.21   \n",
      "\n",
      "      pct_chg        vol      amount  \n",
      "0      0.5525  203523.97  147932.731  \n",
      "1     -0.8219  183670.88  132652.083  \n",
      "2      1.1080  209013.64  152167.734  \n",
      "3      1.6901  240651.92  173516.852  \n",
      "4     -1.2517  201385.33  143606.824  \n",
      "...       ...        ...         ...  \n",
      "2177   3.5000   33092.87   20228.028  \n",
      "2178   4.1700   20966.27   12450.120  \n",
      "2179   3.9700   15143.00    8499.204  \n",
      "2180  -4.3200   15064.75    8483.875  \n",
      "2181  -3.5000   17753.18   10398.693  \n",
      "\n",
      "[52084 rows x 11 columns]\n"
     ]
    }
   ],
   "source": [
    "#Download随机选择的k只股票数据\n",
    "df_ts =pd.DataFrame()\n",
    "for c in selected_tics:\n",
    "    temp=pro.daily(ts_code=c,start_date=TRAIN_START_DATE,end_date=TRADE_END_DATE)\n",
    "    df_ts=pd.concat([df_ts,temp])\n",
    "print(df_ts)"
   ]
  },
  {
   "cell_type": "code",
   "execution_count": 10,
   "metadata": {},
   "outputs": [],
   "source": [
    "def processed_date_range(df,selected_tics,k):\n",
    "    longth = []\n",
    "    for tic in selected_tics:\n",
    "        temp_df = df[df['ts_code'] == tic]\n",
    "        temp_long = temp_df['trade_date'].iloc[-1]\n",
    "        longth.append(temp_long)\n",
    "    minlong = max(longth)\n",
    "    date_unique = [date for date in df['trade_date'].unique() if date >= minlong]\n",
    "    full_date_range = pd.DataFrame(date_unique,columns=['trade_date'])\n",
    "    \n",
    "    return full_date_range\n",
    "#     date_unique = df['trade_date'].unique()"
   ]
  },
  {
   "cell_type": "code",
   "execution_count": 11,
   "metadata": {},
   "outputs": [],
   "source": [
    "k=20\n",
    "full_date_range = processed_date_range(df_ts,selected_tics,k)"
   ]
  },
  {
   "cell_type": "code",
   "execution_count": 12,
   "metadata": {},
   "outputs": [
    {
     "name": "stdout",
     "output_type": "stream",
     "text": [
      "1376\n",
      "         ts_code trade_date   open   high    low  close  pre_close  change  \\\n",
      "0      600000.SH   20120104   8.54   8.56   8.39   8.41       8.49   -0.08   \n",
      "1      600000.SH   20120105   8.47   8.82   8.47   8.65       8.41    0.24   \n",
      "2      600000.SH   20120106   8.63   8.78   8.62   8.71       8.65    0.06   \n",
      "3      600000.SH   20120109   8.72   8.99   8.68   8.95       8.71    0.24   \n",
      "4      600000.SH   20120110   8.95   9.10   8.88   9.07       8.95    0.12   \n",
      "...          ...        ...    ...    ...    ...    ...        ...     ...   \n",
      "53455  600745.SH   20221226  53.00  54.68  52.20  54.41      52.72    1.69   \n",
      "53456  600745.SH   20221227  54.42  54.87  53.90  54.86      54.41    0.45   \n",
      "53457  600745.SH   20221228  54.50  54.85  53.32  53.38      54.86   -1.48   \n",
      "53458  600745.SH   20221229  53.66  54.22  52.80  53.15      53.38   -0.23   \n",
      "53459  600745.SH   20221230  53.54  53.68  52.00  52.58      53.15   -0.57   \n",
      "\n",
      "       pct_chg         vol       amount  \n",
      "0      -0.9400   342013.79   290229.551  \n",
      "1       2.8500  1321162.03  1144753.023  \n",
      "2       0.6900   617786.87   537043.761  \n",
      "3       2.7600   801362.49   711429.611  \n",
      "4       1.3400   720046.32   647206.633  \n",
      "...        ...         ...          ...  \n",
      "53455   3.2056    99617.68   538884.505  \n",
      "53456   0.8271    80106.35   435818.240  \n",
      "53457  -2.6978    88770.06   477557.922  \n",
      "53458  -0.4309    90543.10   483438.525  \n",
      "53459  -1.0724    82075.73   433025.810  \n",
      "\n",
      "[53460 rows x 11 columns]\n"
     ]
    }
   ],
   "source": [
    "#遍历扩充股票的完整交易日期\n",
    "def add_exchange_calendars(df,full_date_range,selected_tics):\n",
    "    count = 0\n",
    "    merge_df = []\n",
    "    for tic in selected_tics:\n",
    "        temp_df = df[df['ts_code'] == tic]\n",
    "        temp_full_date_range = full_date_range\n",
    "        temp_df = temp_df.set_index('trade_date')\n",
    "        temp_full_date_range = temp_full_date_range.set_index('trade_date')\n",
    "        temp_df = pd.merge(temp_full_date_range,temp_df,how='left',left_index=True,right_index=True)\n",
    "        temp_df = temp_df.reset_index().sort_values('trade_date',ascending=True)\n",
    "        temp_df = temp_df.fillna({\n",
    "            'amount' : 0,\n",
    "            'vol': 0,\n",
    "            'pct_chg': 0,\n",
    "            'change':0,\n",
    "            'ts_code': tic\n",
    "        })\n",
    "        for i in range(len(temp_df)):\n",
    "            if pd.isna(temp_df.loc[i,'close']):\n",
    "                j = i -1\n",
    "                while pd.isna(temp_df.loc[j,'close']):\n",
    "                    j = j - 1\n",
    "                if j > 0 :\n",
    "                    temp_df.loc[i,['close','open','high','low','pre_close']] = temp_df.loc[j,'close']\n",
    "                    count+=1\n",
    "        merge_df.append(temp_df)\n",
    "    merged_df = pd.concat(merge_df,ignore_index = True)\n",
    "    print(count)\n",
    "    return merged_df\n",
    "\n",
    "merged_df =  add_exchange_calendars(df_ts,full_date_range,selected_tics)\n",
    "# merged_df = merged_df.rename(columns={'trade_date':'date','ts_code':'tic','vol':'volume'})\n",
    "merged_df = merged_df[['ts_code','trade_date','open','high','low','close','pre_close','change','pct_chg','vol','amount']]\n",
    "print(merged_df)"
   ]
  },
  {
   "cell_type": "code",
   "execution_count": 13,
   "metadata": {},
   "outputs": [],
   "source": [
    "processed_df = merged_df"
   ]
  },
  {
   "cell_type": "code",
   "execution_count": null,
   "metadata": {},
   "outputs": [],
   "source": [
    "# 筛选exchange_calender中每个交易节点缺失情况\n",
    "def processed_date(df,selected_tics,k):\n",
    "    longth = []\n",
    "    for tic in selected_tics:\n",
    "        temp_df = df[df['ts_code'] == tic]\n",
    "        temp_long = temp_df['trade_date'].iloc[-1]\n",
    "        longth.append(temp_long)\n",
    "    minlong = max(longth)\n",
    "    date_unique = [date for date in df['trade_date'].unique() if date > minlong]\n",
    "    date_sum = len(date_unique)\n",
    "    count = 0\n",
    "    processe_df =[]\n",
    "    processed_df = pd.DataFrame()\n",
    "    for date in date_unique:\n",
    "        temp_df = df[df['trade_date'] == date]\n",
    "        if len(temp_df) < int(0.9*k):\n",
    "            date_unique.remove(date)\n",
    "        elif len(temp_df) >= int(0.9*k) and len(temp_df) < k:\n",
    "            missing_tic = set(selected_tics).difference(set(temp_df['ts_code'].tolist()))\n",
    "            print(missing_tic)\n",
    "            for m_tic in missing_tic:\n",
    "                temp_dict = {'ts_code':m_tic,'trade_date':date,'open':np.nan, 'high':np.nan,'low':np.nan, 'close':np.nan, 'pre_close':np.nan, 'change':np.nan, 'pct_chg':np.nan, 'volume':np.nan, 'amount':np.nan}\n",
    "                new_data = pd.DataFrame.from_dict(temp_dict,orient='index').T\n",
    "                temp_df = temp_df.append(new_data)\n",
    "#             print(len(temp_df))\n",
    "            processe_df.append(temp_df)\n",
    "        else :\n",
    "            count += 1\n",
    "            processe_df.append(temp_df)\n",
    "        processed_df = pd.concat(processe_df,ignore_index = True)       \n",
    "    processed_df = processed_df.sort_values('trade_date',ascending=True).reset_index()\n",
    "    processed_df = processed_df.drop('index',axis=1)\n",
    "    return processed_df,date_unique\n"
   ]
  },
  {
   "cell_type": "code",
   "execution_count": null,
   "metadata": {},
   "outputs": [],
   "source": [
    "# 筛选exchange_calender中每个交易节点缺失情况(全部补充0)\n",
    "def processed_date(df,selected_tics,k):\n",
    "    date_unique = list(df['trade_date'].unique())\n",
    "    date_sum = len(date_unique)\n",
    "    count = 0\n",
    "    processe_df =[]\n",
    "    processed_df = pd.DataFrame()\n",
    "    for date in date_unique:\n",
    "        temp_df = df[df['trade_date'] == date]\n",
    "        if len(temp_df) != k:\n",
    "            missing_tic = set(selected_tics).difference(set(temp_df['ts_code'].tolist()))\n",
    "#             print(missing_tic)\n",
    "            for m_tic in missing_tic:\n",
    "                temp_dict = {'ts_code':m_tic,'trade_date':date,'open':0, 'high':0,'low':0, 'close':0, 'pre_close':0, 'change':0, 'pct_chg':0, 'volume':0, 'amount':0}\n",
    "                new_data = pd.DataFrame.from_dict(temp_dict,orient='index').T\n",
    "                temp_df = temp_df.append(new_data)\n",
    "            processe_df.append(temp_df)\n",
    "        else :\n",
    "            processe_df.append(temp_df)\n",
    "        processed_df = pd.concat(processe_df,ignore_index = True)       \n",
    "    processed_df = processed_df.sort_values('trade_date',ascending=True).reset_index()\n",
    "    processed_df = processed_df.drop('index',axis=1)\n",
    "    return processed_df,date_unique"
   ]
  },
  {
   "cell_type": "code",
   "execution_count": null,
   "metadata": {},
   "outputs": [],
   "source": [
    "# 筛选exchange_calender中每个交易节点缺失(激进)\n",
    "def processed_date(df,selected_tics,k):\n",
    "    date_unique = list(df['trade_date'].unique())\n",
    "    date_sum = len(date_unique)\n",
    "    count = 0\n",
    "    processe_df =[]\n",
    "    processed_df = pd.DataFrame()\n",
    "    for date in date_unique:\n",
    "        temp_df = df[df['trade_date'] == date]\n",
    "        if len(temp_df) == k:\n",
    "            processe_df.append(temp_df)\n",
    "        else :\n",
    "            date_unique.remove(date)\n",
    "        processed_df = pd.concat(processe_df,ignore_index = True)       \n",
    "    processed_df = processed_df.sort_values('trade_date',ascending=True).reset_index()\n",
    "    processed_df = processed_df.drop('index',axis=1)\n",
    "    return processed_df,date_unique"
   ]
  },
  {
   "cell_type": "code",
   "execution_count": null,
   "metadata": {},
   "outputs": [],
   "source": [
    "processed_df,date_unique = processed_date(df_ts,selected_tics,k=20)\n",
    "print(processed_df) "
   ]
  },
  {
   "cell_type": "code",
   "execution_count": 14,
   "metadata": {},
   "outputs": [
    {
     "data": {
      "text/html": [
       "<div>\n",
       "<style scoped>\n",
       "    .dataframe tbody tr th:only-of-type {\n",
       "        vertical-align: middle;\n",
       "    }\n",
       "\n",
       "    .dataframe tbody tr th {\n",
       "        vertical-align: top;\n",
       "    }\n",
       "\n",
       "    .dataframe thead th {\n",
       "        text-align: right;\n",
       "    }\n",
       "</style>\n",
       "<table border=\"1\" class=\"dataframe\">\n",
       "  <thead>\n",
       "    <tr style=\"text-align: right;\">\n",
       "      <th></th>\n",
       "      <th>ts_code</th>\n",
       "      <th>trade_date</th>\n",
       "      <th>open</th>\n",
       "      <th>high</th>\n",
       "      <th>low</th>\n",
       "      <th>close</th>\n",
       "      <th>pre_close</th>\n",
       "      <th>change</th>\n",
       "      <th>pct_chg</th>\n",
       "      <th>vol</th>\n",
       "      <th>amount</th>\n",
       "    </tr>\n",
       "  </thead>\n",
       "  <tbody>\n",
       "    <tr>\n",
       "      <th>0</th>\n",
       "      <td>600000.SH</td>\n",
       "      <td>2012-01-04</td>\n",
       "      <td>8.54</td>\n",
       "      <td>8.56</td>\n",
       "      <td>8.39</td>\n",
       "      <td>8.41</td>\n",
       "      <td>8.49</td>\n",
       "      <td>-0.08</td>\n",
       "      <td>-0.9400</td>\n",
       "      <td>342013.79</td>\n",
       "      <td>290229.551</td>\n",
       "    </tr>\n",
       "    <tr>\n",
       "      <th>1</th>\n",
       "      <td>600000.SH</td>\n",
       "      <td>2012-01-05</td>\n",
       "      <td>8.47</td>\n",
       "      <td>8.82</td>\n",
       "      <td>8.47</td>\n",
       "      <td>8.65</td>\n",
       "      <td>8.41</td>\n",
       "      <td>0.24</td>\n",
       "      <td>2.8500</td>\n",
       "      <td>1321162.03</td>\n",
       "      <td>1144753.023</td>\n",
       "    </tr>\n",
       "    <tr>\n",
       "      <th>2</th>\n",
       "      <td>600000.SH</td>\n",
       "      <td>2012-01-06</td>\n",
       "      <td>8.63</td>\n",
       "      <td>8.78</td>\n",
       "      <td>8.62</td>\n",
       "      <td>8.71</td>\n",
       "      <td>8.65</td>\n",
       "      <td>0.06</td>\n",
       "      <td>0.6900</td>\n",
       "      <td>617786.87</td>\n",
       "      <td>537043.761</td>\n",
       "    </tr>\n",
       "    <tr>\n",
       "      <th>3</th>\n",
       "      <td>600000.SH</td>\n",
       "      <td>2012-01-09</td>\n",
       "      <td>8.72</td>\n",
       "      <td>8.99</td>\n",
       "      <td>8.68</td>\n",
       "      <td>8.95</td>\n",
       "      <td>8.71</td>\n",
       "      <td>0.24</td>\n",
       "      <td>2.7600</td>\n",
       "      <td>801362.49</td>\n",
       "      <td>711429.611</td>\n",
       "    </tr>\n",
       "    <tr>\n",
       "      <th>4</th>\n",
       "      <td>600000.SH</td>\n",
       "      <td>2012-01-10</td>\n",
       "      <td>8.95</td>\n",
       "      <td>9.10</td>\n",
       "      <td>8.88</td>\n",
       "      <td>9.07</td>\n",
       "      <td>8.95</td>\n",
       "      <td>0.12</td>\n",
       "      <td>1.3400</td>\n",
       "      <td>720046.32</td>\n",
       "      <td>647206.633</td>\n",
       "    </tr>\n",
       "    <tr>\n",
       "      <th>...</th>\n",
       "      <td>...</td>\n",
       "      <td>...</td>\n",
       "      <td>...</td>\n",
       "      <td>...</td>\n",
       "      <td>...</td>\n",
       "      <td>...</td>\n",
       "      <td>...</td>\n",
       "      <td>...</td>\n",
       "      <td>...</td>\n",
       "      <td>...</td>\n",
       "      <td>...</td>\n",
       "    </tr>\n",
       "    <tr>\n",
       "      <th>53455</th>\n",
       "      <td>600745.SH</td>\n",
       "      <td>2022-12-26</td>\n",
       "      <td>53.00</td>\n",
       "      <td>54.68</td>\n",
       "      <td>52.20</td>\n",
       "      <td>54.41</td>\n",
       "      <td>52.72</td>\n",
       "      <td>1.69</td>\n",
       "      <td>3.2056</td>\n",
       "      <td>99617.68</td>\n",
       "      <td>538884.505</td>\n",
       "    </tr>\n",
       "    <tr>\n",
       "      <th>53456</th>\n",
       "      <td>600745.SH</td>\n",
       "      <td>2022-12-27</td>\n",
       "      <td>54.42</td>\n",
       "      <td>54.87</td>\n",
       "      <td>53.90</td>\n",
       "      <td>54.86</td>\n",
       "      <td>54.41</td>\n",
       "      <td>0.45</td>\n",
       "      <td>0.8271</td>\n",
       "      <td>80106.35</td>\n",
       "      <td>435818.240</td>\n",
       "    </tr>\n",
       "    <tr>\n",
       "      <th>53457</th>\n",
       "      <td>600745.SH</td>\n",
       "      <td>2022-12-28</td>\n",
       "      <td>54.50</td>\n",
       "      <td>54.85</td>\n",
       "      <td>53.32</td>\n",
       "      <td>53.38</td>\n",
       "      <td>54.86</td>\n",
       "      <td>-1.48</td>\n",
       "      <td>-2.6978</td>\n",
       "      <td>88770.06</td>\n",
       "      <td>477557.922</td>\n",
       "    </tr>\n",
       "    <tr>\n",
       "      <th>53458</th>\n",
       "      <td>600745.SH</td>\n",
       "      <td>2022-12-29</td>\n",
       "      <td>53.66</td>\n",
       "      <td>54.22</td>\n",
       "      <td>52.80</td>\n",
       "      <td>53.15</td>\n",
       "      <td>53.38</td>\n",
       "      <td>-0.23</td>\n",
       "      <td>-0.4309</td>\n",
       "      <td>90543.10</td>\n",
       "      <td>483438.525</td>\n",
       "    </tr>\n",
       "    <tr>\n",
       "      <th>53459</th>\n",
       "      <td>600745.SH</td>\n",
       "      <td>2022-12-30</td>\n",
       "      <td>53.54</td>\n",
       "      <td>53.68</td>\n",
       "      <td>52.00</td>\n",
       "      <td>52.58</td>\n",
       "      <td>53.15</td>\n",
       "      <td>-0.57</td>\n",
       "      <td>-1.0724</td>\n",
       "      <td>82075.73</td>\n",
       "      <td>433025.810</td>\n",
       "    </tr>\n",
       "  </tbody>\n",
       "</table>\n",
       "<p>53460 rows × 11 columns</p>\n",
       "</div>"
      ],
      "text/plain": [
       "         ts_code trade_date   open   high    low  close  pre_close  change  \\\n",
       "0      600000.SH 2012-01-04   8.54   8.56   8.39   8.41       8.49   -0.08   \n",
       "1      600000.SH 2012-01-05   8.47   8.82   8.47   8.65       8.41    0.24   \n",
       "2      600000.SH 2012-01-06   8.63   8.78   8.62   8.71       8.65    0.06   \n",
       "3      600000.SH 2012-01-09   8.72   8.99   8.68   8.95       8.71    0.24   \n",
       "4      600000.SH 2012-01-10   8.95   9.10   8.88   9.07       8.95    0.12   \n",
       "...          ...        ...    ...    ...    ...    ...        ...     ...   \n",
       "53455  600745.SH 2022-12-26  53.00  54.68  52.20  54.41      52.72    1.69   \n",
       "53456  600745.SH 2022-12-27  54.42  54.87  53.90  54.86      54.41    0.45   \n",
       "53457  600745.SH 2022-12-28  54.50  54.85  53.32  53.38      54.86   -1.48   \n",
       "53458  600745.SH 2022-12-29  53.66  54.22  52.80  53.15      53.38   -0.23   \n",
       "53459  600745.SH 2022-12-30  53.54  53.68  52.00  52.58      53.15   -0.57   \n",
       "\n",
       "       pct_chg         vol       amount  \n",
       "0      -0.9400   342013.79   290229.551  \n",
       "1       2.8500  1321162.03  1144753.023  \n",
       "2       0.6900   617786.87   537043.761  \n",
       "3       2.7600   801362.49   711429.611  \n",
       "4       1.3400   720046.32   647206.633  \n",
       "...        ...         ...          ...  \n",
       "53455   3.2056    99617.68   538884.505  \n",
       "53456   0.8271    80106.35   435818.240  \n",
       "53457  -2.6978    88770.06   477557.922  \n",
       "53458  -0.4309    90543.10   483438.525  \n",
       "53459  -1.0724    82075.73   433025.810  \n",
       "\n",
       "[53460 rows x 11 columns]"
      ]
     },
     "execution_count": 14,
     "metadata": {},
     "output_type": "execute_result"
    }
   ],
   "source": [
    "processed_df1 = processed_df\n",
    "processed_df1 = processed_df1.sort_values(['ts_code','trade_date'],ascending=True,ignore_index=True)\n",
    "processed_df1['trade_date'] = pd.to_datetime(processed_df1['trade_date'])\n",
    "processed_df1"
   ]
  },
  {
   "cell_type": "code",
   "execution_count": null,
   "metadata": {},
   "outputs": [],
   "source": [
    "#出现缺失值的个数、占比\n",
    "count = len(pro_df[pro_df['open'] == 0])\n",
    "nan_rate = count/len(pro_df)\n",
    "print(count,'缺失值百分之:',nan_rate)"
   ]
  },
  {
   "cell_type": "code",
   "execution_count": 18,
   "metadata": {},
   "outputs": [],
   "source": [
    "fe = FeatureEngineer(\n",
    "                    use_technical_indicator=True,\n",
    "                    tech_indicator_list = INDICATORS,\n",
    "                    use_vix=False,\n",
    "                    use_turbulence=False,\n",
    "                    user_defined_feature = False)"
   ]
  },
  {
   "cell_type": "code",
   "execution_count": 16,
   "metadata": {
    "scrolled": false
   },
   "outputs": [
    {
     "name": "stdout",
     "output_type": "stream",
     "text": [
      "Successfully added technical indicators\n"
     ]
    }
   ],
   "source": [
    "processed_df3 = processed_df1.rename(columns={'ts_code':'tic','trade_date':'date','vol':'volume'})\n",
    "processed_df3 = fe.preprocess_data(processed_df3)\n",
    "processed_df3 = processed_df3.fillna(method=\"ffill\").fillna(method=\"bfill\")\n",
    "processed_df3 = processed_df3.sort_values(['tic','date'],ascending=True).reset_index()"
   ]
  },
  {
   "cell_type": "code",
   "execution_count": 17,
   "metadata": {},
   "outputs": [],
   "source": [
    "def delaydate(dela,full_list):\n",
    "    grouped = processed_df3.groupby('tic')\n",
    "    filtered_df = pd.DataFrame()\n",
    "    for name, group in grouped:\n",
    "        # 按'trade_date'升序排序  True=升序\n",
    "        group = group.sort_values('date', ascending=True)\n",
    "        \n",
    "        # 丢弃前48个日期的数据\n",
    "        group = group.iloc[dela:]\n",
    "        filtered_df = filtered_df.append(group)\n",
    "    \n",
    "    filtered_df = filtered_df.reset_index(drop=True)\n",
    "    filtered_df = filtered_df.sort_values(['tic','date'],ascending=True,ignore_index=True)\n",
    "    return filtered_df"
   ]
  },
  {
   "cell_type": "code",
   "execution_count": 19,
   "metadata": {},
   "outputs": [],
   "source": [
    "pro_df = processed_df1.loc[:,['open','high','low','close','vol']].reset_index(drop=True)"
   ]
  },
  {
   "cell_type": "code",
   "execution_count": 21,
   "metadata": {},
   "outputs": [],
   "source": [
    "#计算技术指标到dataset中\n",
    "#Can be easily expanded\n",
    "#Currently contains a small set of tech indicators\n",
    "import talib as ta\n",
    "\n",
    "def calc_tech_ind(data):\n",
    "    #overlap \n",
    "    data['upbd'], data['midbd'], data['lowbd'] = ta.BBANDS(data[\"close\"])\n",
    "    data['dema'] = ta.DEMA(data[\"close\"], timeperiod=30)\n",
    "    data['tema'] = ta.TEMA(data[\"close\"], timeperiod=30)\n",
    "    data['ema'] = ta.EMA(data[\"close\"], timeperiod=30)\n",
    "    data['wma'] = ta.WMA(data[\"close\"], timeperiod=30)\n",
    "    data['sma'] = ta.SMA(data[\"close\"], timeperiod=30)\n",
    "    data['sarext'] = ta.SAREXT(data[\"high\"], data[\"low\"])\n",
    "    \n",
    "    #momentum\n",
    "    data['adxr'] = ta.ADXR(data[\"high\"], data[\"low\"], data[\"close\"], timeperiod=14)\n",
    "    data['apo'] = ta.APO(data[\"close\"], fastperiod=12, slowperiod=26, matype=0)\n",
    "    data['aroondown'], data['aroonup'] = ta.AROON(data[\"high\"], data[\"low\"], timeperiod=14)\n",
    "    data['cci'] = ta.CCI(data[\"high\"], data[\"low\"], data[\"close\"], timeperiod=14)\n",
    "    data['cmo'] = ta.CMO(data[\"close\"], timeperiod=14)\n",
    "    data['macd'], data['macdsignal'], data['macdhist'] = ta.MACD(data[\"close\"], fastperiod=12, slowperiod=26, signalperiod=9)\n",
    "    data['MFI'] = ta.MFI(data[\"high\"], data[\"low\"], data[\"close\"], data['vol'], timeperiod=14)\n",
    "    data['mom'] = ta.MOM(data[\"close\"], timeperiod=10)\n",
    "    data['plus_di'] = ta.PLUS_DI(data[\"high\"], data[\"low\"], data[\"close\"], timeperiod=14)\n",
    "    data['ppo'] = ta.PPO(data[\"close\"], fastperiod=12, slowperiod=26, matype=0)\n",
    "    data['roc'] = ta.ROC(data[\"close\"], timeperiod=10)\n",
    "    data['rocp'] = ta.ROCP(data[\"close\"], timeperiod=10)\n",
    "    data['rsi'] = ta.RSI(data[\"close\"], timeperiod=14)\n",
    "    data['slowk'], data['slowd'] = ta.STOCH(data[\"high\"], data[\"low\"], data[\"close\"])\n",
    "    data['fastk'], data['fastd'] = ta.STOCHF(data[\"high\"], data[\"low\"], data[\"close\"])\n",
    "    data['trix'] = ta.TRIX(data[\"close\"], timeperiod=30)\n",
    "    data['ultosc'] = ta.ULTOSC(data[\"high\"], data[\"low\"], data[\"close\"], timeperiod1=7, timeperiod2=14, timeperiod3=28)\n",
    "    data['willr'] = ta.WILLR(data[\"high\"], data[\"low\"], data[\"close\"], timeperiod=14)\n",
    "    \n",
    "    #volume\n",
    "    data['ad'] = ta.AD(data[\"high\"], data[\"low\"], data[\"close\"], data['vol'])\n",
    "    data['obv'] = ta.OBV(data[\"close\"], data['vol'])\n",
    "    \n",
    "    #volitility\n",
    "    data['atr'] = ta.ATR(data[\"high\"], data[\"low\"], data[\"close\"], timeperiod=14)\n",
    "    data['natr'] = ta.NATR(data[\"high\"], data[\"low\"], data[\"close\"], timeperiod=14)\n",
    "    \n",
    "    #cycle\n",
    "    data['HT_DCPERIOD'] = ta.HT_DCPERIOD(data[\"close\"])\n",
    "#     data['HT_DCPHASE'] = ta.HT_DCPHASE(data[\"close\"])\n",
    "#     data['inphase'], data['quadrature'] = ta.HT_PHASOR(data[\"close\"])\n",
    "    \n",
    "    \n",
    "    return data"
   ]
  },
  {
   "cell_type": "code",
   "execution_count": 22,
   "metadata": {},
   "outputs": [],
   "source": [
    "full_list1 = calc_tech_ind(pro_df)\n",
    "full_list1 = full_list1.fillna(0)"
   ]
  },
  {
   "cell_type": "code",
   "execution_count": null,
   "metadata": {},
   "outputs": [],
   "source": [
    "full_list1[full_list1['vol']==0]"
   ]
  },
  {
   "cell_type": "code",
   "execution_count": null,
   "metadata": {},
   "outputs": [],
   "source": [
    "k=20"
   ]
  },
  {
   "cell_type": "code",
   "execution_count": 23,
   "metadata": {},
   "outputs": [],
   "source": [
    "array_full_list = np.array(full_list1)\n",
    "array_full_list = array_full_list.reshape(k,int(len(full_list1)/k),full_list1.shape[1])\n",
    "selected_tics = sorted(selected_tics)"
   ]
  },
  {
   "cell_type": "code",
   "execution_count": null,
   "metadata": {
    "colab": {
     "base_uri": "https://localhost:8080/"
    },
    "id": "XcNyXa7RNPrF",
    "outputId": "fd13ad85-36fd-4a55-9084-dbf807bbeb02"
   },
   "outputs": [],
   "source": [
    "df.tic.value_counts()"
   ]
  },
  {
   "cell_type": "markdown",
   "metadata": {
    "id": "uqC6c40Zh1iH"
   },
   "source": [
    "# Part 2: DeepLearning representation\n"
   ]
  },
  {
   "cell_type": "code",
   "execution_count": 24,
   "metadata": {},
   "outputs": [],
   "source": [
    "#generate x, y, z, zp quadruples\n",
    "#segment x, y, z trios to sequence according to $timeStep and $gap\n",
    "#x: historical data w/ technical analysis indicator\n",
    "#y: closing price of t+1\n",
    "#z:  difference between t+1 and t step's closing price\n",
    "\n",
    "def toSequential_train1(idx, full_list, timeStep=48, gap=4):\n",
    "    #closing: from id=0 to last\n",
    "    closing=full_list[idx][:, 3]\n",
    "#     closingNorm = (closing - closing.mean())/closing.std()\n",
    "    #data from id=0 to second to last\n",
    "    data=full_list[idx][:-1]\n",
    "    #calculating number of available sequential samples\n",
    "    data_length=len(data)\n",
    "    count=(data_length-timeStep)//gap+1\n",
    "    stockSeq=[]\n",
    "    labelSeq=[]\n",
    "    diffSeq=[]\n",
    "    realDiffSeq=[]\n",
    "    for i in range(count):\n",
    "        #segData dims: [timestep, feature count]       \n",
    "        segData=data[gap*i:gap*i+timeStep]\n",
    "        segClosing=closing[gap*i:gap*i+timeStep+1]\n",
    "        #segDiff=diff[gap*i:gap*i+timeStep]\n",
    "        #normalization\n",
    "        \n",
    "        std_dev = segData.std(axis=0, keepdims=True)\n",
    "        std_dev_nonzero = np.where(std_dev == 0, 1, std_dev)  # 处理分母为零的情况\n",
    "#         segDataNorm = np.nan_to_num((segData - segData.mean(axis=0, keepdims=True)) / std_dev_nonzero)\n",
    "        segDataNorm=np.nan_to_num((segData-segData.mean(axis=0, keepdims=True))/segData.std(axis=0, keepdims=True))\n",
    "    \n",
    "        std_close = segClosing.std()\n",
    "        std_segClosing = np.where(std_close == 0, 1, std_close)\n",
    "        segClosingNorm=(segClosing-segClosing.mean())/std_segClosing\n",
    "#         segDiff=(segDiff-segDiff.mean())/segDiff.std()\n",
    "        \n",
    "        stockSeq.append(segDataNorm)\n",
    "        labelSeq.append(segClosingNorm[1:])\n",
    "        diffSeq.append(segClosingNorm[1:]-segClosingNorm[:-1])\n",
    "        realDiffSeq.append(segClosing[1:]-segClosing[:-1])\n",
    "    stockSeq=np.array(stockSeq)\n",
    "    labelSeq=np.array(labelSeq)\n",
    "    diffSeq=np.array(diffSeq)\n",
    "    realDiffSeq=np.array(realDiffSeq)\n",
    "    return stockSeq.astype('float32') , labelSeq.astype('float32'), diffSeq.astype('float32'), realDiffSeq.astype('float32')"
   ]
  },
  {
   "cell_type": "code",
   "execution_count": 25,
   "metadata": {},
   "outputs": [],
   "source": [
    "def toSequential_back(idx, full_list, timeStep = 48, gap = 1,batch_size = 64):\n",
    "    #closing: from id=0 to last\n",
    "    closing=full_list[idx][:, 3]\n",
    "    #data from id=0 to second to last\n",
    "    data=full_list[idx][:-1]\n",
    "    #calculating number of available sequential samples\n",
    "    data_length=len(data)\n",
    "    count=(data_length-timeStep)//gap+1\n",
    "    stockSeq=[]\n",
    "    labelSeq=[]\n",
    "    diffSeq=[]\n",
    "    realDiffSeq=[]\n",
    "    \n",
    "    start = data_length - timeStep\n",
    "    i=0\n",
    "    while start >= 0:\n",
    "        segData = data[start:start + timeStep]\n",
    "        std_dev = segData.std(axis=0, keepdims=True)\n",
    "        std_dev_nonzero = np.where(std_dev == 0, 1, std_dev)  # 处理分母为零的情况\n",
    "        segDataNorm = np.nan_to_num((segData - segData.mean(axis=0, keepdims=True)) / std_dev_nonzero)\n",
    "        #复制batch_size个\n",
    "        stockSeq.extend([segDataNorm] * batch_size)\n",
    "#         stockSeq.append(segDataNorm)   \n",
    "        start = start - gap\n",
    "        i +=1\n",
    "    stockSeq=np.array(stockSeq)[::-1]\n",
    "#     print(i)\n",
    "    return stockSeq.astype('float32')"
   ]
  },
  {
   "cell_type": "code",
   "execution_count": 26,
   "metadata": {},
   "outputs": [],
   "source": [
    "#input each step:  vector including [stock info, tech indicators]\n",
    "#output each step: closing price t+1, price diff between t+1 and t\n",
    "#full_list: output from get_data_set\n",
    "\n",
    "class StockDataset(Dataset):\n",
    "    def __init__(self, id_list, full_list, transform=None, timestep=48, gap=3):\n",
    "        self.transform=transform\n",
    "        self.id_list=id_list\n",
    "        \n",
    "        stock_cohort=[]\n",
    "        closing_cohort=[]\n",
    "        diff_cohort=[]\n",
    "        real_diff_cohort=[]\n",
    "        \n",
    "        #load data into cohort\n",
    "        for i in self.id_list:\n",
    "            X, y, z, zp=toSequential_train1(i, full_list, timeStep=timestep, gap=gap)\n",
    "            stock_cohort.append(X)\n",
    "            closing_cohort.append(y)\n",
    "            diff_cohort.append(z)\n",
    "            real_diff_cohort.append(zp)\n",
    "        self.X=np.concatenate(stock_cohort, axis=0)\n",
    "        self.y=np.concatenate(closing_cohort, axis=0)\n",
    "        self.z=np.concatenate(diff_cohort, axis=0)  \n",
    "        self.zp=np.concatenate(real_diff_cohort, axis=0)\n",
    "        \n",
    "    def __len__(self):\n",
    "        return len(self.y)\n",
    "    \n",
    "    def __getitem__(self, idx):\n",
    "        \"\"\"\n",
    "        data returned in the format of \n",
    "        \"\"\"\n",
    "        if torch.is_tensor(idx):\n",
    "            idx=idx.tolist()\n",
    "        \n",
    "        data=self.X[idx]\n",
    "        label1=self.y[idx]\n",
    "        label2=self.z[idx]\n",
    "        label3=self.zp[idx]\n",
    "        if self.transform:\n",
    "            data=self.transform(data)\n",
    "        return (data, label1, label2, label3)\n",
    "    \n",
    "    \n",
    "    def getDS(self):\n",
    "        return self.X, self.y, self.z, self.zp"
   ]
  },
  {
   "cell_type": "code",
   "execution_count": 27,
   "metadata": {},
   "outputs": [],
   "source": [
    "#input each step:  vector including [stock info, tech indicators]\n",
    "#output each step: closing price t+1, price diff between t+1 and t\n",
    "#full_list: output from get_data_set\n",
    "\n",
    "class StockDataset_back(Dataset):\n",
    "    def __init__(self, id_list, full_list, transform=None, timestep=48, gap=1):\n",
    "        self.transform=transform\n",
    "        self.id_list=id_list\n",
    "        \n",
    "        stock_cohort=[]\n",
    "        \n",
    "        #load data into cohort\n",
    "        for i in self.id_list:\n",
    "            X=toSequential_back(i, full_list, timeStep=timestep, gap=gap)\n",
    "            stock_cohort.append(X)\n",
    "        self.X=np.concatenate(stock_cohort, axis=0)\n",
    "        \n",
    "    def __len__(self):\n",
    "        return len(self.X)\n",
    "    \n",
    "    def __getitem__(self, idx):\n",
    "        \"\"\"\n",
    "        data returned in the format of \n",
    "        \"\"\"\n",
    "        if torch.is_tensor(idx):\n",
    "            idx=idx.tolist()\n",
    "        \n",
    "        data=self.X[idx]\n",
    "        if self.transform:\n",
    "            data=self.transform(data)\n",
    "        return data\n",
    "        \n",
    "    def getDS(self):\n",
    "        return self.X"
   ]
  },
  {
   "cell_type": "code",
   "execution_count": 28,
   "metadata": {},
   "outputs": [],
   "source": [
    "#Generation of training, validation, and testing dataset\n",
    "def DataIterGen(test_id_list, val_id_list, name_list, full_list, demo=False):\n",
    "    \"\"\"\n",
    "    test_id_list: id of subjects for testing\n",
    "    val_id_list: id of subjects for validation\n",
    "    other subjects for training\n",
    "    full_list=get_data_set(name_list), preprocessed\n",
    "    demo: when demo mode is True, only test_iter is returned, with data from\n",
    "    first entry of test_id_list (single stock)\n",
    "    \"\"\"\n",
    "    name_count=len(name_list)\n",
    "\n",
    "    if demo:\n",
    "        test_iter=DataLoader(StockDataset(test_id_list[0:1], full_list, timestep=24, gap=1), shuffle=False, batch_size=64, num_workers=0)\n",
    "        print(f'Demo with stock: {name_list[test_id_list[0]]} ')\n",
    "        return test_iter\n",
    "    else:\n",
    "        all_ids = list(range(name_count))\n",
    "        train_id_list = list(set(all_ids) - set(test_id_list) - set(val_id_list))\n",
    "#         partial_list=full_list[train_list,:,:]\n",
    "        test_iter=DataLoader(StockDataset(test_id_list, full_list), batch_size=64, num_workers=0,drop_last=True)\n",
    "        val_iter=DataLoader(StockDataset(val_id_list, full_list), batch_size=64, num_workers=0,drop_last=True)\n",
    "        train_iter=DataLoader(StockDataset(train_id_list, full_list), shuffle=True, batch_size=64, num_workers=0,drop_last=True)\n",
    "        print(f'Val: {[name_list[val_id] for val_id in val_id_list]}, Test: {[name_list[test_id] for test_id in test_id_list]}, Train: {[name_list[train_id] for train_id in train_id_list]} ')\n",
    "        return train_iter, val_iter, test_iter"
   ]
  },
  {
   "cell_type": "code",
   "execution_count": 29,
   "metadata": {},
   "outputs": [
    {
     "name": "stdout",
     "output_type": "stream",
     "text": [
      "Val: ['600048.SH', '600050.SH'], Test: ['600030.SH', '600276.SH'], Train: ['600000.SH', '600028.SH', '600031.SH', '600036.SH', '600104.SH', '600196.SH', '600309.SH', '600436.SH', '600438.SH', '600519.SH', '600547.SH', '600570.SH', '600585.SH', '600588.SH', '600690.SH', '600745.SH'] \n"
     ]
    }
   ],
   "source": [
    "train_iter, val_iter, test_iter = DataIterGen([2,9],[5,6],selected_tics,array_full_list)"
   ]
  },
  {
   "cell_type": "markdown",
   "metadata": {},
   "source": [
    "# Part3: Transformer"
   ]
  },
  {
   "cell_type": "code",
   "execution_count": null,
   "metadata": {},
   "outputs": [],
   "source": [
    "# import torch\n",
    "# import torch.nn as nn\n",
    "# import torch.nn.functional as F\n",
    "\n",
    "# class TransformerEncoder(nn.Module):\n",
    "#     def __init__(self, input_size, d_model, num_heads, num_layers,dropout_rate):\n",
    "#         super(TransformerEncoder, self).__init__()\n",
    "#         self.embedding = nn.Linear(input_size, d_model)\n",
    "#         self.attention = nn.MultiheadAttention(d_model, num_heads)\n",
    "#         self.dropout1 = nn.Dropout(dropout_rate)\n",
    "#         self.layer_norm1 = nn.LayerNorm(d_model)\n",
    "#         self.feed_forward = nn.Sequential(\n",
    "#             nn.Linear(d_model, d_moedl * 4),\n",
    "#             nn.ReLU(),\n",
    "#             nn.Linear(d_model * 4, d_model)\n",
    "#         )\n",
    "#         self.dropout2 = nn.Dropout(dropout_rate)\n",
    "#         self.layer_norm2 = nn.LayerNorm(d_moedl)\n",
    "#         self.num_layers = num_layers\n",
    "\n",
    "#     def forward(self, x):\n",
    "#         x = self.embedding(x)\n",
    "#         for _ in range(self.num_layers):\n",
    "#             residual = x\n",
    "#             x, _ = self.attention(x, x, x)\n",
    "#             x = self.dropout1(x)\n",
    "#             x = self.layer_norm1(x + residual)\n",
    "#             residual = x\n",
    "#             x = self.feed_forward(x)\n",
    "#             x = self.dropout2(x)\n",
    "#             x = self.layer_norm2(x + residual)\n",
    "#         return x\n"
   ]
  },
  {
   "cell_type": "code",
   "execution_count": null,
   "metadata": {},
   "outputs": [],
   "source": [
    "# class TransformerDecoder(nn.Module):\n",
    "#     def __init__(self, input_size, d_model, num_heads, env_size, num_layers, dropout_rate):\n",
    "#         super(TransformerDecoder, self).__init__()\n",
    "#         self.embedding = nn.Linear(input_size, d_model)\n",
    "#         self.attention = nn.MultiheadAttention(d_model, num_heads)\n",
    "#         self.dropout1 = nn.Dropout(dropout_rate)\n",
    "#         self.layer_norm1 = nn.LayerNorm(d_model)\n",
    "#         self.encoder_attention = nn.MultiheadAttention(d_model, num_heads)\n",
    "#         self.dropout2 = nn.Dropout(dropout_rate)\n",
    "#         self.layer_norm2 = nn.LayerNorm(d_model)\n",
    "#         self.feed_forward = nn.Sequential(\n",
    "#             nn.Linear(d_model, d_model * 4),\n",
    "#             nn.ReLU(),\n",
    "#             nn.Linear(d_model * 4, d_model)\n",
    "#         )\n",
    "#         self.dropout3 = nn.Dropout(dropout_rate)\n",
    "#         self.layer_norm3 = nn.LayerNorm(d_model)\n",
    "#         self.linear1 = nn.Linear(d_model, env_size)\n",
    "#         self.linear2 = nn.Linear(env_size,1)\n",
    "#         self.num_layers = num_layers\n",
    "\n",
    "#     def forward(self, x, encoder_output, target_mask, target_padding_mask):\n",
    "#         x = self.embedding(x)\n",
    "#         for _ in range(self.num_layers):\n",
    "#             residual = x\n",
    "#             x, _ = self.attention(x, x, x, attn_mask=target_mask)\n",
    "#             x = self.dropout1(x)\n",
    "#             x = self.layer_norm1(x + residual)\n",
    "#             residual = x\n",
    "#             x, _ = self.encoder_attention(x, encoder_output, encoder_output,key_padding_mask =target_padding_mask)\n",
    "#             x = self.dropout2(x)\n",
    "#             x = self.layer_norm2(x + residual)\n",
    "#             residual = x\n",
    "#             x = self.feed_forward(x)\n",
    "#             x = self.dropout3(x)\n",
    "#             x = self.layer_norm3(x + residual)\n",
    "#         env_size = self.linear1(x)\n",
    "#         x = self.linear2(env_size).permute(1,0,2)\n",
    "#         return x, env_size.permute(1,0,2)[0,-1,:]  \n"
   ]
  },
  {
   "cell_type": "code",
   "execution_count": null,
   "metadata": {},
   "outputs": [],
   "source": [
    "# class Transformer(nn.Module):\n",
    "#     def __init__(self, input_size, d_model, num_heads, num_layers, env_size, dropout_rate):\n",
    "#         super(Transformer, self).__init__()\n",
    "#         self.encoder = TransformerEncoder(input_size, d_model, num_heads, num_layers,dropout_rate)\n",
    "#         self.decoder = TransformerDecoder(input_size, d_model, num_heads, env_size, num_layers,dropout_rate)\n",
    "\n",
    "#     def forward(self, input_seq, target_seq):\n",
    "#         encoder_output = self.encoder(input_seq)\n",
    "#         target_mask = self.generate_attention_mask(target_seq)\n",
    "#         target_padding_mask = self.generate_padding_mask(target_seq)\n",
    "#         decoder_output = self.decoder(target_seq, encoder_output)\n",
    "#         return decoder_output\n",
    "    \n",
    "#     def generate_attention_mask(self, sequence):\n",
    "#         attn_mask = torch.triu(torch.ones(sequence.size(1), sequence.size(1)), diagonal=1).bool().to(sequence.device)\n",
    "#         return attn_mask\n",
    "\n",
    "#     def generate_padding_mask(self, sequence):\n",
    "#         padding_mask = (sequence == 0).to(sequence.device)\n",
    "#         return padding_mask"
   ]
  },
  {
   "cell_type": "code",
   "execution_count": null,
   "metadata": {},
   "outputs": [],
   "source": [
    "# #模型训练\n",
    "# def train(model, train_iter, optimizer, num_epochs): \n",
    "#     # 训练循环\n",
    "#     for epoch in range(num_epochs):\n",
    "#         model.train()\n",
    "#         total_loss = 0.0\n",
    "#         enVec_list = []\n",
    "#         for X, y, z, zp in train_iter:  \n",
    "#             optimizer.zero_grad()\n",
    "\n",
    "#             inputs = X.to(device)\n",
    "#             targets = y.unsqueeze(2).to(device)\n",
    "#             pred,enVec = model(inputs,targets)\n",
    "#             enVec_list.append(enVec)\n",
    "#             print(pred,targets)\n",
    "#             loss = nn.MSELoss()(pred, targets)  \n",
    "#             loss.backward()\n",
    "#             optimizer.step()\n",
    "#             total_loss += loss.item()\n",
    "\n",
    "#         # 打印每个 epoch 的损失\n",
    "#         print(f\"Epoch {epoch+1}: Loss: {total_loss/len(train_iter):.4f}\")\n",
    "#     return enVec_list\n",
    "# # 模型评估\n",
    "# def val(model, val_iter):\n",
    "#     model.eval()\n",
    "#     total_loss = 0.0\n",
    "#     enVec_list = []\n",
    "#     with torch.no_grad():\n",
    "#         for X, y, z, zp in val_iter: \n",
    "#             inputs = X.to(device)\n",
    "#             targets = y.unsqueeze(2).to(device)\n",
    "#             pred, enVec = model(inputs)\n",
    "#             enVec_list.append(enVec)\n",
    "#             loss = nn.MSELoss()(pred, targets)  \n",
    "#             total_loss += loss.item()\n",
    "#     print(f\"val Loss: {total_loss/len(val_iter):.4f}\")\n",
    "#     return enVec_list"
   ]
  },
  {
   "cell_type": "code",
   "execution_count": null,
   "metadata": {},
   "outputs": [],
   "source": [
    "# # 定义模型\n",
    "# model = Transformer(input_size = 42, d_model = 128 , num_layers = 2, num_heads = 8,env_size =40,dropout_rate=0.2)\n",
    "# optimizer = optim.Adam(model.parameters(), lr=0.001)\n",
    "# outcoming =train(model,train_iter,optimizer,5)\n",
    "# valtest =val(model,val_iter)"
   ]
  },
  {
   "cell_type": "code",
   "execution_count": null,
   "metadata": {},
   "outputs": [],
   "source": [
    "# def predict(model,back_iter):\n",
    "#     enVec_list = []\n",
    "#     with torch.no_grad():\n",
    "#         for X in back_iter:\n",
    "#             inputs = X.to(device)\n",
    "#             _,enVec = model(inputs)\n",
    "#             enVec_list.append(enVec)\n",
    "#     return enVec_list"
   ]
  },
  {
   "cell_type": "code",
   "execution_count": null,
   "metadata": {},
   "outputs": [],
   "source": [
    "# #define device\n",
    "# def try_gpu(i=0):\n",
    "#     \"\"\"Return gpu(i) if exists, otherwise return cpu().\"\"\"\n",
    "#     if torch.cuda.device_count() >= i + 1:\n",
    "#         return torch.device(f'cuda:{i}')\n",
    "#     return torch.device('cpu')\n",
    "# device=try_gpu()"
   ]
  },
  {
   "cell_type": "code",
   "execution_count": 30,
   "metadata": {},
   "outputs": [],
   "source": [
    "import torch\n",
    "import torch.nn as nn\n",
    "import torch.nn.functional as F\n",
    "\n",
    "class Transformer(nn.Module):\n",
    "    def __init__(self, input_size, d_model, d_ff, num_heads,env_size, num_layers,dropout_rate):\n",
    "        super(Transformer, self).__init__()\n",
    "        self.embedding = nn.Linear(input_size, d_model)\n",
    "        self.encode = Encoder(d_model, d_ff, num_heads, num_layers,dropout_rate)\n",
    "        self.linear1 = nn.Linear(d_model, env_size)\n",
    "        self.rule = nn.ReLU()\n",
    "        self.linear2 = nn.Linear(env_size,1)\n",
    "        \n",
    "\n",
    "    def forward(self, x):\n",
    "        x = self.embedding(x)\n",
    "#         print(x.shape)\n",
    "        x = x.permute(1,0,2)\n",
    "        encoded = self.encode(x)\n",
    "        encoded = self.linear1(encoded)\n",
    "        x = self.rule(encoded)\n",
    "        x = self.linear2(x)\n",
    "#         print(x.shape)\n",
    "        decoded = x.permute(1,0,2)\n",
    "        return decoded, encoded.permute(1,0,2)[0,-1,:]  \n"
   ]
  },
  {
   "cell_type": "code",
   "execution_count": 31,
   "metadata": {},
   "outputs": [],
   "source": [
    "class Encoder(nn.Module):\n",
    "    def __init__(self, d_model, d_ff, num_heads, num_layers,dropout_rate):\n",
    "        super(Encoder, self).__init__()\n",
    "        self.layers = nn.ModuleList([EncoderLayer(d_model, d_ff, num_heads,dropout_rate) for _ in range(num_layers)])\n",
    "\n",
    "    def forward(self, x):\n",
    "        for layer in self.layers:\n",
    "            x = layer(x)\n",
    "        return x"
   ]
  },
  {
   "cell_type": "code",
   "execution_count": 32,
   "metadata": {},
   "outputs": [],
   "source": [
    "class EncoderLayer(nn.Module):\n",
    "    def __init__(self, d_model, d_ff, num_heads,dropout_rate):\n",
    "        super(EncoderLayer, self).__init__()\n",
    "        self.self_attention = nn.MultiheadAttention(d_model, num_heads)\n",
    "        self.dropout1 = nn.Dropout(dropout_rate)\n",
    "        self.feed_forward = FeedForward(d_model, d_ff)\n",
    "        self.dropout2 = nn.Dropout(dropout_rate)\n",
    "        self.norm1 = nn.LayerNorm(d_model)\n",
    "        self.norm2 = nn.LayerNorm(d_model)\n",
    "\n",
    "    def forward(self, x):\n",
    "        residual = x  # 保存输入的残差连接\n",
    "        encoder_mask = torch.triu(torch.ones(x.size(0), x.size(0)), diagonal=1).bool().to(device)\n",
    "        # Self-Attention\n",
    "        x, _ = self.self_attention(x, x, x,attn_mask=encoder_mask)\n",
    "        x = self.dropout1(x)\n",
    "        x = x + residual  # 残差连接\n",
    "        x = self.norm1(x)  # Add & Norm\n",
    "\n",
    "        residual = x  # 保存 Self-Attention 后的残差连接\n",
    "\n",
    "        # Feed-Forward\n",
    "        x = self.feed_forward(x)\n",
    "        x = self.dropout2(x)\n",
    "        x = x + residual  # 残差连接\n",
    "        x = self.norm2(x)  # Add & Norm\n",
    "\n",
    "        return x"
   ]
  },
  {
   "cell_type": "code",
   "execution_count": 33,
   "metadata": {},
   "outputs": [],
   "source": [
    "class EncoderLayer(nn.Module):\n",
    "    def __init__(self, d_model, d_ff, num_heads,dropout_rate):\n",
    "        super(EncoderLayer, self).__init__()\n",
    "        self.self_attention = nn.MultiheadAttention(d_model, num_heads)\n",
    "        self.dropout1 = nn.Dropout(dropout_rate)\n",
    "        self.feed_forward = FeedForward(d_model, d_ff)\n",
    "        self.dropout2 = nn.Dropout(dropout_rate)\n",
    "        self.norm1 = nn.LayerNorm(d_model)\n",
    "        self.norm2 = nn.LayerNorm(d_model)\n",
    "\n",
    "    def forward(self, x):\n",
    "        residual = x  # 保存输入的残差连接\n",
    "#         encoder_mask = torch.triu(torch.ones(x.size(0), x.size(0)), diagonal=1).bool().to(device)\n",
    "        # Self-Attention\n",
    "        x, _ = self.self_attention(x, x, x)\n",
    "        x = self.dropout1(x)\n",
    "        x = x + residual  # 残差连接\n",
    "        x = self.norm1(x)  # Add & Norm\n",
    "\n",
    "        residual = x  # 保存 Self-Attention 后的残差连接\n",
    "\n",
    "        # Feed-Forward\n",
    "        x = self.feed_forward(x)\n",
    "        x = self.dropout2(x)\n",
    "        x = x + residual  # 残差连接\n",
    "        x = self.norm2(x)  # Add & Norm\n",
    "\n",
    "        return x"
   ]
  },
  {
   "cell_type": "code",
   "execution_count": 34,
   "metadata": {},
   "outputs": [],
   "source": [
    "class FeedForward(nn.Module):\n",
    "    def __init__(self, d_model, d_ff):\n",
    "        super(FeedForward, self).__init__()\n",
    "        self.linear1 = nn.Linear(d_model, d_ff)\n",
    "        self.linear2 = nn.Linear(d_ff, d_model)\n",
    "\n",
    "    def forward(self, x):\n",
    "        x = F.relu(self.linear1(x))\n",
    "        x = self.linear2(x)\n",
    "        return x"
   ]
  },
  {
   "cell_type": "code",
   "execution_count": 35,
   "metadata": {},
   "outputs": [],
   "source": [
    "#模型训练\n",
    "def train(model, train_iter, optimizer, num_epochs): \n",
    "    # 训练循环\n",
    "    for epoch in range(num_epochs):\n",
    "        model.train()\n",
    "        total_loss = 0.0\n",
    "        enVec_list = []\n",
    "        for X, y, z, zp in train_iter:  \n",
    "            optimizer.zero_grad()\n",
    "\n",
    "            inputs = X.to(device)\n",
    "            targets = y.unsqueeze(2).to(device)\n",
    "            pred,enVec = model(inputs)\n",
    "            enVec_list.append(enVec)\n",
    "#             print(pred,targets)\n",
    "            loss = nn.L1Loss()(pred, targets)  \n",
    "            loss.backward()\n",
    "            optimizer.step()\n",
    "            total_loss += loss.item()\n",
    "\n",
    "        # 打印每个 epoch 的损失\n",
    "        print(f\"Epoch {epoch+1}: Loss: {total_loss/len(train_iter):.4f}\")\n",
    "    return enVec_list\n",
    "# 模型评估\n",
    "def val(model, val_iter):\n",
    "    model.eval()\n",
    "    total_loss = 0.0\n",
    "    enVec_list = []\n",
    "    with torch.no_grad():\n",
    "        for X, y, z, zp in val_iter: \n",
    "            inputs = X.to(device)\n",
    "            targets = y.unsqueeze(2).to(device)\n",
    "            pred, enVec = model(inputs)\n",
    "            enVec_list.append(enVec)\n",
    "            loss = nn.L1Loss()(pred, targets)  \n",
    "            total_loss += loss.item()\n",
    "    print(f\"val Loss: {total_loss/len(val_iter):.4f}\")\n",
    "    return enVec_list"
   ]
  },
  {
   "cell_type": "code",
   "execution_count": 36,
   "metadata": {},
   "outputs": [],
   "source": [
    "def predict(model,back_iter):\n",
    "    enVec_list = []\n",
    "    with torch.no_grad():\n",
    "        for X in back_iter:\n",
    "            inputs = X.to(device)\n",
    "            _,enVec = model(inputs)\n",
    "            enVec_list.append(enVec)\n",
    "    return enVec_list"
   ]
  },
  {
   "cell_type": "code",
   "execution_count": 37,
   "metadata": {},
   "outputs": [],
   "source": [
    "#define device\n",
    "def try_gpu(i=0):\n",
    "    \"\"\"Return gpu(i) if exists, otherwise return cpu().\"\"\"\n",
    "    if torch.cuda.device_count() >= i + 1:\n",
    "        return torch.device(f'cuda:{i}')\n",
    "    return torch.device('cpu')\n",
    "device=try_gpu()"
   ]
  },
  {
   "cell_type": "code",
   "execution_count": null,
   "metadata": {},
   "outputs": [],
   "source": [
    "import torch\n",
    "import torch.nn as nn\n",
    "import torch.nn.functional as F\n",
    "\n",
    "class Transformer(nn.Module):\n",
    "    def __init__(self, input_size, d_model, d_ff, num_heads,env_size, num_layers):\n",
    "        super(Transformer, self).__init__()\n",
    "        self.embedding = nn.Linear(input_size, d_model)\n",
    "        self.encode = Encoder(d_model, d_ff, num_heads, num_layers)\n",
    "        self.linear1 = nn.Linear(d_model, env_size)\n",
    "        self.relu = nn.ReLU()\n",
    "        self.linear2 = nn.Linear(env_size,1)\n",
    "        \n",
    "\n",
    "    def forward(self, x):\n",
    "        x = self.embedding(x)\n",
    "#         print(x.shape)\n",
    "        x = x.permute(1,0,2)\n",
    "        encoded = self.encode(x)\n",
    "        encoded = self.linear1(encoded)\n",
    "        x = self.relu(encoded)\n",
    "        x = self.linear2(x)\n",
    "#         print(x.shape)\n",
    "        decoded = x.permute(1,0,2)\n",
    "        return decoded, encoded.permute(1,0,2)[0,-1,:]  \n"
   ]
  },
  {
   "cell_type": "code",
   "execution_count": null,
   "metadata": {},
   "outputs": [],
   "source": [
    "class Encoder(nn.Module):\n",
    "    def __init__(self, d_model, d_ff, num_heads, num_layers):\n",
    "        super(Encoder, self).__init__()\n",
    "        self.layers = nn.ModuleList([EncoderLayer(d_model, d_ff, num_heads) for _ in range(num_layers)])\n",
    "\n",
    "    def forward(self, x):\n",
    "        for layer in self.layers:\n",
    "            x = layer(x)\n",
    "        return x"
   ]
  },
  {
   "cell_type": "code",
   "execution_count": null,
   "metadata": {},
   "outputs": [],
   "source": [
    "class EncoderLayer(nn.Module):\n",
    "    def __init__(self, d_model, d_ff, num_heads):\n",
    "        super(EncoderLayer, self).__init__()\n",
    "        self.self_attention = nn.MultiheadAttention(d_model, num_heads)\n",
    "        self.feed_forward = FeedForward(d_model, d_ff)\n",
    "        self.norm1 = nn.LayerNorm(d_model)\n",
    "        self.norm2 = nn.LayerNorm(d_model)\n",
    "\n",
    "    def forward(self, x):\n",
    "        residual = x  # 保存输入的残差连接\n",
    "\n",
    "        # Self-Attention\n",
    "        x, _ = self.self_attention(x, x, x)\n",
    "        x = x + residual  # 残差连接\n",
    "        x = self.norm1(x)  # Add & Norm\n",
    "\n",
    "        residual = x  # 保存 Self-Attention 后的残差连接\n",
    "\n",
    "        # Feed-Forward\n",
    "        x = self.feed_forward(x)48\n",
    "        x = x + residual  # 残差连接\n",
    "        x = self.norm2(x)  # Add & Norm\n",
    "\n",
    "        return x"
   ]
  },
  {
   "cell_type": "code",
   "execution_count": null,
   "metadata": {},
   "outputs": [],
   "source": [
    "class FeedForward(nn.Module):\n",
    "    def __init__(self, d_model, d_ff):\n",
    "        super(FeedForward, self).__init__()\n",
    "        self.linear1 = nn.Linear(d_model, d_ff)\n",
    "        self.linear2 = nn.Linear(d_ff, d_model)\n",
    "\n",
    "    def forward(self, x):\n",
    "        x = F.relu(self.linear1(x))\n",
    "        x = self.linear2(x)\n",
    "        return x"
   ]
  },
  {
   "cell_type": "code",
   "execution_count": null,
   "metadata": {},
   "outputs": [],
   "source": [
    "#模型训练\n",
    "def train(model, train_iter, optimizer, num_epochs): \n",
    "    # 训练循环\n",
    "    for epoch in range(num_epochs):\n",
    "        model.train()\n",
    "        total_loss = 0.0\n",
    "        enVec_list = []\n",
    "        for X, y, z, zp in train_iter:  \n",
    "            optimizer.zero_grad()\n",
    "\n",
    "            inputs = X.to(device)\n",
    "            targets = y.unsqueeze(2).to(device)\n",
    "            pred,enVec = model(inputs)\n",
    "            enVec_list.append(enVec)\n",
    "#             print(pred,targets)\n",
    "            loss = nn.MSELoss()(pred, targets)  \n",
    "            loss.backward()\n",
    "            optimizer.step()\n",
    "            total_loss += loss.item()\n",
    "\n",
    "        # 打印每个 epoch 的损失\n",
    "        print(f\"Epoch {epoch+1}: Loss: {total_loss/len(train_iter):.4f}\")\n",
    "    return enVec_list\n",
    "# 模型评估\n",
    "def val(model, val_iter):\n",
    "    model.eval()\n",
    "    total_loss = 0.0\n",
    "    enVec_list = []\n",
    "    with torch.no_grad():\n",
    "        for X, y, z, zp in val_iter: \n",
    "            inputs = X.to(device)\n",
    "            targets = y.unsqueeze(2).to(device)\n",
    "            pred, enVec = model(inputs)\n",
    "            enVec_list.append(enVec)\n",
    "            loss = nn.MSELoss()(pred, targets)  \n",
    "            total_loss += loss.item()\n",
    "    print(f\"val Loss: {total_loss/len(val_iter):.4f}\")\n",
    "    return enVec_list"
   ]
  },
  {
   "cell_type": "code",
   "execution_count": null,
   "metadata": {},
   "outputs": [],
   "source": [
    "# 定义模型  d=3\n",
    "model = Transformer(input_size = 42, d_model = 128 , num_layers = 2, d_ff = 512 ,num_heads = 8,env_size =40,dropout_rate=0.2)\n",
    "optimizer = optim.Adam(model.parameters(), lr=0.001)\n",
    "outcoming = train(model,train_iter,optimizer,20)\n",
    "valtest =val(model,val_iter)"
   ]
  },
  {
   "cell_type": "code",
   "execution_count": 38,
   "metadata": {},
   "outputs": [
    {
     "name": "stdout",
     "output_type": "stream",
     "text": [
      "Epoch 1: Loss: 0.2992\n",
      "Epoch 2: Loss: 0.1957\n",
      "Epoch 3: Loss: 0.1103\n",
      "Epoch 4: Loss: 0.0822\n",
      "Epoch 5: Loss: 0.0724\n",
      "Epoch 6: Loss: 0.0644\n",
      "Epoch 7: Loss: 0.0600\n",
      "Epoch 8: Loss: 0.0582\n",
      "Epoch 9: Loss: 0.0538\n",
      "Epoch 10: Loss: 0.0519\n",
      "val Loss: 0.0488\n"
     ]
    }
   ],
   "source": [
    "# 定义模型  d = 8\n",
    "model = Transformer(input_size = 42, d_model = 128 , num_layers = 2, d_ff = 512 ,num_heads = 8,env_size =40,dropout_rate=0.2)\n",
    "optimizer = optim.Adam(model.parameters(), lr=0.001)\n",
    "outcoming = train(model,train_iter,optimizer,10)\n",
    "valtest =val(model,val_iter)"
   ]
  },
  {
   "cell_type": "code",
   "execution_count": null,
   "metadata": {},
   "outputs": [],
   "source": [
    "# 定义模型 补充Group1\n",
    "model = Transformer(input_size = 42, d_model = 128 , num_layers = 2, d_ff = 512 ,num_heads = 8,env_size =40,dropout_rate=0.2)\n",
    "optimizer = optim.Adam(model.parameters(), lr=0.001)\n",
    "outcoming = train(model,train_iter,optimizer,15)\n",
    "valtest =val(model,val_iter)"
   ]
  },
  {
   "cell_type": "markdown",
   "metadata": {},
   "source": [
    "# Part 4: Preprocess Data\n",
    "Data preprocessing is a crucial step for training a high quality machine learning model. We need to check for missing data and do feature engineering in order to convert the data into a model-ready state.\n",
    "* Add technical indicators. In practical trading, various information needs to be taken into account, for example the historical stock prices, current holding shares, technical indicators, etc. In this article, we demonstrate two trend-following technical indicators: MACD and RSI.\n",
    "* Add turbulence index. Risk-aversion reflects whether an investor will choose to preserve the capital. It also influences one's trading strategy when facing different market volatility level. To control the risk in a worst-case scenario, such as financial crisis of 2007–2008, FinRL employs the financial turbulence index that measures extreme asset price fluctuation."
   ]
  },
  {
   "cell_type": "code",
   "execution_count": 39,
   "metadata": {},
   "outputs": [],
   "source": [
    "# feature_enginner\n",
    "import time \n",
    "start_time = time.time()\n",
    "alltic_list = [i for i in range(k)]\n",
    "\n",
    "def Feature_enginner(model, processed_df, full_list, alltic_list, batch_size=64, k=20, env_size=40,dela = 48):\n",
    "    back_iter = DataLoader(StockDataset_back([i for i in range(k)],full_list), shuffle=False, batch_size=batch_size, num_workers=0,drop_last=False)\n",
    "    \n",
    "    new_state = predict(model,back_iter)\n",
    "    concatenated_tensor = torch.cat(new_state, dim=0)\n",
    "    concatenated_tensor = concatenated_tensor.view(-1,env_size)\n",
    "    feature_df = pd.DataFrame(concatenated_tensor.numpy())\n",
    "    \n",
    "    full_delay_df = delaydate(dela ,processed_df)\n",
    "    \n",
    "    merged_df = pd.concat([full_delay_df, feature_df], axis=1)\n",
    "    merged_df = merged_df.loc[:,['tic','date','close'] + INDICATORS + [i for i in range(env_size)]]\n",
    "    merged_df.columns = ['tic','date','close'] + INDICATORS + [f\"temporal_feature_{i}\" for i in range(env_size)]\n",
    "    end_time = time.time()\n",
    "    print('总计消耗时间:',(end_time - start_time)/60)\n",
    "    return merged_df"
   ]
  },
  {
   "cell_type": "code",
   "execution_count": null,
   "metadata": {},
   "outputs": [],
   "source": [
    "addfeature_df = Feature_enginner(model, processed_df3, array_full_list, alltic_list, batch_size=64, k=20 ,env_size=40, dela=48)"
   ]
  },
  {
   "cell_type": "code",
   "execution_count": null,
   "metadata": {},
   "outputs": [],
   "source": [
    "addfeature_df"
   ]
  },
  {
   "cell_type": "code",
   "execution_count": null,
   "metadata": {},
   "outputs": [],
   "source": [
    "addfeature_df.to_csv('82addfeature_df.csv',index=None)"
   ]
  },
  {
   "cell_type": "code",
   "execution_count": null,
   "metadata": {},
   "outputs": [],
   "source": [
    "addfeature_df = pd.read_csv('82addfeature_df.csv')"
   ]
  },
  {
   "cell_type": "code",
   "execution_count": null,
   "metadata": {},
   "outputs": [],
   "source": [
    "addfeature_df['date'] = pd.to_datetime(addfeature_df['date'])"
   ]
  },
  {
   "cell_type": "code",
   "execution_count": null,
   "metadata": {},
   "outputs": [],
   "source": [
    "processed_df3.to_csv('82_processed_best.csv',index=None)"
   ]
  },
  {
   "cell_type": "code",
   "execution_count": null,
   "metadata": {},
   "outputs": [],
   "source": [
    "processed_df3 = pd.read_csv('82_processed_best.csv')"
   ]
  },
  {
   "cell_type": "code",
   "execution_count": null,
   "metadata": {},
   "outputs": [],
   "source": [
    "processed_df3['date'] = pd.to_datetime(processed_df3['date'])"
   ]
  },
  {
   "cell_type": "code",
   "execution_count": null,
   "metadata": {},
   "outputs": [],
   "source": [
    "addfeature_df = fe.add_turbulence(addfeature_df)\n",
    "addfeature_df = addfeature_df.fillna(method=\"ffill\").fillna(method=\"bfill\")"
   ]
  },
  {
   "cell_type": "code",
   "execution_count": null,
   "metadata": {
    "colab": {
     "base_uri": "https://localhost:8080/",
     "height": 206
    },
    "id": "grvhGJJII3Xn",
    "outputId": "6dd919fa-032b-4180-adf4-1f732777cedc"
   },
   "outputs": [],
   "source": [
    "import datetime\n",
    "processed['date'] = pd.to_datetime(processed['date'],format='%Y%m%d')\n",
    "processed"
   ]
  },
  {
   "cell_type": "code",
   "execution_count": null,
   "metadata": {},
   "outputs": [],
   "source": [
    "list_ticker = processed[\"tic\"].unique().tolist()\n",
    "# list_date = list(pd.date_range(processed['date'].min(),processed['date'].max()).astype(str))\n",
    "# combination = list(itertools.product(list_date,list_ticker))\n",
    "\n",
    "# processed_full = pd.DataFrame(combination,columns=[\"date\",\"tic\"]).merge(processed,on=[\"date\",\"tic\"],how=\"left\")\n",
    "# processed_full = processed_full[processed_full['date'].isin(processed['date'])]\n",
    "# processed_full = processed_full.sort_values(['date','tic'])\n",
    "\n",
    "processed_full = processed"
   ]
  },
  {
   "cell_type": "markdown",
   "metadata": {
    "id": "-QsYaY0Dh1iw"
   },
   "source": [
    "<a id='4'></a>\n",
    "# Part 5. Design Environment\n",
    "Considering the stochastic and interactive nature of the automated stock trading tasks, a financial task is modeled as a **Markov Decision Process (MDP)** problem. The training process involves observing stock price change, taking an action and reward's calculation to have the agent adjusting its strategy accordingly. By interacting with the environment, the trading agent will derive a trading strategy with the maximized rewards as time proceeds.\n",
    "\n",
    "Our trading environments, based on OpenAI Gym framework, simulate live stock markets with real market data according to the principle of time-driven simulation.\n",
    "\n",
    "The action space describes the allowed actions that the agent interacts with the environment. Normally, action a includes three actions: {-1, 0, 1}, where -1, 0, 1 represent selling, holding, and buying one share. Also, an action can be carried upon multiple shares. We use an action space {-k,…,-1, 0, 1, …, k}, where k denotes the number of shares to buy and -k denotes the number of shares to sell. For example, \"Buy 10 shares of AAPL\" or \"Sell 10 shares of AAPL\" are 10 or -10, respectively. The continuous action space needs to be normalized to [-1, 1], since the policy is defined on a Gaussian distribution, which needs to be normalized and symmetric."
   ]
  },
  {
   "cell_type": "code",
   "execution_count": null,
   "metadata": {},
   "outputs": [],
   "source": [
    "selfattn_indicator_list = [f\"temporal_feature_{i}\" for i in range(40)]"
   ]
  },
  {
   "cell_type": "code",
   "execution_count": null,
   "metadata": {},
   "outputs": [],
   "source": [
    "selected_tics = addfeature_df.tic.unique()\n",
    "selected_tics"
   ]
  },
  {
   "cell_type": "code",
   "execution_count": null,
   "metadata": {},
   "outputs": [],
   "source": [
    "TRAIN_START_DATE = addfeature_df['date'].unique()[0]"
   ]
  },
  {
   "cell_type": "code",
   "execution_count": null,
   "metadata": {},
   "outputs": [],
   "source": [
    "TRAIN_START_DATE"
   ]
  },
  {
   "cell_type": "code",
   "execution_count": null,
   "metadata": {},
   "outputs": [],
   "source": [
    "stock_dimension = 10\n",
    "state_space = 1 + 2*stock_dimension + len(INDICATORS)*stock_dimension + len(selfattn_indicator_list)*stock_dimension\n",
    "print(f\"Stock Dimension: {stock_dimension}, State Space: {state_space}\")"
   ]
  },
  {
   "cell_type": "code",
   "execution_count": null,
   "metadata": {
    "colab": {
     "base_uri": "https://localhost:8080/"
    },
    "id": "Q2zqII8rMIqn",
    "outputId": "0194749d-62ec-420f-9b54-492873c266a9"
   },
   "outputs": [],
   "source": [
    "stock_dimension = len(processed_df3.tic.unique())\n",
    "state_space = 1 + 2*stock_dimension + len(INDICATORS)*stock_dimension\n",
    "print(f\"Stock Dimension: {stock_dimension}, State Space: {state_space}\")\n"
   ]
  },
  {
   "cell_type": "code",
   "execution_count": null,
   "metadata": {
    "id": "AWyp84Ltto19"
   },
   "outputs": [],
   "source": [
    "env_kwargs = {\n",
    "    \"hmax\": 100, \n",
    "    \"initial_amount\": 1000000, \n",
    "    \"buy_cost_pct\": 0.001, \n",
    "    \"sell_cost_pct\": 0.001, \n",
    "    \"state_space\": state_space, \n",
    "    \"stock_dim\": stock_dimension, \n",
    "    \"tech_indicator_list\": INDICATORS,\n",
    "    \"action_space\": stock_dimension, \n",
    "    \"reward_scaling\": 1e-4,\n",
    "    \"print_verbosity\":5\n",
    "    \n",
    "}"
   ]
  },
  {
   "cell_type": "markdown",
   "metadata": {
    "id": "HMNR5nHjh1iz"
   },
   "source": [
    "<a id='5'></a>\n",
    "# Part 6: Implement DRL Algorithms\n",
    "* The implementation of the DRL algorithms are based on **OpenAI Baselines** and **Stable Baselines**. Stable Baselines is a fork of OpenAI Baselines, with a major structural refactoring, and code cleanups.\n",
    "* FinRL library includes fine-tuned standard DRL algorithms, such as DQN, DDPG,\n",
    "Multi-Agent DDPG, PPO, SAC, A2C and TD3. We also allow users to\n",
    "design their own DRL algorithms by adapting these DRL algorithms.\n",
    "\n",
    "* In this notebook, we are training and validating 3 agents (A2C, PPO, DDPG) using Rolling-window Ensemble Method ([reference code](https://github.com/AI4Finance-LLC/Deep-Reinforcement-Learning-for-Automated-Stock-Trading-Ensemble-Strategy-ICAIF-2020/blob/80415db8fa7b2179df6bd7e81ce4fe8dbf913806/model/models.py#L92))"
   ]
  },
  {
   "cell_type": "code",
   "execution_count": null,
   "metadata": {
    "id": "v-gthCxMtj1d"
   },
   "outputs": [],
   "source": [
    "rebalance_window = 63 # rebalance_window is the number of days to retrain the model\n",
    "validation_window = 63 # validation_window is the number of days to do validation and trading (e.g. if validation_window=63, then both validation and trading period will be 63 days)\n",
    "\n",
    "ensemble_agent = DRLEnsembleAgent(df=addfeature_df,\n",
    "                 train_period=(TRAIN_START_DATE,TRAIN_END_DATE),\n",
    "                 val_test_period=(TRADE_START_DATE,TRADE_END_DATE),\n",
    "                 rebalance_window=rebalance_window, \n",
    "                 validation_window=validation_window, \n",
    "                 attn_indicator_list = selfattn_indicator_list,                 \n",
    "                 **env_kwargs)\n",
    "\n"
   ]
  },
  {
   "cell_type": "code",
   "execution_count": null,
   "metadata": {},
   "outputs": [],
   "source": [
    "TRADE_START_DATE"
   ]
  },
  {
   "cell_type": "code",
   "execution_count": null,
   "metadata": {
    "id": "KsfEHa_Etj1d",
    "scrolled": false
   },
   "outputs": [],
   "source": [
    "SAC_model_kwargs = {\n",
    "    \"batch_size\": 128,\n",
    "    \"buffer_size\": 100000,\n",
    "    \"learning_rate\": 0.0001,\n",
    "    \"learning_starts\": 100,\n",
    "    \"ent_coef\": \"auto_0.1\",\n",
    "                }\n",
    "\n",
    "PPO_model_kwargs = {\n",
    "    \"ent_coef\":0.01,\n",
    "    \"n_steps\": 2048,\n",
    "    \"learning_rate\": 0.00025,\n",
    "    \"batch_size\": 128\n",
    "                    }\n",
    "\n",
    "TD3_model_kwargs = {\n",
    "    \"batch_size\": 128, \n",
    "    \"buffer_size\": 1000000, \n",
    "    \"learning_rate\": 0.001\n",
    "                }\n",
    "\n",
    "timesteps_dict = {'sac' : 10000, \n",
    "                 'ppo' : 10000, \n",
    "                 'td3' : 10000\n",
    "                 }"
   ]
  },
  {
   "cell_type": "code",
   "execution_count": null,
   "metadata": {},
   "outputs": [],
   "source": [
    "import torch\n",
    "device = torch.device(\"mps\")"
   ]
  },
  {
   "cell_type": "code",
   "execution_count": null,
   "metadata": {
    "colab": {
     "base_uri": "https://localhost:8080/"
    },
    "id": "_1lyCECstj1e",
    "outputId": "b2a1cfbc-ced9-4d06-dd9a-4300845e1113",
    "scrolled": true
   },
   "outputs": [],
   "source": [
    "df_summary = ensemble_agent.run_ensemble_strategy_com(SAC_model_kwargs,\n",
    "                                                 PPO_model_kwargs,\n",
    "                                                 TD3_model_kwargs,\n",
    "                                                 timesteps_dict)"
   ]
  },
  {
   "cell_type": "code",
   "execution_count": null,
   "metadata": {
    "colab": {
     "base_uri": "https://localhost:8080/",
     "height": 175
    },
    "id": "-0qd8acMtj1f",
    "outputId": "b5d9cb94-51a9-4569-a9a8-7e18f1139f4e"
   },
   "outputs": [],
   "source": [
    "df_summary"
   ]
  },
  {
   "cell_type": "markdown",
   "metadata": {
    "id": "W6vvNSC6h1jZ"
   },
   "source": [
    "<a id='6'></a>\n",
    "# Part 7: Backtest Our Strategy\n",
    "Backtesting plays a key role in evaluating the performance of a trading strategy. Automated backtesting tool is preferred because it reduces the human error. We usually use the Quantopian pyfolio package to backtest our trading strategies. It is easy to use and consists of various individual plots that provide a comprehensive image of the performance of a trading strategy."
   ]
  },
  {
   "cell_type": "code",
   "execution_count": null,
   "metadata": {
    "id": "X4JKB--8tj1g"
   },
   "outputs": [],
   "source": [
    "unique_trade_date = addfeature_df[(addfeature_df.date > TRADE_START_DATE)&(addfeature_df.date <= TRADE_END_DATE)].date.unique()"
   ]
  },
  {
   "cell_type": "code",
   "execution_count": null,
   "metadata": {
    "colab": {
     "base_uri": "https://localhost:8080/"
    },
    "id": "q9mKF7GGtj1g",
    "outputId": "8b89807b-ff71-4902-dd45-1f9111788cbb",
    "scrolled": true
   },
   "outputs": [],
   "source": [
    "df_trade_date = pd.DataFrame({'datadate':unique_trade_date})\n",
    "\n",
    "df_account_value=pd.DataFrame()\n",
    "for i in range(rebalance_window+validation_window, len(unique_trade_date)+1,rebalance_window):\n",
    "    temp = pd.read_csv('results/account_value_trade_{}_{}.csv'.format('ensemble',i))\n",
    "    df_account_value = df_account_value.append(temp,ignore_index=True)\n",
    "sharpe=(252**0.5)*df_account_value.account_value.pct_change(1).mean()/df_account_value.account_value.pct_change(1).std()\n",
    "print('Sharpe Ratio: ',sharpe)\n",
    "df_account_value=df_account_value.join(df_trade_date[validation_window:].reset_index(drop=True))"
   ]
  },
  {
   "cell_type": "code",
   "execution_count": null,
   "metadata": {},
   "outputs": [],
   "source": [
    "df_account_value"
   ]
  },
  {
   "cell_type": "code",
   "execution_count": null,
   "metadata": {},
   "outputs": [],
   "source": [
    "df_returns = df_account_value.iloc[:,0:2]\n",
    "df_returns"
   ]
  },
  {
   "cell_type": "code",
   "execution_count": null,
   "metadata": {},
   "outputs": [],
   "source": [
    "df_returns.to_csv('83_df_returns.csv',index=None)"
   ]
  },
  {
   "cell_type": "code",
   "execution_count": null,
   "metadata": {},
   "outputs": [],
   "source": [
    "df_account_value1"
   ]
  },
  {
   "cell_type": "code",
   "execution_count": null,
   "metadata": {
    "colab": {
     "base_uri": "https://localhost:8080/",
     "height": 206
    },
    "id": "oyosyW7_tj1g",
    "outputId": "d2dc62c2-e2a0-48fc-8183-0399d1b27f53"
   },
   "outputs": [],
   "source": [
    "df_account_value2 = df_account_value\n",
    "df_account_value2"
   ]
  },
  {
   "cell_type": "code",
   "execution_count": null,
   "metadata": {},
   "outputs": [],
   "source": [
    "df_returns1 = df_returns.iloc[:,[1,2]]\n",
    "df_returns1"
   ]
  },
  {
   "cell_type": "code",
   "execution_count": null,
   "metadata": {},
   "outputs": [],
   "source": [
    "df_returns1['return'] = df_returns1['3+'].pct_change()\n",
    "df_returns1['return'].fillna(0, inplace=True)"
   ]
  },
  {
   "cell_type": "code",
   "execution_count": null,
   "metadata": {},
   "outputs": [],
   "source": [
    "df_returns1['date'] = pd.to_datetime(df_returns1['date'])\n",
    "df_returns1.set_index('date',inplace=True)\n",
    "df_returns1.index = df_returns1.index.tz_localize(\"UTC\")\n",
    "returns = pd.Series(df_returns1[\"return\"], index=df_returns1.index)"
   ]
  },
  {
   "cell_type": "code",
   "execution_count": null,
   "metadata": {},
   "outputs": [],
   "source": [
    "baseline_sse"
   ]
  },
  {
   "cell_type": "code",
   "execution_count": null,
   "metadata": {},
   "outputs": [],
   "source": [
    "baseline_sse['account_value'] = baseline_sse['account_value']*(1000000/baseline_sse.iloc[0,1])\n",
    "baseline_sse"
   ]
  },
  {
   "cell_type": "code",
   "execution_count": null,
   "metadata": {},
   "outputs": [],
   "source": [
    "baseline_sse1 = baseline_sse\n",
    "baseline_sse1['date'] = pd.to_datetime(baseline_sse['date'])\n",
    "baseline_sse1.set_index('date',inplace=True)\n",
    "baseline_sse1.index = baseline_sse1.index.tz_localize(\"UTC\")"
   ]
  },
  {
   "cell_type": "code",
   "execution_count": null,
   "metadata": {},
   "outputs": [],
   "source": [
    "baseline_sse1['return'] = baseline_sse1['account_value'].pct_change()\n",
    "baseline_sse1['return'].fillna(0, inplace=True)\n",
    "baseline_sse1 = baseline_sse1.drop('account_value',axis=1)"
   ]
  },
  {
   "cell_type": "code",
   "execution_count": null,
   "metadata": {},
   "outputs": [],
   "source": [
    "%matplotlib inline\n",
    "import pyfolio as py\n",
    "py.create_returns_tear_sheet(returns,benchmark_rets=baseline_sse1)"
   ]
  },
  {
   "cell_type": "code",
   "execution_count": null,
   "metadata": {},
   "outputs": [],
   "source": [
    "df_returns = df_account_value.iloc[:,[0,2,3]]\n",
    "df_returns"
   ]
  },
  {
   "cell_type": "code",
   "execution_count": null,
   "metadata": {},
   "outputs": [],
   "source": [
    "df_returns.to_csv('724_2_df_returns.csv',index=None)"
   ]
  },
  {
   "cell_type": "code",
   "execution_count": null,
   "metadata": {},
   "outputs": [],
   "source": [
    "df_returns1 = df_returns\n",
    "df_returns1"
   ]
  },
  {
   "cell_type": "code",
   "execution_count": null,
   "metadata": {},
   "outputs": [],
   "source": [
    "df_returns"
   ]
  },
  {
   "cell_type": "code",
   "execution_count": null,
   "metadata": {},
   "outputs": [],
   "source": [
    "df_returns.columns = ['8+','date','3+']"
   ]
  },
  {
   "cell_type": "code",
   "execution_count": null,
   "metadata": {},
   "outputs": [],
   "source": [
    "df_returns = pd.read_csv('83_df_returns.csv')\n",
    "df_returns"
   ]
  },
  {
   "cell_type": "code",
   "execution_count": null,
   "metadata": {},
   "outputs": [],
   "source": [
    "df_returns = df_returns[['date','8+','3+']]"
   ]
  },
  {
   "cell_type": "code",
   "execution_count": null,
   "metadata": {},
   "outputs": [],
   "source": [
    "df_returns = pd.concat([df_returns,baseline_sse['account_value']],axis=1)\n",
    "# df_returns.columns = ['date','td3','sac','ppo','sse','ewtf']"
   ]
  },
  {
   "cell_type": "code",
   "execution_count": null,
   "metadata": {},
   "outputs": [],
   "source": [
    "df_returns.columns = ('date','8+','3+','sse')"
   ]
  },
  {
   "cell_type": "code",
   "execution_count": null,
   "metadata": {},
   "outputs": [],
   "source": [
    "df_returns = df_returns.drop('sse',axis=1)"
   ]
  },
  {
   "cell_type": "code",
   "execution_count": null,
   "metadata": {},
   "outputs": [],
   "source": [
    "df_returns"
   ]
  },
  {
   "cell_type": "code",
   "execution_count": null,
   "metadata": {},
   "outputs": [],
   "source": [
    "df_returns['date'] = pd.to_datetime(df_returns['date'])"
   ]
  },
  {
   "cell_type": "code",
   "execution_count": null,
   "metadata": {},
   "outputs": [],
   "source": [
    "%matplotlib inline\n",
    "import matplotlib.pyplot as plt\n",
    "plt.figure(figsize= (11,6))\n",
    "\n",
    "plt.plot(df_returns['date'],df_returns['8+'],label = 'D=8',color = (57/255,81/255,162/255))\n",
    "plt.plot(df_returns['date'],df_returns['3+'],label = 'D=3',color = (168/255,3/255,38/255))\n",
    "plt.plot(df_returns['date'],df_returns['sse'],label = 'sse',color = (253/255,183/255,107/255))\n",
    "# plt.plot(df_returns['date'],df_returns['sse'],label = 'B&H',color = (168/255,3/255,38/255))\n",
    "# plt.plot(df_returns['date'],df_returns['ewtf'],label = 'ewtf',color = (253/255,183/255,107/255))\n",
    "# plt.plot(df_returns['date'],df_returns['our'],label = 'our',color = (57/255,81/255,162/255))\n",
    "# plt.plot(df_returns['date'],df_returns['van'],label = 'van',color = (200/255,100/255,162/255))\n",
    "\n",
    "plt.legend()\n",
    "plt.title('')\n",
    "plt.xlabel('date')\n",
    "plt.ylabel('Cumulative returns')\n",
    "# plt.grid()\n",
    "plt.show()"
   ]
  },
  {
   "cell_type": "code",
   "execution_count": null,
   "metadata": {},
   "outputs": [],
   "source": [
    "df_returns = df_returns.reindex(columns=['date','account_value'])"
   ]
  },
  {
   "cell_type": "code",
   "execution_count": null,
   "metadata": {},
   "outputs": [],
   "source": [
    "df_returns.columns = ['date','td3','sac','ppo','sse','ewtf','van','our']"
   ]
  },
  {
   "cell_type": "code",
   "execution_count": null,
   "metadata": {},
   "outputs": [],
   "source": [
    "df_returns = pd.read_csv('724_df_returns.csv')"
   ]
  },
  {
   "cell_type": "code",
   "execution_count": null,
   "metadata": {},
   "outputs": [],
   "source": [
    "df_returns['date'] = pd.to_datetime(df_returns['date'])"
   ]
  },
  {
   "cell_type": "code",
   "execution_count": null,
   "metadata": {},
   "outputs": [],
   "source": [
    "df_returns.to_csv('727_df_returns.csv')"
   ]
  },
  {
   "cell_type": "code",
   "execution_count": null,
   "metadata": {},
   "outputs": [],
   "source": [
    "import matplotlib.pyplot as plt\n",
    "plt.figure(figsize= (11,6))\n",
    "\n",
    "plt.plot(df_returns['date'],df_returns['td3'],label = 'td3',color = 'dodgerblue')\n",
    "plt.plot(df_returns['date'],df_returns['sac'],label = 'sac',color = 'red')\n",
    "plt.plot(df_returns['date'],df_returns['ppo'],label = 'ppo',color = 'limegreen')\n",
    "plt.plot(df_returns['date'],df_returns['sse'],label = 'sse',color = 'gold')\n",
    "plt.plot(df_returns['date'],df_returns['ewtf'],label = 'ewtf',color = 'goldenrod')\n",
    "plt.plot(df_returns['date'],df_returns['our'],label = 'our',color = 'blue')\n",
    "\n",
    "plt.legend()\n",
    "plt.title('profit vs')\n",
    "plt.xlabel('date')\n",
    "plt.ylabel('profit')\n",
    "plt.grid()\n",
    "plt.show()"
   ]
  },
  {
   "cell_type": "code",
   "execution_count": null,
   "metadata": {},
   "outputs": [],
   "source": [
    "df_returns.to_csv('724_df_returns.csv',index=None)"
   ]
  },
  {
   "cell_type": "code",
   "execution_count": null,
   "metadata": {
    "colab": {
     "base_uri": "https://localhost:8080/",
     "height": 293
    },
    "id": "wLsRdw2Ctj1h",
    "outputId": "9a874df9-2c5f-423c-8fd2-8966aab63fc0"
   },
   "outputs": [],
   "source": [
    "%matplotlib inline\n",
    "df_account_value.account_value.plot()"
   ]
  },
  {
   "cell_type": "markdown",
   "metadata": {
    "id": "Lr2zX7ZxNyFQ"
   },
   "source": [
    "<a id='6.1'></a>\n",
    "## 7.1 BackTestStats\n",
    "pass in df_account_value, this information is stored in env class\n"
   ]
  },
  {
   "cell_type": "code",
   "execution_count": null,
   "metadata": {
    "colab": {
     "base_uri": "https://localhost:8080/"
    },
    "id": "Nzkr9yv-AdV_",
    "outputId": "b419a565-8c15-47d8-f66c-00f81c3c526d",
    "scrolled": false
   },
   "outputs": [],
   "source": [
    "print(\"==============Get Backtest Results===========\")\n",
    "#now = datetime.datetime.now().strftime('%Y%m%d-%Hh%M')\n",
    "\n",
    "perf_stats_all = backtest_stats(account_value=df_account_value)\n",
    "perf_stats_all = pd.DataFrame(perf_stats_all)\n",
    "#perf_stats_all.to_csv(\"./\"+RESULTS_DIR+\"/perf_stats_all_\"+now+'.csv')"
   ]
  },
  {
   "cell_type": "code",
   "execution_count": null,
   "metadata": {},
   "outputs": [],
   "source": [
    "print(\"==============Get Backtest Results===========\")\n",
    "#now = datetime.datetime.now().strftime('%Y%m%d-%Hh%M')\n",
    "\n",
    "perf_stats_all = backtest_stats(account_value=df_account_value)\n",
    "perf_stats_all = pd.DataFrame(perf_stats_all)\n",
    "#perf_stats_all.to_csv(\"./\"+RESULTS_DIR+\"/perf_stats_all_\"+now+'.csv')"
   ]
  },
  {
   "cell_type": "code",
   "execution_count": null,
   "metadata": {},
   "outputs": [],
   "source": [
    "selected_tics = addfeature_df['tic'].unique()"
   ]
  },
  {
   "cell_type": "code",
   "execution_count": null,
   "metadata": {},
   "outputs": [],
   "source": [
    "#获取随机选择的tic在select_date的权重并修正\n",
    "def get_selected_index_weight(df_index,select_date,selected_tics):\n",
    "    df = df_index[df_index['trade_date'] == select_date]\n",
    "    select_df = df[df['con_code'].isin(selected_tics)]\n",
    "    select_df = select_df.drop('index_code',axis=1).rename(columns={'con_code':'tic','trade_date':'date'})\n",
    "    select_df = select_df.reset_index()\n",
    "    weight_sum = select_df['weight'].sum()\n",
    "#     print(select_df)\n",
    "    for i in range(len(select_df)):\n",
    "        select_df.loc[i,'weight'] = (select_df.loc[i,'weight'] / weight_sum)*100\n",
    "    return select_df.loc[:,['tic','date','weight']]\n",
    "\n",
    "baseline_weight =get_selected_index_weight(df_index,select_date,selected_tics)\n",
    "baseline_weight = baseline_weight.sort_values(['tic'],ascending=True).reset_index(drop=True)\n",
    "print(baseline_weight)"
   ]
  },
  {
   "cell_type": "code",
   "execution_count": null,
   "metadata": {},
   "outputs": [],
   "source": [
    "#计算所选股票的buy & hold策略\n",
    "def calculate_selected_baseline(df,full_date_range,selected_tics):\n",
    "    df = df.sort_values(['tic','date'],ascending=True).reset_index(drop=True)\n",
    "    baseline = pd.DataFrame({'date':full_date_range['date']})\n",
    "    for i in range(len(full_date_range)):\n",
    "        temp_date = full_date_range.loc[i,'date']\n",
    "        temp_df = df[df['date'] == temp_date].sort_values('tic',ascending=True)\n",
    "        close = list(temp_df['close'])\n",
    "        weight = list(baseline_weight['weight'])\n",
    "        baseline.loc[i,'account_value'] = sum(np.array(close) * np.array(weight)) #注意权重和收盘价对应的股票顺序\n",
    "    baseline['date'] = pd.to_datetime(baseline['date'])\n",
    "#     baseline.set_index(\"date\", inplace=True, drop=True)\n",
    "#     baseline.index = baseline.index.tz_localize(\"UTC\")\n",
    "    return baseline\n",
    "# full_date_range = get_trading_days(exchange='SSE',start_date='20210301', end_date='20230227')\n",
    "# full_date_range = full_date_range.sort_values('trade_date',ascending=True).reset_index(drop=True)\n",
    "full_date_range1 = pd.DataFrame({'date':df_account_value['date'].unique()}).reset_index(drop=True)\n",
    "baseline_sse = calculate_selected_baseline(addfeature_df,full_date_range1,selected_tics)\n",
    "baseline_sse"
   ]
  },
  {
   "cell_type": "code",
   "execution_count": null,
   "metadata": {
    "colab": {
     "base_uri": "https://localhost:8080/"
    },
    "id": "DiHhM1YkoCel",
    "outputId": "903ef035-f9f4-4678-d18a-1516254eaf3e"
   },
   "outputs": [],
   "source": [
    "#baseline stats\n",
    "print(\"==============Get Baseline Stats===========\")\n",
    "# baseline_df = get_baseline(\n",
    "#         ticker=\"^DJI\", \n",
    "#         start = df_account_value.loc[0,'date'],\n",
    "#         end = df_account_value.loc[len(df_account_value)-1,'date'])\n",
    "\n",
    "stats = backtest_stats(baseline_sse, value_col_name = 'account_value')"
   ]
  },
  {
   "cell_type": "markdown",
   "metadata": {
    "id": "9U6Suru3h1jc"
   },
   "source": [
    "<a id='6.2'></a>\n",
    "## 7.2 BackTestPlot"
   ]
  },
  {
   "cell_type": "code",
   "execution_count": null,
   "metadata": {},
   "outputs": [],
   "source": [
    "import pyfolio\n",
    "from copy import deepcopy\n",
    "def backtest_plot_com(\n",
    "    account_value,\n",
    "    baseline,\n",
    "    baseline_start=TRADE_START_DATE,\n",
    "    baseline_end=TRADE_END_DATE,\n",
    "    value_col_name=\"account_value\",\n",
    "):\n",
    "    df = deepcopy(account_value)\n",
    "    df[\"date\"] = pd.to_datetime(df[\"date\"])\n",
    "    test_returns = get_daily_return(df, value_col_name=value_col_name)\n",
    "#     pro = ts.pro_api()\n",
    "#     baseline_df = pro.index_daily(ts_code='000016.sh',start_date = '20200301',end_date='20230227')\n",
    "#     baseline_df = baseline_df.rename(columns={'trade_date':'date'})\n",
    "#     baseline_df = baseline_df.sort_values('date',ascending=True)\n",
    "    baseline_returns = get_daily_return(baseline, value_col_name=value_col_name)\n",
    "    with pyfolio.plotting.plotting_context(font_scale=1.1):\n",
    "        pyfolio.create_full_tear_sheet(\n",
    "            returns=test_returns, benchmark_rets=baseline_returns, set_context=False\n",
    "        )"
   ]
  },
  {
   "cell_type": "code",
   "execution_count": null,
   "metadata": {
    "colab": {
     "base_uri": "https://localhost:8080/",
     "height": 1000
    },
    "id": "HggausPRoCem",
    "outputId": "e61a64e0-58ed-4490-b19a-78bd4f76e666"
   },
   "outputs": [],
   "source": [
    "print(\"==============Compare to SSE50===========\")\n",
    "# from finrl.plot import backtest_plot_com\n",
    "%matplotlib inline\n",
    "# S&P 500: ^GSPC\n",
    "# Dow Jones Index: ^DJI\n",
    "# NASDAQ 100: ^NDX\n",
    "backtest_plot_com(account_value = df_account_value, \n",
    "                  baseline = baseline_sse,\n",
    "                  baseline_start = df_account_value.loc[len(df_account_value)-1,'date'],\n",
    "                  baseline_end = df_account_value.loc[0,'date']\n",
    "                     )"
   ]
  },
  {
   "cell_type": "code",
   "execution_count": null,
   "metadata": {},
   "outputs": [],
   "source": [
    "print(\"==============Compare to SSE50===========\")\n",
    "# from finrl.plot import backtest_plot_com\n",
    "%matplotlib inline\n",
    "# S&P 500: ^GSPC\n",
    "# Dow Jones Index: ^DJI\n",
    "# NASDAQ 100: ^NDX\n",
    "backtest_plot_com(account_value = df_account_value, \n",
    "                  baseline = baseline_sse,\n",
    "                  baseline_start = df_account_value.loc[len(df_account_value)-1,'date'],\n",
    "                  baseline_end = df_account_value.loc[0,'date']\n",
    "                     )"
   ]
  },
  {
   "cell_type": "code",
   "execution_count": null,
   "metadata": {},
   "outputs": [],
   "source": [
    "print(\"==============Compare to SSE50===========\")\n",
    "# from finrl.plot import backtest_plot_com\n",
    "%matplotlib inline\n",
    "# S&P 500: ^GSPC\n",
    "# Dow Jones Index: ^DJI\n",
    "# NASDAQ 100: ^NDX\n",
    "backtest_plot_com(account_value = df_account_value, \n",
    "                  baseline = baseline_sse,\n",
    "                  baseline_start = df_account_value.loc[len(df_account_value)-1,'date'],\n",
    "                  baseline_end = df_account_value.loc[0,'date']\n",
    "                     )"
   ]
  },
  {
   "cell_type": "code",
   "execution_count": null,
   "metadata": {},
   "outputs": [],
   "source": [
    "print(\"==============Compare to SSE50===========\")\n",
    "# from finrl.plot import backtest_plot_com\n",
    "%matplotlib inline\n",
    "# S&P 500: ^GSPC\n",
    "# Dow Jones Index: ^DJI\n",
    "# NASDAQ 100: ^NDX\n",
    "backtest_plot_com(account_value = df_account_value, \n",
    "                  baseline = baseline_sse,\n",
    "                  baseline_start = df_account_value.loc[len(df_account_value)-1,'date'],\n",
    "                  baseline_end = df_account_value.loc[0,'date']\n",
    "                     )"
   ]
  },
  {
   "cell_type": "markdown",
   "metadata": {
    "id": "oBQx4bVQFi-a"
   },
   "source": []
  }
 ],
 "metadata": {
  "accelerator": "GPU",
  "colab": {
   "collapsed_sections": [],
   "name": "FinRL_Ensemble_StockTrading_ICAIF_2020.ipynb",
   "provenance": []
  },
  "kernelspec": {
   "display_name": "Python 3 (ipykernel)",
   "language": "python",
   "name": "python3"
  },
  "language_info": {
   "codemirror_mode": {
    "name": "ipython",
    "version": 3
   },
   "file_extension": ".py",
   "mimetype": "text/x-python",
   "name": "python",
   "nbconvert_exporter": "python",
   "pygments_lexer": "ipython3",
   "version": "3.8.16"
  },
  "pycharm": {
   "stem_cell": {
    "cell_type": "raw",
    "metadata": {
     "collapsed": false
    },
    "source": []
   }
  }
 },
 "nbformat": 4,
 "nbformat_minor": 1
}
